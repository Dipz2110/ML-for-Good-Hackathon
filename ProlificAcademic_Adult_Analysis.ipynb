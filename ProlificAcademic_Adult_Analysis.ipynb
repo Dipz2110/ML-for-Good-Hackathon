{
 "cells": [
  {
   "cell_type": "markdown",
   "metadata": {},
   "source": [
    "###### Import Libraries"
   ]
  },
  {
   "cell_type": "code",
   "execution_count": 1,
   "metadata": {},
   "outputs": [],
   "source": [
    "import pandas as pd\n",
    "import numpy as np\n",
    "import matplotlib.pyplot as plt\n",
    "import plotly.express as px\n",
    "import seaborn as sns"
   ]
  },
  {
   "cell_type": "code",
   "execution_count": 2,
   "metadata": {},
   "outputs": [],
   "source": [
    "%matplotlib inline"
   ]
  },
  {
   "cell_type": "code",
   "execution_count": 3,
   "metadata": {},
   "outputs": [],
   "source": [
    "#!pip install factor_analyzer"
   ]
  },
  {
   "cell_type": "markdown",
   "metadata": {},
   "source": [
    "##### Functions"
   ]
  },
  {
   "cell_type": "code",
   "execution_count": 4,
   "metadata": {},
   "outputs": [],
   "source": [
    "#Below Function converts covid worry related likert scale answers into a combined % score\n",
    "covidworry_cols=['worriedyourself','worriedothers','worriedphysical','worriedmental']\n",
    "worrytotal=len(covidworry_cols)*5\n",
    "def getCovidWorryIndex(row):\n",
    "    global worrytotal\n",
    "    worriedyourself=row[0]\n",
    "    worriedothers=row[1]\n",
    "    worriedphysical=row[2]\n",
    "    worriedmental=row[3]\n",
    "    #print(row)\n",
    "    return round((worriedyourself+worriedothers+worriedphysical+worriedmental)/worrytotal*100,2)"
   ]
  },
  {
   "cell_type": "code",
   "execution_count": 5,
   "metadata": {},
   "outputs": [],
   "source": [
    "#Below Function converts mood states/emotions related likert scale answers into a combined % score\n",
    "priorworry3_cols=['priorworry','priorhappyvssad','priorenjoyactivities','priorrelaxedvsanxious',\n",
    "         'priorfidget', 'priorfatigue', 'priorfocus', 'priorirritable','priorlonely', \n",
    "         'priornegthoughts']\n",
    "\n",
    "moodtotal=len(priorworry3_cols)*5\n",
    "def getMoodStateIndex(row):\n",
    "    global moodtotal\n",
    "    priorworry=row[0]\n",
    "    priorhappyvssad=row[1]\n",
    "    priorenjoyactivities=row[2]\n",
    "    priorrelaxedvsanxious=row[3]\n",
    "    priorfidget=row[4]\n",
    "    priorfatigue=row[5]\n",
    "    priorfocus=row[6]\n",
    "    priorirritable=row[7]\n",
    "    priorlonely=row[8]\n",
    "    priornegthoughts=row[9]\n",
    "    \n",
    "    #Flipping scales to have the same order in all the cases i.e. positive to negative\n",
    "    if priorhappyvssad==1:\n",
    "        priorhappyvssad=5\n",
    "    elif priorhappyvssad==2:\n",
    "        priorhappyvssad=4\n",
    "    elif priorhappyvssad==4:\n",
    "        priorhappyvssad=2\n",
    "    elif priorhappyvssad==5:\n",
    "        priorhappyvssad=1\n",
    "    else:\n",
    "        priorhappyvssad=3\n",
    "        \n",
    "  \n",
    "    if priorenjoyactivities==1:\n",
    "        priorenjoyactivities=5\n",
    "    elif priorenjoyactivities==2:\n",
    "        priorenjoyactivities=4\n",
    "    elif priorenjoyactivities==4:\n",
    "        priorenjoyactivities=2;\n",
    "    elif priorenjoyactivities==5:\n",
    "        priorenjoyactivities=1\n",
    "    else:\n",
    "        priorenjoyactivities=3\n",
    "        \n",
    "    return round(((priorworry+priorhappyvssad+priorenjoyactivities+priorrelaxedvsanxious+priorfidget+priorfatigue+priorfocus+priorirritable+priorlonely+priornegthoughts)/moodtotal)*100,2)\n"
   ]
  },
  {
   "cell_type": "code",
   "execution_count": 6,
   "metadata": {},
   "outputs": [],
   "source": [
    "#Below Function converts media use related likert scale answers into a combined % score\n",
    "priormedia3_cols=['priortvmedia','priorsocialmedia','priorvideogames']\n",
    "mediatotal=len(priormedia3_cols)*5\n",
    "def getMediaUseIndex(row):\n",
    "    global mediatotal\n",
    "    priortvmedia=row[0]\n",
    "    priorsocialmedia=row[1]\n",
    "    priorvideogames=row[2]\n",
    "    #print(row)\n",
    "    return round(((priortvmedia+priorsocialmedia+priorvideogames)/mediatotal)*100,2)\n",
    " "
   ]
  },
  {
   "cell_type": "code",
   "execution_count": 7,
   "metadata": {},
   "outputs": [],
   "source": [
    "#Below Function converts Substance use related likert scale answers into a combined % score\n",
    "priorsubstance3_cols=['threemonthsalcohol','threemonthsvaping','threemonthstobacco','threemonthsmarijuana','threemonthsopiates',\n",
    "'threemonthsother','threemonthssleepingmeds']\n",
    "substancetotal=len(priorsubstance3_cols)*8\n",
    "def getSubstanceUseIndex(row):\n",
    "    global substancetotal\n",
    "    threemonthsalcohol=row[0]\n",
    "    threemonthsvaping=row[1]\n",
    "    threemonthstobacco=row[2]\n",
    "    threemonthsmarijuana=row[3]\n",
    "    threemonthsopiates=row[4]\n",
    "    threemonthsother=row[5]\n",
    "    threemonthssleepingmeds=row[6]\n",
    "    #print(row)\n",
    "    return round(((threemonthsalcohol+threemonthsvaping+threemonthstobacco+threemonthsmarijuana+threemonthsopiates+threemonthsother+threemonthssleepingmeds)/substancetotal)*100,2)\n"
   ]
  },
  {
   "cell_type": "code",
   "execution_count": 8,
   "metadata": {},
   "outputs": [],
   "source": [
    "#Below Function converts daily behavior related likert scale answers into a combined % score\n",
    "priorbehaviour3_cols=['bedtimeweekdays','bedtimeweekends','hoursofsleepweekdays','hoursofsleepweekends','exerciseprior','outdoorsprior']\n",
    "behaviourtotal=len(priorbehaviour3_cols)*4\n",
    "def getBehaviourIndex(row):\n",
    "    global behaviourtotal\n",
    "    bedtimeweekdays=row[0]\n",
    "    bedtimeweekends=row[1]\n",
    "    hoursofsleepweekdays=row[2]\n",
    "    hoursofsleepweekends=row[3]\n",
    "    exerciseprior=row[4]\n",
    "    outdoorsprior=row[5]\n",
    "    #print(row)\n",
    "    return round(((bedtimeweekdays+bedtimeweekends+hoursofsleepweekdays+hoursofsleepweekends+exerciseprior+outdoorsprior)/behaviourtotal)*100,2)\n",
    " "
   ]
  },
  {
   "cell_type": "code",
   "execution_count": 9,
   "metadata": {},
   "outputs": [],
   "source": [
    "#Below Function converts life Changes related likert scale answers into a combined % score\n",
    "lifechanges_stress_cols=['restrictionsstress','contactschanged','difficultydistancing','familychange','familychangestress',\n",
    "                         'friendschange','friendchangestress','difficultycancellations','financedifficulty',\n",
    "                         'livingdifficulty']\n",
    "lifechangestresstotal=len(lifechanges_stress_cols)*5\n",
    "def getLifechnageStressIndex(row):\n",
    "    global lifechangestresstotal\n",
    "    restrictionsstress=row[0]\n",
    "    contactschanged=row[1]\n",
    "    difficultydistancing=row[2]\n",
    "    familychange=row[3]\n",
    "    familychangestress=row[4]\n",
    "    friendschange=row[5]\n",
    "    friendchangestress=row[6]\n",
    "    difficultycancellations=row[7]\n",
    "    financedifficulty=row[8]\n",
    "    livingdifficulty=row[9]\n",
    "    \n",
    "\n",
    "    #Flipping scales to have the same order in all the cases i.e. positive to negative\n",
    "    if familychange==1:\n",
    "        familychange=5\n",
    "    elif familychange==2:\n",
    "        familychange=4\n",
    "    elif familychange==4:\n",
    "        familychange=2\n",
    "    elif familychange==5:\n",
    "        familychange=1\n",
    "    else:\n",
    "        familychange=3\n",
    "        \n",
    "  \n",
    "    if friendschange==1:\n",
    "        friendschange=5\n",
    "    elif friendschange==2:\n",
    "        friendschange=4\n",
    "    elif friendschange==4:\n",
    "        friendschange=2\n",
    "    elif friendschange==5:\n",
    "        friendschange=1\n",
    "    else:\n",
    "        friendschange=3\n",
    "\n",
    "    return round(((restrictionsstress+contactschanged+difficultydistancing+familychange+familychangestress+friendschange+friendchangestress+difficultycancellations+financedifficulty+livingdifficulty)/lifechangestresstotal)*100,2)\n"
   ]
  },
  {
   "cell_type": "code",
   "execution_count": 10,
   "metadata": {},
   "outputs": [],
   "source": [
    "##Convert into classes from Mood Index\n",
    "def get2WkPriorMoodStateClass(row):\n",
    "    if row>=70:\n",
    "        return \"Extremely Stressed\"\n",
    "    elif row>=50 and row<70:\n",
    "        return \"Moderately Stressed\"\n",
    "    else:\n",
    "        return \"Normal\""
   ]
  },
  {
   "cell_type": "code",
   "execution_count": 11,
   "metadata": {},
   "outputs": [
    {
     "data": {
      "text/html": [
       "<div>\n",
       "<style scoped>\n",
       "    .dataframe tbody tr th:only-of-type {\n",
       "        vertical-align: middle;\n",
       "    }\n",
       "\n",
       "    .dataframe tbody tr th {\n",
       "        vertical-align: top;\n",
       "    }\n",
       "\n",
       "    .dataframe thead th {\n",
       "        text-align: right;\n",
       "    }\n",
       "</style>\n",
       "<table border=\"1\" class=\"dataframe\">\n",
       "  <thead>\n",
       "    <tr style=\"text-align: right;\">\n",
       "      <th></th>\n",
       "      <th>OID</th>\n",
       "      <th>Adult_ID</th>\n",
       "      <th>Parent_ID</th>\n",
       "    </tr>\n",
       "  </thead>\n",
       "  <tbody>\n",
       "    <tr>\n",
       "      <th>0</th>\n",
       "      <td>08596819ef88b78ca300</td>\n",
       "      <td>78d8a910</td>\n",
       "      <td>_NA_</td>\n",
       "    </tr>\n",
       "    <tr>\n",
       "      <th>1</th>\n",
       "      <td>76707cf76e9c496b657f</td>\n",
       "      <td>93ea2411</td>\n",
       "      <td>_NA_</td>\n",
       "    </tr>\n",
       "    <tr>\n",
       "      <th>2</th>\n",
       "      <td>a1744543ec05b2008e25</td>\n",
       "      <td>0cd23e27</td>\n",
       "      <td>_NA_</td>\n",
       "    </tr>\n",
       "    <tr>\n",
       "      <th>3</th>\n",
       "      <td>11f743d4a8f298d8018e</td>\n",
       "      <td>f83b9799</td>\n",
       "      <td>_NA_</td>\n",
       "    </tr>\n",
       "    <tr>\n",
       "      <th>4</th>\n",
       "      <td>b448745d796c5b71c14e</td>\n",
       "      <td>be3c3092</td>\n",
       "      <td>_NA_</td>\n",
       "    </tr>\n",
       "  </tbody>\n",
       "</table>\n",
       "</div>"
      ],
      "text/plain": [
       "                    OID  Adult_ID Parent_ID\n",
       "0  08596819ef88b78ca300  78d8a910      _NA_\n",
       "1  76707cf76e9c496b657f  93ea2411      _NA_\n",
       "2  a1744543ec05b2008e25  0cd23e27      _NA_\n",
       "3  11f743d4a8f298d8018e  f83b9799      _NA_\n",
       "4  b448745d796c5b71c14e  be3c3092      _NA_"
      ]
     },
     "execution_count": 11,
     "metadata": {},
     "output_type": "execute_result"
    }
   ],
   "source": [
    "mappind_df = pd.read_csv('Data/ProlificAcademic/updated_data/ID_Key.csv')\n",
    "mappind_df.fillna(\"_NA_\", inplace=True)\n",
    "mappind_df.head()"
   ]
  },
  {
   "cell_type": "code",
   "execution_count": 12,
   "metadata": {},
   "outputs": [],
   "source": [
    "def isParent(row):\n",
    "    if row!=\"_NA_\":\n",
    "        return 1\n",
    "    else:\n",
    "        return 0"
   ]
  },
  {
   "cell_type": "markdown",
   "metadata": {},
   "source": [
    "### April 2020 - Adult"
   ]
  },
  {
   "cell_type": "code",
   "execution_count": 13,
   "metadata": {},
   "outputs": [],
   "source": [
    "adult_df = pd.read_csv('Data/ProlificAcademic/updated_data/April/CRISIS_Adult_April_2020.csv')"
   ]
  },
  {
   "cell_type": "code",
   "execution_count": 14,
   "metadata": {},
   "outputs": [],
   "source": [
    "adult_df['YearMonth']=\"2020-04\""
   ]
  },
  {
   "cell_type": "code",
   "execution_count": 15,
   "metadata": {},
   "outputs": [
    {
     "name": "stdout",
     "output_type": "stream",
     "text": [
      "(2868, 245)\n",
      "(2868, 247)\n"
     ]
    }
   ],
   "source": [
    "print(adult_df.shape)\n",
    "adult_df=pd.merge(adult_df,mappind_df[['Adult_ID','Parent_ID']],left_on=['ID'],right_on=['Adult_ID'],how='left')\n",
    "print(adult_df.shape)\n",
    "adult_df['isparent']=adult_df['Parent_ID'].apply(isParent)"
   ]
  },
  {
   "cell_type": "code",
   "execution_count": 16,
   "metadata": {},
   "outputs": [
    {
     "data": {
      "text/html": [
       "<div>\n",
       "<style scoped>\n",
       "    .dataframe tbody tr th:only-of-type {\n",
       "        vertical-align: middle;\n",
       "    }\n",
       "\n",
       "    .dataframe tbody tr th {\n",
       "        vertical-align: top;\n",
       "    }\n",
       "\n",
       "    .dataframe thead th {\n",
       "        text-align: right;\n",
       "    }\n",
       "</style>\n",
       "<table border=\"1\" class=\"dataframe\">\n",
       "  <thead>\n",
       "    <tr style=\"text-align: right;\">\n",
       "      <th></th>\n",
       "      <th>ID</th>\n",
       "      <th>timestamp1</th>\n",
       "      <th>country</th>\n",
       "      <th>age</th>\n",
       "      <th>sex</th>\n",
       "      <th>sex_other</th>\n",
       "      <th>raceethnicity___1</th>\n",
       "      <th>raceethnicity___2</th>\n",
       "      <th>raceethnicity___3</th>\n",
       "      <th>raceethnicity___4</th>\n",
       "      <th>...</th>\n",
       "      <th>sx_ct3</th>\n",
       "      <th>age_bin</th>\n",
       "      <th>schoolclosed_recode</th>\n",
       "      <th>Apr_cms_ave</th>\n",
       "      <th>Apr_cw_ave</th>\n",
       "      <th>Apr_lc_subtype</th>\n",
       "      <th>YearMonth</th>\n",
       "      <th>Adult_ID</th>\n",
       "      <th>Parent_ID</th>\n",
       "      <th>isparent</th>\n",
       "    </tr>\n",
       "  </thead>\n",
       "  <tbody>\n",
       "    <tr>\n",
       "      <th>0</th>\n",
       "      <td>00136f50</td>\n",
       "      <td>2020-04-09 00:13:00</td>\n",
       "      <td>187.0</td>\n",
       "      <td>18.0</td>\n",
       "      <td>1.0</td>\n",
       "      <td>NaN</td>\n",
       "      <td>0</td>\n",
       "      <td>0</td>\n",
       "      <td>0</td>\n",
       "      <td>0</td>\n",
       "      <td>...</td>\n",
       "      <td>1</td>\n",
       "      <td>30_under</td>\n",
       "      <td>onlineclasses</td>\n",
       "      <td>NaN</td>\n",
       "      <td>NaN</td>\n",
       "      <td>NaN</td>\n",
       "      <td>2020-04</td>\n",
       "      <td>00136f50</td>\n",
       "      <td>_NA_</td>\n",
       "      <td>0</td>\n",
       "    </tr>\n",
       "    <tr>\n",
       "      <th>1</th>\n",
       "      <td>003db2d0</td>\n",
       "      <td>2020-04-09 16:39:00</td>\n",
       "      <td>187.0</td>\n",
       "      <td>34.0</td>\n",
       "      <td>1.0</td>\n",
       "      <td>NaN</td>\n",
       "      <td>0</td>\n",
       "      <td>0</td>\n",
       "      <td>0</td>\n",
       "      <td>0</td>\n",
       "      <td>...</td>\n",
       "      <td>1</td>\n",
       "      <td>30-49</td>\n",
       "      <td>notapplicable</td>\n",
       "      <td>NaN</td>\n",
       "      <td>NaN</td>\n",
       "      <td>NaN</td>\n",
       "      <td>2020-04</td>\n",
       "      <td>003db2d0</td>\n",
       "      <td>_NA_</td>\n",
       "      <td>0</td>\n",
       "    </tr>\n",
       "    <tr>\n",
       "      <th>2</th>\n",
       "      <td>005a1e3e</td>\n",
       "      <td>2020-04-09 17:10:00</td>\n",
       "      <td>187.0</td>\n",
       "      <td>24.0</td>\n",
       "      <td>2.0</td>\n",
       "      <td>NaN</td>\n",
       "      <td>0</td>\n",
       "      <td>0</td>\n",
       "      <td>0</td>\n",
       "      <td>0</td>\n",
       "      <td>...</td>\n",
       "      <td>0</td>\n",
       "      <td>30_under</td>\n",
       "      <td>notapplicable</td>\n",
       "      <td>NaN</td>\n",
       "      <td>NaN</td>\n",
       "      <td>NaN</td>\n",
       "      <td>2020-04</td>\n",
       "      <td>005a1e3e</td>\n",
       "      <td>_NA_</td>\n",
       "      <td>0</td>\n",
       "    </tr>\n",
       "    <tr>\n",
       "      <th>3</th>\n",
       "      <td>005ef0c4</td>\n",
       "      <td>2020-04-09 16:18:00</td>\n",
       "      <td>187.0</td>\n",
       "      <td>51.0</td>\n",
       "      <td>1.0</td>\n",
       "      <td>NaN</td>\n",
       "      <td>1</td>\n",
       "      <td>0</td>\n",
       "      <td>0</td>\n",
       "      <td>0</td>\n",
       "      <td>...</td>\n",
       "      <td>0</td>\n",
       "      <td>50_over</td>\n",
       "      <td>notapplicable</td>\n",
       "      <td>1.3</td>\n",
       "      <td>3.5</td>\n",
       "      <td>1.0</td>\n",
       "      <td>2020-04</td>\n",
       "      <td>005ef0c4</td>\n",
       "      <td>_NA_</td>\n",
       "      <td>0</td>\n",
       "    </tr>\n",
       "    <tr>\n",
       "      <th>4</th>\n",
       "      <td>00601150</td>\n",
       "      <td>2020-04-09 16:04:00</td>\n",
       "      <td>187.0</td>\n",
       "      <td>38.0</td>\n",
       "      <td>2.0</td>\n",
       "      <td>NaN</td>\n",
       "      <td>0</td>\n",
       "      <td>0</td>\n",
       "      <td>0</td>\n",
       "      <td>0</td>\n",
       "      <td>...</td>\n",
       "      <td>1</td>\n",
       "      <td>30-49</td>\n",
       "      <td>onlineclasses</td>\n",
       "      <td>NaN</td>\n",
       "      <td>NaN</td>\n",
       "      <td>NaN</td>\n",
       "      <td>2020-04</td>\n",
       "      <td>00601150</td>\n",
       "      <td>_NA_</td>\n",
       "      <td>0</td>\n",
       "    </tr>\n",
       "  </tbody>\n",
       "</table>\n",
       "<p>5 rows × 248 columns</p>\n",
       "</div>"
      ],
      "text/plain": [
       "         ID           timestamp1  country   age  sex sex_other  \\\n",
       "0  00136f50  2020-04-09 00:13:00    187.0  18.0  1.0       NaN   \n",
       "1  003db2d0  2020-04-09 16:39:00    187.0  34.0  1.0       NaN   \n",
       "2  005a1e3e  2020-04-09 17:10:00    187.0  24.0  2.0       NaN   \n",
       "3  005ef0c4  2020-04-09 16:18:00    187.0  51.0  1.0       NaN   \n",
       "4  00601150  2020-04-09 16:04:00    187.0  38.0  2.0       NaN   \n",
       "\n",
       "   raceethnicity___1  raceethnicity___2  raceethnicity___3  raceethnicity___4  \\\n",
       "0                  0                  0                  0                  0   \n",
       "1                  0                  0                  0                  0   \n",
       "2                  0                  0                  0                  0   \n",
       "3                  1                  0                  0                  0   \n",
       "4                  0                  0                  0                  0   \n",
       "\n",
       "   ...  sx_ct3   age_bin  schoolclosed_recode  Apr_cms_ave  Apr_cw_ave  \\\n",
       "0  ...       1  30_under        onlineclasses          NaN         NaN   \n",
       "1  ...       1     30-49        notapplicable          NaN         NaN   \n",
       "2  ...       0  30_under        notapplicable          NaN         NaN   \n",
       "3  ...       0   50_over        notapplicable          1.3         3.5   \n",
       "4  ...       1     30-49        onlineclasses          NaN         NaN   \n",
       "\n",
       "   Apr_lc_subtype  YearMonth  Adult_ID  Parent_ID  isparent  \n",
       "0             NaN    2020-04  00136f50       _NA_         0  \n",
       "1             NaN    2020-04  003db2d0       _NA_         0  \n",
       "2             NaN    2020-04  005a1e3e       _NA_         0  \n",
       "3             1.0    2020-04  005ef0c4       _NA_         0  \n",
       "4             NaN    2020-04  00601150       _NA_         0  \n",
       "\n",
       "[5 rows x 248 columns]"
      ]
     },
     "execution_count": 16,
     "metadata": {},
     "output_type": "execute_result"
    }
   ],
   "source": [
    "adult_df.head()"
   ]
  },
  {
   "cell_type": "code",
   "execution_count": 157,
   "metadata": {},
   "outputs": [],
   "source": [
    "cols=adult_df.columns\n",
    "#for column in cols:\n",
    "#    print(column)"
   ]
  },
  {
   "cell_type": "markdown",
   "metadata": {},
   "source": [
    "- Basic Checks"
   ]
  },
  {
   "cell_type": "code",
   "execution_count": 18,
   "metadata": {},
   "outputs": [
    {
     "name": "stdout",
     "output_type": "stream",
     "text": [
      "(2868, 248)\n",
      "(2868, 216)\n",
      "sex_other\n",
      "essentialworkerhome\n",
      "covidfacility\n",
      "othersymptoms\n",
      "specifypositive\n",
      "classesinsession\n",
      "classesirl\n",
      "onlineclasses\n",
      "internetcompacess\n",
      "assignments\n",
      "mealsfromschool\n",
      "goingtoworkplace\n",
      "workfromhome\n",
      "laidoff\n",
      "losejob\n",
      "disruptedsupportsother\n",
      "anything_else\n",
      "caregiverrelation\n",
      "othercaregiverrelation\n",
      "school___1\n",
      "school___2\n",
      "school___3\n",
      "school___4\n",
      "school___5\n",
      "school___6\n",
      "parenteducation\n",
      "secondparenteducation\n",
      "parentcaregiver_baseline_form_complete\n",
      "hhcomp_ch\n",
      "Apr_cms_ave\n",
      "Apr_cw_ave\n",
      "Apr_lc_subtype\n"
     ]
    }
   ],
   "source": [
    "##Remove Columns with missing values more than threshold\n",
    "print(adult_df.shape)\n",
    "missing_val_threshold=0.8\n",
    "adult_adj_df=adult_df.dropna(thresh=adult_df.shape[0]*missing_val_threshold,how='all',axis=1)\n",
    "print(adult_adj_df.shape)\n",
    "\n",
    "#Dropped Columns\n",
    "for col in adult_df.columns:\n",
    "    if col not in adult_adj_df.columns:\n",
    "        print(col)"
   ]
  },
  {
   "cell_type": "code",
   "execution_count": 19,
   "metadata": {},
   "outputs": [
    {
     "name": "stderr",
     "output_type": "stream",
     "text": [
      "C:\\Users\\Administrator\\anaconda3\\lib\\site-packages\\pandas\\core\\frame.py:5176: SettingWithCopyWarning: \n",
      "A value is trying to be set on a copy of a slice from a DataFrame\n",
      "\n",
      "See the caveats in the documentation: https://pandas.pydata.org/pandas-docs/stable/user_guide/indexing.html#returning-a-view-versus-a-copy\n",
      "  return super().fillna(\n"
     ]
    }
   ],
   "source": [
    "#Fill Null values with \"_NA_\"\n",
    "adult_adj_df.fillna(\"_NA_\",inplace=True)"
   ]
  },
  {
   "cell_type": "code",
   "execution_count": 20,
   "metadata": {},
   "outputs": [
    {
     "data": {
      "text/plain": [
       "symptoms___3         symptoms___3           1.000000\n",
       "symptoms___4         symptoms___4           1.000000\n",
       "symptoms___5         symptoms___5           1.000000\n",
       "symptoms___6         symptoms___6           1.000000\n",
       "symptoms___7         symptoms___7           1.000000\n",
       "symptoms___8         symptoms___8           1.000000\n",
       "diagnosedfamily___1  diagnosedfamily___1    1.000000\n",
       "diagnosedfamily___2  diagnosedfamily___2    1.000000\n",
       "diagnosedfamily___3  diagnosedfamily___3    1.000000\n",
       "impact___1           impact___1             1.000000\n",
       "raceethnicity___3    raceethnicity___3      1.000000\n",
       "isparent             isparent               1.000000\n",
       "sx_ct                sx_ct3                 0.962606\n",
       "sx_ct3               sx_ct                  0.962606\n",
       "diagnosedfamily___3  diagnosedfamily___2    0.881885\n",
       "diagnosedfamily___2  diagnosedfamily___3    0.881885\n",
       "exposed___4          exposed___3            0.805252\n",
       "exposed___3          exposed___4            0.805252\n",
       "symptoms___5         sx_ct3                 0.706024\n",
       "sx_ct3               symptoms___5           0.706024\n",
       "dtype: float64"
      ]
     },
     "execution_count": 20,
     "metadata": {},
     "output_type": "execute_result"
    }
   ],
   "source": [
    "## Correlation Analysis\n",
    "numerics = ['int16', 'int32', 'int64', 'float16', 'float32', 'float64']\n",
    "corr_df = adult_adj_df.select_dtypes(include=numerics)\n",
    "corr_df = corr_df.apply(pd.to_numeric)\n",
    "#lifechanges_df.corr().abs()\n",
    "#factor_df.corr(method=\"pearson\")\n",
    "c = corr_df.corr().abs()\n",
    "\n",
    "s = c.unstack()\n",
    "so = s.sort_values(kind=\"quicksort\", ascending=False)\n",
    "so[80:100]"
   ]
  },
  {
   "cell_type": "code",
   "execution_count": 21,
   "metadata": {},
   "outputs": [
    {
     "name": "stderr",
     "output_type": "stream",
     "text": [
      "C:\\Users\\Administrator\\anaconda3\\lib\\site-packages\\pandas\\core\\frame.py:4906: SettingWithCopyWarning: \n",
      "A value is trying to be set on a copy of a slice from a DataFrame\n",
      "\n",
      "See the caveats in the documentation: https://pandas.pydata.org/pandas-docs/stable/user_guide/indexing.html#returning-a-view-versus-a-copy\n",
      "  return super().drop(\n"
     ]
    },
    {
     "name": "stdout",
     "output_type": "stream",
     "text": [
      "(2868, 214)\n"
     ]
    }
   ],
   "source": [
    "#Drop columns with too high correlations\n",
    "# sx_ct3                sx_ct                    0.962606\n",
    "#sx_ct                  sx_ct3                   0.962606\n",
    "#diagnosedfamily___2    diagnosedfamily___3      0.881885\n",
    "#diagnosedfamily___3    diagnosedfamily___2      0.881885\n",
    "\n",
    "#Keeping sx_ct,  diagnosedfamily___2\n",
    "adult_adj_df.drop(['sx_ct3'], axis=1, inplace=True)\n",
    "adult_adj_df.drop(['diagnosedfamily___3'], axis=1, inplace=True)\n",
    "print(adult_adj_df.shape)"
   ]
  },
  {
   "cell_type": "code",
   "execution_count": 22,
   "metadata": {},
   "outputs": [
    {
     "data": {
      "text/html": [
       "<div>\n",
       "<style scoped>\n",
       "    .dataframe tbody tr th:only-of-type {\n",
       "        vertical-align: middle;\n",
       "    }\n",
       "\n",
       "    .dataframe tbody tr th {\n",
       "        vertical-align: top;\n",
       "    }\n",
       "\n",
       "    .dataframe thead th {\n",
       "        text-align: right;\n",
       "    }\n",
       "</style>\n",
       "<table border=\"1\" class=\"dataframe\">\n",
       "  <thead>\n",
       "    <tr style=\"text-align: right;\">\n",
       "      <th></th>\n",
       "      <th>ID</th>\n",
       "      <th>timestamp1</th>\n",
       "      <th>country</th>\n",
       "      <th>age</th>\n",
       "      <th>sex</th>\n",
       "      <th>raceethnicity___1</th>\n",
       "      <th>raceethnicity___2</th>\n",
       "      <th>raceethnicity___3</th>\n",
       "      <th>raceethnicity___4</th>\n",
       "      <th>raceethnicity___5</th>\n",
       "      <th>...</th>\n",
       "      <th>age_bin</th>\n",
       "      <th>schoolclosed_recode</th>\n",
       "      <th>YearMonth</th>\n",
       "      <th>Adult_ID</th>\n",
       "      <th>Parent_ID</th>\n",
       "      <th>isparent</th>\n",
       "      <th>age_bin_30-49</th>\n",
       "      <th>age_bin_30_under</th>\n",
       "      <th>age_bin_50_over</th>\n",
       "      <th>age_bin__NA_</th>\n",
       "    </tr>\n",
       "  </thead>\n",
       "  <tbody>\n",
       "    <tr>\n",
       "      <th>0</th>\n",
       "      <td>00136f50</td>\n",
       "      <td>2020-04-09 00:13:00</td>\n",
       "      <td>187.0</td>\n",
       "      <td>18.0</td>\n",
       "      <td>1.0</td>\n",
       "      <td>0</td>\n",
       "      <td>0</td>\n",
       "      <td>0</td>\n",
       "      <td>0</td>\n",
       "      <td>0</td>\n",
       "      <td>...</td>\n",
       "      <td>30_under</td>\n",
       "      <td>onlineclasses</td>\n",
       "      <td>2020-04</td>\n",
       "      <td>00136f50</td>\n",
       "      <td>_NA_</td>\n",
       "      <td>0</td>\n",
       "      <td>0</td>\n",
       "      <td>1</td>\n",
       "      <td>0</td>\n",
       "      <td>0</td>\n",
       "    </tr>\n",
       "    <tr>\n",
       "      <th>1</th>\n",
       "      <td>003db2d0</td>\n",
       "      <td>2020-04-09 16:39:00</td>\n",
       "      <td>187.0</td>\n",
       "      <td>34.0</td>\n",
       "      <td>1.0</td>\n",
       "      <td>0</td>\n",
       "      <td>0</td>\n",
       "      <td>0</td>\n",
       "      <td>0</td>\n",
       "      <td>0</td>\n",
       "      <td>...</td>\n",
       "      <td>30-49</td>\n",
       "      <td>notapplicable</td>\n",
       "      <td>2020-04</td>\n",
       "      <td>003db2d0</td>\n",
       "      <td>_NA_</td>\n",
       "      <td>0</td>\n",
       "      <td>1</td>\n",
       "      <td>0</td>\n",
       "      <td>0</td>\n",
       "      <td>0</td>\n",
       "    </tr>\n",
       "    <tr>\n",
       "      <th>2</th>\n",
       "      <td>005a1e3e</td>\n",
       "      <td>2020-04-09 17:10:00</td>\n",
       "      <td>187.0</td>\n",
       "      <td>24.0</td>\n",
       "      <td>2.0</td>\n",
       "      <td>0</td>\n",
       "      <td>0</td>\n",
       "      <td>0</td>\n",
       "      <td>0</td>\n",
       "      <td>0</td>\n",
       "      <td>...</td>\n",
       "      <td>30_under</td>\n",
       "      <td>notapplicable</td>\n",
       "      <td>2020-04</td>\n",
       "      <td>005a1e3e</td>\n",
       "      <td>_NA_</td>\n",
       "      <td>0</td>\n",
       "      <td>0</td>\n",
       "      <td>1</td>\n",
       "      <td>0</td>\n",
       "      <td>0</td>\n",
       "    </tr>\n",
       "    <tr>\n",
       "      <th>3</th>\n",
       "      <td>005ef0c4</td>\n",
       "      <td>2020-04-09 16:18:00</td>\n",
       "      <td>187.0</td>\n",
       "      <td>51.0</td>\n",
       "      <td>1.0</td>\n",
       "      <td>1</td>\n",
       "      <td>0</td>\n",
       "      <td>0</td>\n",
       "      <td>0</td>\n",
       "      <td>0</td>\n",
       "      <td>...</td>\n",
       "      <td>50_over</td>\n",
       "      <td>notapplicable</td>\n",
       "      <td>2020-04</td>\n",
       "      <td>005ef0c4</td>\n",
       "      <td>_NA_</td>\n",
       "      <td>0</td>\n",
       "      <td>0</td>\n",
       "      <td>0</td>\n",
       "      <td>1</td>\n",
       "      <td>0</td>\n",
       "    </tr>\n",
       "    <tr>\n",
       "      <th>4</th>\n",
       "      <td>00601150</td>\n",
       "      <td>2020-04-09 16:04:00</td>\n",
       "      <td>187.0</td>\n",
       "      <td>38.0</td>\n",
       "      <td>2.0</td>\n",
       "      <td>0</td>\n",
       "      <td>0</td>\n",
       "      <td>0</td>\n",
       "      <td>0</td>\n",
       "      <td>0</td>\n",
       "      <td>...</td>\n",
       "      <td>30-49</td>\n",
       "      <td>onlineclasses</td>\n",
       "      <td>2020-04</td>\n",
       "      <td>00601150</td>\n",
       "      <td>_NA_</td>\n",
       "      <td>0</td>\n",
       "      <td>1</td>\n",
       "      <td>0</td>\n",
       "      <td>0</td>\n",
       "      <td>0</td>\n",
       "    </tr>\n",
       "  </tbody>\n",
       "</table>\n",
       "<p>5 rows × 218 columns</p>\n",
       "</div>"
      ],
      "text/plain": [
       "         ID           timestamp1 country   age  sex  raceethnicity___1  \\\n",
       "0  00136f50  2020-04-09 00:13:00   187.0  18.0  1.0                  0   \n",
       "1  003db2d0  2020-04-09 16:39:00   187.0  34.0  1.0                  0   \n",
       "2  005a1e3e  2020-04-09 17:10:00   187.0  24.0  2.0                  0   \n",
       "3  005ef0c4  2020-04-09 16:18:00   187.0  51.0  1.0                  1   \n",
       "4  00601150  2020-04-09 16:04:00   187.0  38.0  2.0                  0   \n",
       "\n",
       "   raceethnicity___2  raceethnicity___3  raceethnicity___4  raceethnicity___5  \\\n",
       "0                  0                  0                  0                  0   \n",
       "1                  0                  0                  0                  0   \n",
       "2                  0                  0                  0                  0   \n",
       "3                  0                  0                  0                  0   \n",
       "4                  0                  0                  0                  0   \n",
       "\n",
       "   ...   age_bin  schoolclosed_recode  YearMonth  Adult_ID  Parent_ID  \\\n",
       "0  ...  30_under        onlineclasses    2020-04  00136f50       _NA_   \n",
       "1  ...     30-49        notapplicable    2020-04  003db2d0       _NA_   \n",
       "2  ...  30_under        notapplicable    2020-04  005a1e3e       _NA_   \n",
       "3  ...   50_over        notapplicable    2020-04  005ef0c4       _NA_   \n",
       "4  ...     30-49        onlineclasses    2020-04  00601150       _NA_   \n",
       "\n",
       "   isparent  age_bin_30-49  age_bin_30_under  age_bin_50_over  age_bin__NA_  \n",
       "0         0              0                 1                0             0  \n",
       "1         0              1                 0                0             0  \n",
       "2         0              0                 1                0             0  \n",
       "3         0              0                 0                1             0  \n",
       "4         0              1                 0                0             0  \n",
       "\n",
       "[5 rows x 218 columns]"
      ]
     },
     "execution_count": 22,
     "metadata": {},
     "output_type": "execute_result"
    }
   ],
   "source": [
    "##Add one-hot encoding for age_bin\n",
    "age_bin_cols = pd.get_dummies(adult_adj_df.age_bin, prefix='age_bin')\n",
    "adult_adj_df=pd.concat([adult_adj_df,age_bin_cols],axis=1)\n",
    "adult_adj_df.head()"
   ]
  },
  {
   "cell_type": "code",
   "execution_count": 23,
   "metadata": {},
   "outputs": [],
   "source": [
    "#Replace nulls with Mode\n",
    "for column in adult_adj_df.columns:\n",
    "    mode_val=adult_adj_df[column].mode()\n",
    "    #print(column,mode_val[0])\n",
    "    adult_adj_df.replace({column:{\"_NA_\":mode_val[0]}}, inplace=True)"
   ]
  },
  {
   "cell_type": "code",
   "execution_count": 24,
   "metadata": {},
   "outputs": [],
   "source": [
    "demographic_cols=['country','age_bin_30_under','age_bin_30-49','age_bin_50_over','sex',\n",
    "#'raceethnicity___1','raceethnicity___2','raceethnicity___3','raceethnicity___4',\n",
    "#'raceethnicity___5','raceethnicity___6','raceethnicity___7','raceethnicity___8',\n",
    "#'raceethnicity___9','raceethnicity___10','raceethnicity___11','raceethnicity___12',\n",
    "#'raceethnicity___13','raceethnicity___14','raceethnicity___15','raceethnicity___16',\n",
    "#'raceethnicity___17','raceethnicity___18','raceethnicity___19','raceethnicity___20','hispanic',\n",
    "'working___1',\n",
    "'working___2','working___3','working___4','working___5',\n",
    "'working___6','working___7','working___8','military','location','education','educationmother',\n",
    "'educationfather','householdnumber','essentialworkers','householdcomp___1','householdcomp___2','householdcomp___3',\n",
    "'householdcomp___4','householdcomp___5',\n",
    "'householdcomp___6','householdcomp___7','roomsinhouse',\n",
    "'insurance','govassist','physicalhealth',\n",
    "'healthconditions___1','healthconditions___2',\n",
    "'healthconditions___3','healthconditions___4',\n",
    "'healthconditions___5','healthconditions___6',\n",
    "'healthconditions___7','healthconditions___8',\n",
    "'healthconditions___9','healthconditions___10',\n",
    "'healthconditions___11','healthconditions___12',\n",
    "'healthconditions___13','healthconditions___14',\n",
    "'healthconditions___15','healthconditions___16',\n",
    "'healthconditions___17','tall',\n",
    "'measurementheight','weight',\n",
    "'measurementweight','mentalhealth','isparent']#occupation"
   ]
  },
  {
   "cell_type": "code",
   "execution_count": 25,
   "metadata": {},
   "outputs": [],
   "source": [
    "exp_cols=['exposed___1',\n",
    "'exposed___2',\n",
    "'exposed___3',\n",
    "'exposed___4','infected']"
   ]
  },
  {
   "cell_type": "code",
   "execution_count": 26,
   "metadata": {},
   "outputs": [],
   "source": [
    "symp_cols=['symptoms___1',\n",
    "'symptoms___2',\n",
    "'symptoms___3',\n",
    "'symptoms___4',\n",
    "'symptoms___5',\n",
    "'symptoms___6',\n",
    "'symptoms___7',\n",
    "'symptoms___8']"
   ]
  },
  {
   "cell_type": "code",
   "execution_count": 27,
   "metadata": {},
   "outputs": [],
   "source": [
    "Impact_cols=['impact___1',\n",
    "'impact___2',\n",
    "'impact___3',\n",
    "'impact___4',\n",
    "'impact___5',\n",
    "'impact___6',\n",
    "'impact___7',\n",
    "'impact___8']"
   ]
  },
  {
   "cell_type": "code",
   "execution_count": 28,
   "metadata": {},
   "outputs": [],
   "source": [
    "diagnosis_cols=['diagnosedfamily___1',\n",
    "'diagnosedfamily___2']\n"
   ]
  },
  {
   "cell_type": "markdown",
   "metadata": {},
   "source": [
    "- Summary"
   ]
  },
  {
   "cell_type": "code",
   "execution_count": 29,
   "metadata": {},
   "outputs": [
    {
     "data": {
      "text/html": [
       "<div>\n",
       "<style scoped>\n",
       "    .dataframe tbody tr th:only-of-type {\n",
       "        vertical-align: middle;\n",
       "    }\n",
       "\n",
       "    .dataframe tbody tr th {\n",
       "        vertical-align: top;\n",
       "    }\n",
       "\n",
       "    .dataframe thead th {\n",
       "        text-align: right;\n",
       "    }\n",
       "</style>\n",
       "<table border=\"1\" class=\"dataframe\">\n",
       "  <thead>\n",
       "    <tr style=\"text-align: right;\">\n",
       "      <th></th>\n",
       "      <th></th>\n",
       "      <th></th>\n",
       "      <th>ID</th>\n",
       "    </tr>\n",
       "    <tr>\n",
       "      <th>country</th>\n",
       "      <th>sex</th>\n",
       "      <th>age_bin</th>\n",
       "      <th></th>\n",
       "    </tr>\n",
       "  </thead>\n",
       "  <tbody>\n",
       "    <tr>\n",
       "      <th rowspan=\"7\" valign=\"top\">186.0</th>\n",
       "      <th rowspan=\"3\" valign=\"top\">1.0</th>\n",
       "      <th>30-49</th>\n",
       "      <td>191</td>\n",
       "    </tr>\n",
       "    <tr>\n",
       "      <th>30_under</th>\n",
       "      <td>170</td>\n",
       "    </tr>\n",
       "    <tr>\n",
       "      <th>50_over</th>\n",
       "      <td>249</td>\n",
       "    </tr>\n",
       "    <tr>\n",
       "      <th rowspan=\"3\" valign=\"top\">2.0</th>\n",
       "      <th>30-49</th>\n",
       "      <td>437</td>\n",
       "    </tr>\n",
       "    <tr>\n",
       "      <th>30_under</th>\n",
       "      <td>256</td>\n",
       "    </tr>\n",
       "    <tr>\n",
       "      <th>50_over</th>\n",
       "      <td>134</td>\n",
       "    </tr>\n",
       "    <tr>\n",
       "      <th>3.0</th>\n",
       "      <th>30_under</th>\n",
       "      <td>1</td>\n",
       "    </tr>\n",
       "    <tr>\n",
       "      <th rowspan=\"9\" valign=\"top\">187.0</th>\n",
       "      <th rowspan=\"3\" valign=\"top\">1.0</th>\n",
       "      <th>30-49</th>\n",
       "      <td>195</td>\n",
       "    </tr>\n",
       "    <tr>\n",
       "      <th>30_under</th>\n",
       "      <td>286</td>\n",
       "    </tr>\n",
       "    <tr>\n",
       "      <th>50_over</th>\n",
       "      <td>114</td>\n",
       "    </tr>\n",
       "    <tr>\n",
       "      <th rowspan=\"3\" valign=\"top\">2.0</th>\n",
       "      <th>30-49</th>\n",
       "      <td>294</td>\n",
       "    </tr>\n",
       "    <tr>\n",
       "      <th>30_under</th>\n",
       "      <td>313</td>\n",
       "    </tr>\n",
       "    <tr>\n",
       "      <th>50_over</th>\n",
       "      <td>218</td>\n",
       "    </tr>\n",
       "    <tr>\n",
       "      <th rowspan=\"3\" valign=\"top\">3.0</th>\n",
       "      <th>30-49</th>\n",
       "      <td>3</td>\n",
       "    </tr>\n",
       "    <tr>\n",
       "      <th>30_under</th>\n",
       "      <td>6</td>\n",
       "    </tr>\n",
       "    <tr>\n",
       "      <th>50_over</th>\n",
       "      <td>1</td>\n",
       "    </tr>\n",
       "  </tbody>\n",
       "</table>\n",
       "</div>"
      ],
      "text/plain": [
       "                       ID\n",
       "country sex age_bin      \n",
       "186.0   1.0 30-49     191\n",
       "            30_under  170\n",
       "            50_over   249\n",
       "        2.0 30-49     437\n",
       "            30_under  256\n",
       "            50_over   134\n",
       "        3.0 30_under    1\n",
       "187.0   1.0 30-49     195\n",
       "            30_under  286\n",
       "            50_over   114\n",
       "        2.0 30-49     294\n",
       "            30_under  313\n",
       "            50_over   218\n",
       "        3.0 30-49       3\n",
       "            30_under    6\n",
       "            50_over     1"
      ]
     },
     "execution_count": 29,
     "metadata": {},
     "output_type": "execute_result"
    }
   ],
   "source": [
    "adult_grouped_df = adult_adj_df[[\"age_bin\",\"sex\", \"country\",\"ID\"]].groupby([\"country\",\"sex\", \"age_bin\"]).count()\n",
    "adult_grouped_df"
   ]
  },
  {
   "cell_type": "code",
   "execution_count": 30,
   "metadata": {},
   "outputs": [
    {
     "data": {
      "text/plain": [
       "186.0    1438\n",
       "187.0    1430\n",
       "Name: country, dtype: int64"
      ]
     },
     "execution_count": 30,
     "metadata": {},
     "output_type": "execute_result"
    }
   ],
   "source": [
    "adult_adj_df.country.value_counts(dropna=False)"
   ]
  },
  {
   "cell_type": "code",
   "execution_count": 161,
   "metadata": {},
   "outputs": [],
   "source": [
    "#from wordcloud import WordCloud \n",
    "#WordCloud().generate(' '.join(adult_adj_df['specifypositive']))"
   ]
  },
  {
   "cell_type": "markdown",
   "metadata": {},
   "source": [
    "- Covid Worries"
   ]
  },
  {
   "cell_type": "code",
   "execution_count": 31,
   "metadata": {},
   "outputs": [
    {
     "name": "stdout",
     "output_type": "stream",
     "text": [
      "(2868, 5)\n"
     ]
    },
    {
     "name": "stderr",
     "output_type": "stream",
     "text": [
      "C:\\Users\\ADMINI~1\\AppData\\Local\\Temp\\2/ipykernel_2640/2319714962.py:2: SettingWithCopyWarning: \n",
      "A value is trying to be set on a copy of a slice from a DataFrame.\n",
      "Try using .loc[row_indexer,col_indexer] = value instead\n",
      "\n",
      "See the caveats in the documentation: https://pandas.pydata.org/pandas-docs/stable/user_guide/indexing.html#returning-a-view-versus-a-copy\n",
      "  covid_worry_df['CovidWorryIndex']=covid_worry_df[covidworry_cols].apply(getCovidWorryIndex, axis=1)\n"
     ]
    }
   ],
   "source": [
    "covid_worry_df=adult_adj_df[covidworry_cols]\n",
    "covid_worry_df['CovidWorryIndex']=covid_worry_df[covidworry_cols].apply(getCovidWorryIndex, axis=1)\n",
    "print(covid_worry_df.shape)\n",
    "#adult_df5.head()"
   ]
  },
  {
   "cell_type": "markdown",
   "metadata": {},
   "source": [
    "- Mood States"
   ]
  },
  {
   "cell_type": "code",
   "execution_count": 32,
   "metadata": {},
   "outputs": [
    {
     "name": "stdout",
     "output_type": "stream",
     "text": [
      "(2868, 5) (2868, 2)\n"
     ]
    },
    {
     "name": "stderr",
     "output_type": "stream",
     "text": [
      "C:\\Users\\ADMINI~1\\AppData\\Local\\Temp\\2/ipykernel_2640/830812305.py:3: SettingWithCopyWarning: \n",
      "A value is trying to be set on a copy of a slice from a DataFrame.\n",
      "Try using .loc[row_indexer,col_indexer] = value instead\n",
      "\n",
      "See the caveats in the documentation: https://pandas.pydata.org/pandas-docs/stable/user_guide/indexing.html#returning-a-view-versus-a-copy\n",
      "  covid_mood_3mon_df['3MonPriorMoodStateIndex']=covid_mood_3mon_df[priorworry3_cols].apply(getMoodStateIndex, axis=1)\n"
     ]
    },
    {
     "data": {
      "text/html": [
       "<div>\n",
       "<style scoped>\n",
       "    .dataframe tbody tr th:only-of-type {\n",
       "        vertical-align: middle;\n",
       "    }\n",
       "\n",
       "    .dataframe tbody tr th {\n",
       "        vertical-align: top;\n",
       "    }\n",
       "\n",
       "    .dataframe thead th {\n",
       "        text-align: right;\n",
       "    }\n",
       "</style>\n",
       "<table border=\"1\" class=\"dataframe\">\n",
       "  <thead>\n",
       "    <tr style=\"text-align: right;\">\n",
       "      <th></th>\n",
       "      <th>CovidWorryIndex</th>\n",
       "      <th>3MonPriorMoodStateIndex</th>\n",
       "    </tr>\n",
       "  </thead>\n",
       "  <tbody>\n",
       "    <tr>\n",
       "      <th>0</th>\n",
       "      <td>40.0</td>\n",
       "      <td>38.0</td>\n",
       "    </tr>\n",
       "    <tr>\n",
       "      <th>1</th>\n",
       "      <td>30.0</td>\n",
       "      <td>28.0</td>\n",
       "    </tr>\n",
       "    <tr>\n",
       "      <th>2</th>\n",
       "      <td>60.0</td>\n",
       "      <td>60.0</td>\n",
       "    </tr>\n",
       "    <tr>\n",
       "      <th>3</th>\n",
       "      <td>65.0</td>\n",
       "      <td>30.0</td>\n",
       "    </tr>\n",
       "    <tr>\n",
       "      <th>4</th>\n",
       "      <td>95.0</td>\n",
       "      <td>36.0</td>\n",
       "    </tr>\n",
       "  </tbody>\n",
       "</table>\n",
       "</div>"
      ],
      "text/plain": [
       "   CovidWorryIndex  3MonPriorMoodStateIndex\n",
       "0             40.0                     38.0\n",
       "1             30.0                     28.0\n",
       "2             60.0                     60.0\n",
       "3             65.0                     30.0\n",
       "4             95.0                     36.0"
      ]
     },
     "execution_count": 32,
     "metadata": {},
     "output_type": "execute_result"
    }
   ],
   "source": [
    "## 3 Months Prior\n",
    "covid_mood_3mon_df=adult_adj_df[priorworry3_cols]\n",
    "covid_mood_3mon_df['3MonPriorMoodStateIndex']=covid_mood_3mon_df[priorworry3_cols].apply(getMoodStateIndex, axis=1)\n",
    "adult_df6=pd.concat([covid_worry_df['CovidWorryIndex'],covid_mood_3mon_df['3MonPriorMoodStateIndex']],axis=1)\n",
    "print(covid_worry_df.shape,adult_df6.shape)\n",
    "adult_df6.head()"
   ]
  },
  {
   "cell_type": "code",
   "execution_count": 33,
   "metadata": {},
   "outputs": [
    {
     "name": "stdout",
     "output_type": "stream",
     "text": [
      "(2868, 2) (2868, 3)\n"
     ]
    },
    {
     "name": "stderr",
     "output_type": "stream",
     "text": [
      "C:\\Users\\ADMINI~1\\AppData\\Local\\Temp\\2/ipykernel_2640/1939817994.py:6: SettingWithCopyWarning: \n",
      "A value is trying to be set on a copy of a slice from a DataFrame.\n",
      "Try using .loc[row_indexer,col_indexer] = value instead\n",
      "\n",
      "See the caveats in the documentation: https://pandas.pydata.org/pandas-docs/stable/user_guide/indexing.html#returning-a-view-versus-a-copy\n",
      "  covid_mood_2wk_df['2WkPriorMoodStateIndex']=covid_mood_2wk_df[priorworry2_cols].apply(getMoodStateIndex, axis=1)\n"
     ]
    },
    {
     "data": {
      "text/html": [
       "<div>\n",
       "<style scoped>\n",
       "    .dataframe tbody tr th:only-of-type {\n",
       "        vertical-align: middle;\n",
       "    }\n",
       "\n",
       "    .dataframe tbody tr th {\n",
       "        vertical-align: top;\n",
       "    }\n",
       "\n",
       "    .dataframe thead th {\n",
       "        text-align: right;\n",
       "    }\n",
       "</style>\n",
       "<table border=\"1\" class=\"dataframe\">\n",
       "  <thead>\n",
       "    <tr style=\"text-align: right;\">\n",
       "      <th></th>\n",
       "      <th>CovidWorryIndex</th>\n",
       "      <th>3MonPriorMoodStateIndex</th>\n",
       "      <th>2WkPriorMoodStateIndex</th>\n",
       "    </tr>\n",
       "  </thead>\n",
       "  <tbody>\n",
       "    <tr>\n",
       "      <th>0</th>\n",
       "      <td>40.0</td>\n",
       "      <td>38.0</td>\n",
       "      <td>44.0</td>\n",
       "    </tr>\n",
       "    <tr>\n",
       "      <th>1</th>\n",
       "      <td>30.0</td>\n",
       "      <td>28.0</td>\n",
       "      <td>46.0</td>\n",
       "    </tr>\n",
       "    <tr>\n",
       "      <th>2</th>\n",
       "      <td>60.0</td>\n",
       "      <td>60.0</td>\n",
       "      <td>54.0</td>\n",
       "    </tr>\n",
       "    <tr>\n",
       "      <th>3</th>\n",
       "      <td>65.0</td>\n",
       "      <td>30.0</td>\n",
       "      <td>30.0</td>\n",
       "    </tr>\n",
       "    <tr>\n",
       "      <th>4</th>\n",
       "      <td>95.0</td>\n",
       "      <td>36.0</td>\n",
       "      <td>74.0</td>\n",
       "    </tr>\n",
       "  </tbody>\n",
       "</table>\n",
       "</div>"
      ],
      "text/plain": [
       "   CovidWorryIndex  3MonPriorMoodStateIndex  2WkPriorMoodStateIndex\n",
       "0             40.0                     38.0                    44.0\n",
       "1             30.0                     28.0                    46.0\n",
       "2             60.0                     60.0                    54.0\n",
       "3             65.0                     30.0                    30.0\n",
       "4             95.0                     36.0                    74.0"
      ]
     },
     "execution_count": 33,
     "metadata": {},
     "output_type": "execute_result"
    }
   ],
   "source": [
    "## 2 Weeks Prior\n",
    "priorworry2_cols=['priorworry_2','priorhappyvssad_2','priorenjoyactivities_2','priorrelaxedvsanxious_2',\n",
    "         'priorfidget_2', 'priorfatigue_2', 'priorfocus_2', 'priorirritable_2','priorlonely_2', \n",
    "         'priornegthoughts_2']\n",
    "covid_mood_2wk_df=adult_adj_df[priorworry2_cols]\n",
    "covid_mood_2wk_df['2WkPriorMoodStateIndex']=covid_mood_2wk_df[priorworry2_cols].apply(getMoodStateIndex, axis=1)\n",
    "adult_df7=pd.concat([adult_df6,covid_mood_2wk_df['2WkPriorMoodStateIndex']],axis=1)\n",
    "print(adult_df6.shape,adult_df7.shape)\n",
    "adult_df7.head()"
   ]
  },
  {
   "cell_type": "code",
   "execution_count": 34,
   "metadata": {},
   "outputs": [
    {
     "name": "stdout",
     "output_type": "stream",
     "text": [
      "(2868, 4) (2868, 3)\n"
     ]
    },
    {
     "name": "stderr",
     "output_type": "stream",
     "text": [
      "C:\\Users\\ADMINI~1\\AppData\\Local\\Temp\\2/ipykernel_2640/1358364525.py:3: SettingWithCopyWarning: \n",
      "A value is trying to be set on a copy of a slice from a DataFrame.\n",
      "Try using .loc[row_indexer,col_indexer] = value instead\n",
      "\n",
      "See the caveats in the documentation: https://pandas.pydata.org/pandas-docs/stable/user_guide/indexing.html#returning-a-view-versus-a-copy\n",
      "  covid_media_3mon_df['3MonPriorMediaUseIndex']=covid_media_3mon_df[priormedia3_cols].apply(getMediaUseIndex, axis=1)\n"
     ]
    }
   ],
   "source": [
    "## 3 Month Prior Media use\n",
    "covid_media_3mon_df=adult_adj_df[priormedia3_cols]\n",
    "covid_media_3mon_df['3MonPriorMediaUseIndex']=covid_media_3mon_df[priormedia3_cols].apply(getMediaUseIndex, axis=1)  \n",
    "adult_df8=pd.concat([adult_df7,covid_media_3mon_df['3MonPriorMediaUseIndex']],axis=1)\n",
    "print(adult_df8.shape,adult_df7.shape)\n",
    "#adult_df7.head()"
   ]
  },
  {
   "cell_type": "code",
   "execution_count": 35,
   "metadata": {},
   "outputs": [
    {
     "name": "stdout",
     "output_type": "stream",
     "text": [
      "(2868, 5) (2868, 4)\n"
     ]
    },
    {
     "name": "stderr",
     "output_type": "stream",
     "text": [
      "C:\\Users\\ADMINI~1\\AppData\\Local\\Temp\\2/ipykernel_2640/702277642.py:4: SettingWithCopyWarning: \n",
      "A value is trying to be set on a copy of a slice from a DataFrame.\n",
      "Try using .loc[row_indexer,col_indexer] = value instead\n",
      "\n",
      "See the caveats in the documentation: https://pandas.pydata.org/pandas-docs/stable/user_guide/indexing.html#returning-a-view-versus-a-copy\n",
      "  covid_media_2wk_df['2WkPriorMediaUseIndex']=covid_media_2wk_df[priormedia2_cols].apply(getMediaUseIndex, axis=1)\n"
     ]
    }
   ],
   "source": [
    "## 2 weeks Prior Media use\n",
    "priormedia2_cols=['priortvmedia_2','priorsocialmedia_2','priorvideogames_2']\n",
    "covid_media_2wk_df=adult_adj_df[priormedia2_cols]\n",
    "covid_media_2wk_df['2WkPriorMediaUseIndex']=covid_media_2wk_df[priormedia2_cols].apply(getMediaUseIndex, axis=1)  \n",
    "adult_df9=pd.concat([adult_df8,covid_media_2wk_df['2WkPriorMediaUseIndex']],axis=1)\n",
    "print(adult_df9.shape,adult_df8.shape)\n",
    "#adult_df7.head()"
   ]
  },
  {
   "cell_type": "code",
   "execution_count": 36,
   "metadata": {},
   "outputs": [
    {
     "name": "stdout",
     "output_type": "stream",
     "text": [
      "(2868, 6) (2868, 5)\n"
     ]
    },
    {
     "name": "stderr",
     "output_type": "stream",
     "text": [
      "C:\\Users\\ADMINI~1\\AppData\\Local\\Temp\\2/ipykernel_2640/1750308760.py:3: SettingWithCopyWarning: \n",
      "A value is trying to be set on a copy of a slice from a DataFrame.\n",
      "Try using .loc[row_indexer,col_indexer] = value instead\n",
      "\n",
      "See the caveats in the documentation: https://pandas.pydata.org/pandas-docs/stable/user_guide/indexing.html#returning-a-view-versus-a-copy\n",
      "  covid_sub_3mon_df['3MonPriorsubstanceUseIndex']=covid_sub_3mon_df[priorsubstance3_cols].apply(getSubstanceUseIndex, axis=1)\n"
     ]
    }
   ],
   "source": [
    "## 3 Month Prior Substance use\n",
    "covid_sub_3mon_df=adult_adj_df[priorsubstance3_cols]  \n",
    "covid_sub_3mon_df['3MonPriorsubstanceUseIndex']=covid_sub_3mon_df[priorsubstance3_cols].apply(getSubstanceUseIndex, axis=1)  \n",
    "adult_df10=pd.concat([adult_df9,covid_sub_3mon_df['3MonPriorsubstanceUseIndex']],axis=1)\n",
    "print(adult_df10.shape,adult_df9.shape)\n",
    "#adult_df7.head()"
   ]
  },
  {
   "cell_type": "code",
   "execution_count": 37,
   "metadata": {},
   "outputs": [
    {
     "name": "stdout",
     "output_type": "stream",
     "text": [
      "(2868, 7) (2868, 6)\n"
     ]
    },
    {
     "name": "stderr",
     "output_type": "stream",
     "text": [
      "C:\\Users\\ADMINI~1\\AppData\\Local\\Temp\\2/ipykernel_2640/4107245732.py:5: SettingWithCopyWarning: \n",
      "A value is trying to be set on a copy of a slice from a DataFrame.\n",
      "Try using .loc[row_indexer,col_indexer] = value instead\n",
      "\n",
      "See the caveats in the documentation: https://pandas.pydata.org/pandas-docs/stable/user_guide/indexing.html#returning-a-view-versus-a-copy\n",
      "  covid_sub_2wk_df['2WkPriorsubstanceUseIndex']=covid_sub_2wk_df[priorsubstance2_cols].apply(getSubstanceUseIndex, axis=1)\n"
     ]
    }
   ],
   "source": [
    "## 2 weeks Prior Substance use\n",
    "priorsubstance2_cols=['twoweeksalcohol','twoweeksvaping','twoweekstobacco','twoweeksmarijuana','twoweeksopiates',\n",
    "'twoweeksother','twoweeksleeping']\n",
    "covid_sub_2wk_df=adult_adj_df[priorsubstance2_cols]\n",
    "covid_sub_2wk_df['2WkPriorsubstanceUseIndex']=covid_sub_2wk_df[priorsubstance2_cols].apply(getSubstanceUseIndex, axis=1)  \n",
    "adult_df11=pd.concat([adult_df10,covid_sub_2wk_df['2WkPriorsubstanceUseIndex']],axis=1)\n",
    "print(adult_df11.shape,adult_df10.shape)\n",
    "#adult_df7.head()"
   ]
  },
  {
   "cell_type": "code",
   "execution_count": 38,
   "metadata": {},
   "outputs": [
    {
     "name": "stdout",
     "output_type": "stream",
     "text": [
      "(2868, 8) (2868, 7)\n"
     ]
    },
    {
     "name": "stderr",
     "output_type": "stream",
     "text": [
      "C:\\Users\\ADMINI~1\\AppData\\Local\\Temp\\2/ipykernel_2640/1853709861.py:3: SettingWithCopyWarning: \n",
      "A value is trying to be set on a copy of a slice from a DataFrame.\n",
      "Try using .loc[row_indexer,col_indexer] = value instead\n",
      "\n",
      "See the caveats in the documentation: https://pandas.pydata.org/pandas-docs/stable/user_guide/indexing.html#returning-a-view-versus-a-copy\n",
      "  covid_beh_3mon_df['3MonPriorBehaviourIndex']=covid_beh_3mon_df[priorbehaviour3_cols].apply(getBehaviourIndex, axis=1)\n"
     ]
    }
   ],
   "source": [
    "## 3 Month Prior Daily behavior\n",
    "covid_beh_3mon_df=adult_adj_df[priorbehaviour3_cols]\n",
    "covid_beh_3mon_df['3MonPriorBehaviourIndex']=covid_beh_3mon_df[priorbehaviour3_cols].apply(getBehaviourIndex, axis=1)  \n",
    "adult_df12=pd.concat([adult_df11,covid_beh_3mon_df['3MonPriorBehaviourIndex']],axis=1)\n",
    "print(adult_df12.shape,adult_df11.shape)\n",
    "#adult_df7.head()"
   ]
  },
  {
   "cell_type": "code",
   "execution_count": 39,
   "metadata": {},
   "outputs": [
    {
     "name": "stdout",
     "output_type": "stream",
     "text": [
      "(2868, 9) (2868, 8)\n"
     ]
    },
    {
     "name": "stderr",
     "output_type": "stream",
     "text": [
      "C:\\Users\\ADMINI~1\\AppData\\Local\\Temp\\2/ipykernel_2640/2016432372.py:4: SettingWithCopyWarning: \n",
      "A value is trying to be set on a copy of a slice from a DataFrame.\n",
      "Try using .loc[row_indexer,col_indexer] = value instead\n",
      "\n",
      "See the caveats in the documentation: https://pandas.pydata.org/pandas-docs/stable/user_guide/indexing.html#returning-a-view-versus-a-copy\n",
      "  covid_beh_2Wk_df['3MonPriorBehaviourIndex']=covid_beh_2Wk_df[priorbehaviour2_cols].apply(getBehaviourIndex, axis=1)\n"
     ]
    }
   ],
   "source": [
    "## 2 Weeks Prior Daily behavior\n",
    "priorbehaviour2_cols=['bedtimeweekdays_2','bedtimeweekends_2','hoursofsleepweekdays_2','hoursofsleepweekends_2','exerciseprior_2','outdoorsprior_2']\n",
    "covid_beh_2Wk_df=adult_adj_df[priorbehaviour2_cols]\n",
    "covid_beh_2Wk_df['3MonPriorBehaviourIndex']=covid_beh_2Wk_df[priorbehaviour2_cols].apply(getBehaviourIndex, axis=1)  \n",
    "adult_df13=pd.concat([adult_df12,covid_beh_2Wk_df['3MonPriorBehaviourIndex']],axis=1)\n",
    "print(adult_df13.shape,adult_df12.shape)\n",
    "#adult_df7.head()"
   ]
  },
  {
   "cell_type": "code",
   "execution_count": 40,
   "metadata": {},
   "outputs": [
    {
     "data": {
      "text/html": [
       "<div>\n",
       "<style scoped>\n",
       "    .dataframe tbody tr th:only-of-type {\n",
       "        vertical-align: middle;\n",
       "    }\n",
       "\n",
       "    .dataframe tbody tr th {\n",
       "        vertical-align: top;\n",
       "    }\n",
       "\n",
       "    .dataframe thead th {\n",
       "        text-align: right;\n",
       "    }\n",
       "</style>\n",
       "<table border=\"1\" class=\"dataframe\">\n",
       "  <thead>\n",
       "    <tr style=\"text-align: right;\">\n",
       "      <th></th>\n",
       "      <th>CovidWorryIndex</th>\n",
       "      <th>3MonPriorMoodStateIndex</th>\n",
       "      <th>2WkPriorMoodStateIndex</th>\n",
       "      <th>3MonPriorMediaUseIndex</th>\n",
       "      <th>2WkPriorMediaUseIndex</th>\n",
       "      <th>3MonPriorsubstanceUseIndex</th>\n",
       "      <th>2WkPriorsubstanceUseIndex</th>\n",
       "      <th>3MonPriorBehaviourIndex</th>\n",
       "      <th>3MonPriorBehaviourIndex</th>\n",
       "    </tr>\n",
       "  </thead>\n",
       "  <tbody>\n",
       "    <tr>\n",
       "      <th>0</th>\n",
       "      <td>40.0</td>\n",
       "      <td>38.0</td>\n",
       "      <td>44.0</td>\n",
       "      <td>73.33</td>\n",
       "      <td>73.33</td>\n",
       "      <td>12.50</td>\n",
       "      <td>12.50</td>\n",
       "      <td>75.00</td>\n",
       "      <td>100.00</td>\n",
       "    </tr>\n",
       "    <tr>\n",
       "      <th>1</th>\n",
       "      <td>30.0</td>\n",
       "      <td>28.0</td>\n",
       "      <td>46.0</td>\n",
       "      <td>80.00</td>\n",
       "      <td>86.67</td>\n",
       "      <td>16.07</td>\n",
       "      <td>16.07</td>\n",
       "      <td>79.17</td>\n",
       "      <td>79.17</td>\n",
       "    </tr>\n",
       "    <tr>\n",
       "      <th>2</th>\n",
       "      <td>60.0</td>\n",
       "      <td>60.0</td>\n",
       "      <td>54.0</td>\n",
       "      <td>73.33</td>\n",
       "      <td>73.33</td>\n",
       "      <td>12.50</td>\n",
       "      <td>12.50</td>\n",
       "      <td>70.83</td>\n",
       "      <td>79.17</td>\n",
       "    </tr>\n",
       "    <tr>\n",
       "      <th>3</th>\n",
       "      <td>65.0</td>\n",
       "      <td>30.0</td>\n",
       "      <td>30.0</td>\n",
       "      <td>40.00</td>\n",
       "      <td>40.00</td>\n",
       "      <td>12.50</td>\n",
       "      <td>12.50</td>\n",
       "      <td>62.50</td>\n",
       "      <td>62.50</td>\n",
       "    </tr>\n",
       "    <tr>\n",
       "      <th>4</th>\n",
       "      <td>95.0</td>\n",
       "      <td>36.0</td>\n",
       "      <td>74.0</td>\n",
       "      <td>46.67</td>\n",
       "      <td>66.67</td>\n",
       "      <td>33.93</td>\n",
       "      <td>46.43</td>\n",
       "      <td>54.17</td>\n",
       "      <td>66.67</td>\n",
       "    </tr>\n",
       "  </tbody>\n",
       "</table>\n",
       "</div>"
      ],
      "text/plain": [
       "   CovidWorryIndex  3MonPriorMoodStateIndex  2WkPriorMoodStateIndex  \\\n",
       "0             40.0                     38.0                    44.0   \n",
       "1             30.0                     28.0                    46.0   \n",
       "2             60.0                     60.0                    54.0   \n",
       "3             65.0                     30.0                    30.0   \n",
       "4             95.0                     36.0                    74.0   \n",
       "\n",
       "   3MonPriorMediaUseIndex  2WkPriorMediaUseIndex  3MonPriorsubstanceUseIndex  \\\n",
       "0                   73.33                  73.33                       12.50   \n",
       "1                   80.00                  86.67                       16.07   \n",
       "2                   73.33                  73.33                       12.50   \n",
       "3                   40.00                  40.00                       12.50   \n",
       "4                   46.67                  66.67                       33.93   \n",
       "\n",
       "   2WkPriorsubstanceUseIndex  3MonPriorBehaviourIndex  3MonPriorBehaviourIndex  \n",
       "0                      12.50                    75.00                   100.00  \n",
       "1                      16.07                    79.17                    79.17  \n",
       "2                      12.50                    70.83                    79.17  \n",
       "3                      12.50                    62.50                    62.50  \n",
       "4                      46.43                    54.17                    66.67  "
      ]
     },
     "execution_count": 40,
     "metadata": {},
     "output_type": "execute_result"
    }
   ],
   "source": [
    "adult_df13.head()"
   ]
  },
  {
   "cell_type": "markdown",
   "metadata": {},
   "source": [
    "- Life Changes"
   ]
  },
  {
   "cell_type": "code",
   "execution_count": 41,
   "metadata": {},
   "outputs": [
    {
     "name": "stdout",
     "output_type": "stream",
     "text": [
      "(2868, 9) (2868, 10)\n"
     ]
    },
    {
     "name": "stderr",
     "output_type": "stream",
     "text": [
      "C:\\Users\\ADMINI~1\\AppData\\Local\\Temp\\2/ipykernel_2640/3538503523.py:2: SettingWithCopyWarning: \n",
      "A value is trying to be set on a copy of a slice from a DataFrame.\n",
      "Try using .loc[row_indexer,col_indexer] = value instead\n",
      "\n",
      "See the caveats in the documentation: https://pandas.pydata.org/pandas-docs/stable/user_guide/indexing.html#returning-a-view-versus-a-copy\n",
      "  lifechange_stress_df['LifechnageStressIndex']=lifechange_stress_df[lifechanges_stress_cols].apply(getLifechnageStressIndex, axis=1)\n"
     ]
    },
    {
     "data": {
      "text/html": [
       "<div>\n",
       "<style scoped>\n",
       "    .dataframe tbody tr th:only-of-type {\n",
       "        vertical-align: middle;\n",
       "    }\n",
       "\n",
       "    .dataframe tbody tr th {\n",
       "        vertical-align: top;\n",
       "    }\n",
       "\n",
       "    .dataframe thead th {\n",
       "        text-align: right;\n",
       "    }\n",
       "</style>\n",
       "<table border=\"1\" class=\"dataframe\">\n",
       "  <thead>\n",
       "    <tr style=\"text-align: right;\">\n",
       "      <th></th>\n",
       "      <th>CovidWorryIndex</th>\n",
       "      <th>3MonPriorMoodStateIndex</th>\n",
       "      <th>2WkPriorMoodStateIndex</th>\n",
       "      <th>3MonPriorMediaUseIndex</th>\n",
       "      <th>2WkPriorMediaUseIndex</th>\n",
       "      <th>3MonPriorsubstanceUseIndex</th>\n",
       "      <th>2WkPriorsubstanceUseIndex</th>\n",
       "      <th>3MonPriorBehaviourIndex</th>\n",
       "      <th>3MonPriorBehaviourIndex</th>\n",
       "      <th>LifechnageStressIndex</th>\n",
       "    </tr>\n",
       "  </thead>\n",
       "  <tbody>\n",
       "    <tr>\n",
       "      <th>0</th>\n",
       "      <td>40.0</td>\n",
       "      <td>38.0</td>\n",
       "      <td>44.0</td>\n",
       "      <td>73.33</td>\n",
       "      <td>73.33</td>\n",
       "      <td>12.50</td>\n",
       "      <td>12.50</td>\n",
       "      <td>75.00</td>\n",
       "      <td>100.00</td>\n",
       "      <td>42.0</td>\n",
       "    </tr>\n",
       "    <tr>\n",
       "      <th>1</th>\n",
       "      <td>30.0</td>\n",
       "      <td>28.0</td>\n",
       "      <td>46.0</td>\n",
       "      <td>80.00</td>\n",
       "      <td>86.67</td>\n",
       "      <td>16.07</td>\n",
       "      <td>16.07</td>\n",
       "      <td>79.17</td>\n",
       "      <td>79.17</td>\n",
       "      <td>40.0</td>\n",
       "    </tr>\n",
       "    <tr>\n",
       "      <th>2</th>\n",
       "      <td>60.0</td>\n",
       "      <td>60.0</td>\n",
       "      <td>54.0</td>\n",
       "      <td>73.33</td>\n",
       "      <td>73.33</td>\n",
       "      <td>12.50</td>\n",
       "      <td>12.50</td>\n",
       "      <td>70.83</td>\n",
       "      <td>79.17</td>\n",
       "      <td>36.0</td>\n",
       "    </tr>\n",
       "    <tr>\n",
       "      <th>3</th>\n",
       "      <td>65.0</td>\n",
       "      <td>30.0</td>\n",
       "      <td>30.0</td>\n",
       "      <td>40.00</td>\n",
       "      <td>40.00</td>\n",
       "      <td>12.50</td>\n",
       "      <td>12.50</td>\n",
       "      <td>62.50</td>\n",
       "      <td>62.50</td>\n",
       "      <td>50.0</td>\n",
       "    </tr>\n",
       "    <tr>\n",
       "      <th>4</th>\n",
       "      <td>95.0</td>\n",
       "      <td>36.0</td>\n",
       "      <td>74.0</td>\n",
       "      <td>46.67</td>\n",
       "      <td>66.67</td>\n",
       "      <td>33.93</td>\n",
       "      <td>46.43</td>\n",
       "      <td>54.17</td>\n",
       "      <td>66.67</td>\n",
       "      <td>50.0</td>\n",
       "    </tr>\n",
       "  </tbody>\n",
       "</table>\n",
       "</div>"
      ],
      "text/plain": [
       "   CovidWorryIndex  3MonPriorMoodStateIndex  2WkPriorMoodStateIndex  \\\n",
       "0             40.0                     38.0                    44.0   \n",
       "1             30.0                     28.0                    46.0   \n",
       "2             60.0                     60.0                    54.0   \n",
       "3             65.0                     30.0                    30.0   \n",
       "4             95.0                     36.0                    74.0   \n",
       "\n",
       "   3MonPriorMediaUseIndex  2WkPriorMediaUseIndex  3MonPriorsubstanceUseIndex  \\\n",
       "0                   73.33                  73.33                       12.50   \n",
       "1                   80.00                  86.67                       16.07   \n",
       "2                   73.33                  73.33                       12.50   \n",
       "3                   40.00                  40.00                       12.50   \n",
       "4                   46.67                  66.67                       33.93   \n",
       "\n",
       "   2WkPriorsubstanceUseIndex  3MonPriorBehaviourIndex  \\\n",
       "0                      12.50                    75.00   \n",
       "1                      16.07                    79.17   \n",
       "2                      12.50                    70.83   \n",
       "3                      12.50                    62.50   \n",
       "4                      46.43                    54.17   \n",
       "\n",
       "   3MonPriorBehaviourIndex  LifechnageStressIndex  \n",
       "0                   100.00                   42.0  \n",
       "1                    79.17                   40.0  \n",
       "2                    79.17                   36.0  \n",
       "3                    62.50                   50.0  \n",
       "4                    66.67                   50.0  "
      ]
     },
     "execution_count": 41,
     "metadata": {},
     "output_type": "execute_result"
    }
   ],
   "source": [
    "lifechange_stress_df=adult_adj_df[lifechanges_stress_cols]\n",
    "lifechange_stress_df['LifechnageStressIndex']=lifechange_stress_df[lifechanges_stress_cols].apply(getLifechnageStressIndex, axis=1)\n",
    "adult_df14=pd.concat([adult_df13,lifechange_stress_df['LifechnageStressIndex']],axis=1)\n",
    "print(adult_df13.shape,adult_df14.shape)\n",
    "adult_df14.head()"
   ]
  },
  {
   "cell_type": "code",
   "execution_count": 42,
   "metadata": {},
   "outputs": [],
   "source": [
    "#Additional Columns\n",
    "lifechanges_addtional_cols=['positivechange','schoolclosed','work','inpersonconvo','timeoutside','foodsecurity']\n",
    "additional_cols=['ID','YearMonth','hopefullyend','readingtalking','disruptedsupports___1',\n",
    "'disruptedsupports___2',\n",
    "'disruptedsupports___3',\n",
    "'disruptedsupports___4',\n",
    "'disruptedsupports___5',\n",
    "'disruptedsupports___6',\n",
    "'disruptedsupports___7',\n",
    "'disruptedsupports___8',\n",
    "'disruptedsupports___9',\n",
    "'disruptedsupports___10',\n",
    "'disruptedsupports___11',\n",
    "'disruptedsupports___12',\n",
    "'disruptedsupports___13']\n",
    "usecols=demographic_cols+exp_cols+symp_cols+Impact_cols+diagnosis_cols+lifechanges_addtional_cols+additional_cols"
   ]
  },
  {
   "cell_type": "code",
   "execution_count": 43,
   "metadata": {},
   "outputs": [
    {
     "name": "stdout",
     "output_type": "stream",
     "text": [
      "(2868, 110) (2868, 10) (2868, 218)\n"
     ]
    }
   ],
   "source": [
    "adult_final_2020_df=pd.concat([adult_adj_df[usecols],adult_df14],axis=1)\n",
    "print(adult_final_2020_df.shape,adult_df14.shape,adult_adj_df.shape)"
   ]
  },
  {
   "cell_type": "code",
   "execution_count": 44,
   "metadata": {},
   "outputs": [
    {
     "data": {
      "text/html": [
       "<div>\n",
       "<style scoped>\n",
       "    .dataframe tbody tr th:only-of-type {\n",
       "        vertical-align: middle;\n",
       "    }\n",
       "\n",
       "    .dataframe tbody tr th {\n",
       "        vertical-align: top;\n",
       "    }\n",
       "\n",
       "    .dataframe thead th {\n",
       "        text-align: right;\n",
       "    }\n",
       "</style>\n",
       "<table border=\"1\" class=\"dataframe\">\n",
       "  <thead>\n",
       "    <tr style=\"text-align: right;\">\n",
       "      <th></th>\n",
       "      <th>country</th>\n",
       "      <th>age_bin_30_under</th>\n",
       "      <th>age_bin_30-49</th>\n",
       "      <th>age_bin_50_over</th>\n",
       "      <th>sex</th>\n",
       "      <th>working___1</th>\n",
       "      <th>working___2</th>\n",
       "      <th>working___3</th>\n",
       "      <th>working___4</th>\n",
       "      <th>working___5</th>\n",
       "      <th>...</th>\n",
       "      <th>CovidWorryIndex</th>\n",
       "      <th>3MonPriorMoodStateIndex</th>\n",
       "      <th>2WkPriorMoodStateIndex</th>\n",
       "      <th>3MonPriorMediaUseIndex</th>\n",
       "      <th>2WkPriorMediaUseIndex</th>\n",
       "      <th>3MonPriorsubstanceUseIndex</th>\n",
       "      <th>2WkPriorsubstanceUseIndex</th>\n",
       "      <th>3MonPriorBehaviourIndex</th>\n",
       "      <th>3MonPriorBehaviourIndex</th>\n",
       "      <th>LifechnageStressIndex</th>\n",
       "    </tr>\n",
       "  </thead>\n",
       "  <tbody>\n",
       "    <tr>\n",
       "      <th>0</th>\n",
       "      <td>187.0</td>\n",
       "      <td>1</td>\n",
       "      <td>0</td>\n",
       "      <td>0</td>\n",
       "      <td>1.0</td>\n",
       "      <td>0</td>\n",
       "      <td>0</td>\n",
       "      <td>0</td>\n",
       "      <td>0</td>\n",
       "      <td>0</td>\n",
       "      <td>...</td>\n",
       "      <td>40.0</td>\n",
       "      <td>38.0</td>\n",
       "      <td>44.0</td>\n",
       "      <td>73.33</td>\n",
       "      <td>73.33</td>\n",
       "      <td>12.50</td>\n",
       "      <td>12.50</td>\n",
       "      <td>75.00</td>\n",
       "      <td>100.00</td>\n",
       "      <td>42.0</td>\n",
       "    </tr>\n",
       "    <tr>\n",
       "      <th>1</th>\n",
       "      <td>187.0</td>\n",
       "      <td>0</td>\n",
       "      <td>1</td>\n",
       "      <td>0</td>\n",
       "      <td>1.0</td>\n",
       "      <td>1</td>\n",
       "      <td>0</td>\n",
       "      <td>0</td>\n",
       "      <td>0</td>\n",
       "      <td>0</td>\n",
       "      <td>...</td>\n",
       "      <td>30.0</td>\n",
       "      <td>28.0</td>\n",
       "      <td>46.0</td>\n",
       "      <td>80.00</td>\n",
       "      <td>86.67</td>\n",
       "      <td>16.07</td>\n",
       "      <td>16.07</td>\n",
       "      <td>79.17</td>\n",
       "      <td>79.17</td>\n",
       "      <td>40.0</td>\n",
       "    </tr>\n",
       "    <tr>\n",
       "      <th>2</th>\n",
       "      <td>187.0</td>\n",
       "      <td>1</td>\n",
       "      <td>0</td>\n",
       "      <td>0</td>\n",
       "      <td>2.0</td>\n",
       "      <td>1</td>\n",
       "      <td>0</td>\n",
       "      <td>0</td>\n",
       "      <td>0</td>\n",
       "      <td>0</td>\n",
       "      <td>...</td>\n",
       "      <td>60.0</td>\n",
       "      <td>60.0</td>\n",
       "      <td>54.0</td>\n",
       "      <td>73.33</td>\n",
       "      <td>73.33</td>\n",
       "      <td>12.50</td>\n",
       "      <td>12.50</td>\n",
       "      <td>70.83</td>\n",
       "      <td>79.17</td>\n",
       "      <td>36.0</td>\n",
       "    </tr>\n",
       "    <tr>\n",
       "      <th>3</th>\n",
       "      <td>187.0</td>\n",
       "      <td>0</td>\n",
       "      <td>0</td>\n",
       "      <td>1</td>\n",
       "      <td>1.0</td>\n",
       "      <td>1</td>\n",
       "      <td>0</td>\n",
       "      <td>0</td>\n",
       "      <td>0</td>\n",
       "      <td>0</td>\n",
       "      <td>...</td>\n",
       "      <td>65.0</td>\n",
       "      <td>30.0</td>\n",
       "      <td>30.0</td>\n",
       "      <td>40.00</td>\n",
       "      <td>40.00</td>\n",
       "      <td>12.50</td>\n",
       "      <td>12.50</td>\n",
       "      <td>62.50</td>\n",
       "      <td>62.50</td>\n",
       "      <td>50.0</td>\n",
       "    </tr>\n",
       "    <tr>\n",
       "      <th>4</th>\n",
       "      <td>187.0</td>\n",
       "      <td>0</td>\n",
       "      <td>1</td>\n",
       "      <td>0</td>\n",
       "      <td>2.0</td>\n",
       "      <td>0</td>\n",
       "      <td>1</td>\n",
       "      <td>0</td>\n",
       "      <td>0</td>\n",
       "      <td>0</td>\n",
       "      <td>...</td>\n",
       "      <td>95.0</td>\n",
       "      <td>36.0</td>\n",
       "      <td>74.0</td>\n",
       "      <td>46.67</td>\n",
       "      <td>66.67</td>\n",
       "      <td>33.93</td>\n",
       "      <td>46.43</td>\n",
       "      <td>54.17</td>\n",
       "      <td>66.67</td>\n",
       "      <td>50.0</td>\n",
       "    </tr>\n",
       "  </tbody>\n",
       "</table>\n",
       "<p>5 rows × 110 columns</p>\n",
       "</div>"
      ],
      "text/plain": [
       "   country  age_bin_30_under  age_bin_30-49  age_bin_50_over  sex  \\\n",
       "0    187.0                 1              0                0  1.0   \n",
       "1    187.0                 0              1                0  1.0   \n",
       "2    187.0                 1              0                0  2.0   \n",
       "3    187.0                 0              0                1  1.0   \n",
       "4    187.0                 0              1                0  2.0   \n",
       "\n",
       "   working___1  working___2  working___3  working___4  working___5  ...  \\\n",
       "0            0            0            0            0            0  ...   \n",
       "1            1            0            0            0            0  ...   \n",
       "2            1            0            0            0            0  ...   \n",
       "3            1            0            0            0            0  ...   \n",
       "4            0            1            0            0            0  ...   \n",
       "\n",
       "   CovidWorryIndex  3MonPriorMoodStateIndex  2WkPriorMoodStateIndex  \\\n",
       "0             40.0                     38.0                    44.0   \n",
       "1             30.0                     28.0                    46.0   \n",
       "2             60.0                     60.0                    54.0   \n",
       "3             65.0                     30.0                    30.0   \n",
       "4             95.0                     36.0                    74.0   \n",
       "\n",
       "   3MonPriorMediaUseIndex  2WkPriorMediaUseIndex  3MonPriorsubstanceUseIndex  \\\n",
       "0                   73.33                  73.33                       12.50   \n",
       "1                   80.00                  86.67                       16.07   \n",
       "2                   73.33                  73.33                       12.50   \n",
       "3                   40.00                  40.00                       12.50   \n",
       "4                   46.67                  66.67                       33.93   \n",
       "\n",
       "   2WkPriorsubstanceUseIndex  3MonPriorBehaviourIndex  \\\n",
       "0                      12.50                    75.00   \n",
       "1                      16.07                    79.17   \n",
       "2                      12.50                    70.83   \n",
       "3                      12.50                    62.50   \n",
       "4                      46.43                    54.17   \n",
       "\n",
       "   3MonPriorBehaviourIndex  LifechnageStressIndex  \n",
       "0                   100.00                   42.0  \n",
       "1                    79.17                   40.0  \n",
       "2                    79.17                   36.0  \n",
       "3                    62.50                   50.0  \n",
       "4                    66.67                   50.0  \n",
       "\n",
       "[5 rows x 110 columns]"
      ]
     },
     "execution_count": 44,
     "metadata": {},
     "output_type": "execute_result"
    }
   ],
   "source": [
    "adult_final_2020_df.head()"
   ]
  },
  {
   "cell_type": "markdown",
   "metadata": {},
   "source": [
    "- Mood States Likely Predictors"
   ]
  },
  {
   "cell_type": "code",
   "execution_count": 45,
   "metadata": {},
   "outputs": [],
   "source": [
    "##Convert into classes\n",
    "adult_final_2020_df['2WkPriorMoodStateClass']=adult_final_2020_df['2WkPriorMoodStateIndex'].apply(get2WkPriorMoodStateClass)"
   ]
  },
  {
   "cell_type": "code",
   "execution_count": 46,
   "metadata": {},
   "outputs": [
    {
     "data": {
      "text/plain": [
       "Moderately Stressed    0.479777\n",
       "Normal                 0.313808\n",
       "Extremely Stressed     0.206416\n",
       "Name: 2WkPriorMoodStateClass, dtype: float64"
      ]
     },
     "execution_count": 46,
     "metadata": {},
     "output_type": "execute_result"
    }
   ],
   "source": [
    "adult_final_2020_df['2WkPriorMoodStateClass'].value_counts(normalize=True)"
   ]
  },
  {
   "cell_type": "code",
   "execution_count": 47,
   "metadata": {},
   "outputs": [],
   "source": [
    "#Split by Country\n",
    "adult_df16=adult_final_2020_df.query(\"country==186\")# or country==186\")"
   ]
  },
  {
   "cell_type": "code",
   "execution_count": 48,
   "metadata": {},
   "outputs": [
    {
     "data": {
      "text/plain": [
       "Moderately Stressed    0.479138\n",
       "Normal                 0.331711\n",
       "Extremely Stressed     0.189152\n",
       "Name: 2WkPriorMoodStateClass, dtype: float64"
      ]
     },
     "execution_count": 48,
     "metadata": {},
     "output_type": "execute_result"
    }
   ],
   "source": [
    "adult_df16['2WkPriorMoodStateClass'].value_counts(normalize=True)"
   ]
  },
  {
   "cell_type": "code",
   "execution_count": 49,
   "metadata": {},
   "outputs": [],
   "source": [
    "# Use numpy to convert to arrays\n",
    "import numpy as np\n",
    "\n",
    "labels = np.array(adult_df16['2WkPriorMoodStateClass'])\n",
    "features= adult_df16.drop(['2WkPriorMoodStateClass','2WkPriorMoodStateIndex','ID','YearMonth'], axis = 1)\n",
    "feature_list = list(features.columns)\n",
    "features = np.array(features)"
   ]
  },
  {
   "cell_type": "code",
   "execution_count": 50,
   "metadata": {},
   "outputs": [],
   "source": [
    "# Using Skicit-learn to split data into training and testing sets\n",
    "from sklearn.model_selection import train_test_split\n",
    "train_features, test_features, train_labels, test_labels = train_test_split(features, labels, test_size = 0.25, random_state = 42)"
   ]
  },
  {
   "cell_type": "code",
   "execution_count": 51,
   "metadata": {},
   "outputs": [],
   "source": [
    "# Import the model we are using\n",
    "from sklearn.ensemble import RandomForestClassifier\n",
    "# Instantiate model with 1000 decision trees\n",
    "rf = RandomForestClassifier(n_estimators= 800,\n",
    " min_samples_split= 2,\n",
    " min_samples_leaf= 2,\n",
    " max_features='sqrt',\n",
    " max_depth= 50,\n",
    " bootstrap=False)\n",
    "# Train the model on training data\n",
    "rf.fit(train_features, train_labels);"
   ]
  },
  {
   "cell_type": "code",
   "execution_count": 52,
   "metadata": {},
   "outputs": [],
   "source": [
    "from sklearn.metrics import classification_report\n",
    "# Use the forest's predict method on the test data\n",
    "predictions = rf.predict(test_features)"
   ]
  },
  {
   "cell_type": "code",
   "execution_count": 53,
   "metadata": {},
   "outputs": [
    {
     "data": {
      "text/plain": [
       "0.6694"
      ]
     },
     "execution_count": 53,
     "metadata": {},
     "output_type": "execute_result"
    }
   ],
   "source": [
    "round(rf.score(test_features,test_labels), 4)"
   ]
  },
  {
   "cell_type": "code",
   "execution_count": 54,
   "metadata": {},
   "outputs": [
    {
     "name": "stdout",
     "output_type": "stream",
     "text": [
      "                 precision    recall  f1-score   support\n",
      "\n",
      " Extreme Stress       0.77      0.40      0.53        60\n",
      "Moderate Stress       0.63      0.82      0.71       179\n",
      "         Normal       0.74      0.58      0.65       121\n",
      "\n",
      "       accuracy                           0.67       360\n",
      "      macro avg       0.71      0.60      0.63       360\n",
      "   weighted avg       0.69      0.67      0.66       360\n",
      "\n"
     ]
    }
   ],
   "source": [
    "from sklearn.metrics import classification_report\n",
    "target_names = ['Extreme Stress', 'Moderate Stress', 'Normal']\n",
    "print(classification_report(test_labels, predictions, target_names=target_names))"
   ]
  },
  {
   "cell_type": "code",
   "execution_count": 55,
   "metadata": {},
   "outputs": [
    {
     "name": "stdout",
     "output_type": "stream",
     "text": [
      "Variable: CovidWorryIndex      Importance: 0.09\n",
      "Variable: 3MonPriorMoodStateIndex Importance: 0.09\n",
      "Variable: LifechnageStressIndex Importance: 0.09\n",
      "Variable: mentalhealth         Importance: 0.04\n",
      "Variable: 2WkPriorMediaUseIndex Importance: 0.04\n",
      "Variable: tall                 Importance: 0.03\n",
      "Variable: weight               Importance: 0.03\n",
      "Variable: 3MonPriorMediaUseIndex Importance: 0.03\n",
      "Variable: 3MonPriorBehaviourIndex Importance: 0.03\n",
      "Variable: location             Importance: 0.02\n",
      "Variable: education            Importance: 0.02\n",
      "Variable: educationmother      Importance: 0.02\n",
      "Variable: educationfather      Importance: 0.02\n",
      "Variable: householdnumber      Importance: 0.02\n",
      "Variable: roomsinhouse         Importance: 0.02\n",
      "Variable: physicalhealth       Importance: 0.02\n",
      "Variable: positivechange       Importance: 0.02\n",
      "Variable: inpersonconvo        Importance: 0.02\n",
      "Variable: hopefullyend         Importance: 0.02\n",
      "Variable: readingtalking       Importance: 0.02\n",
      "Variable: 3MonPriorsubstanceUseIndex Importance: 0.02\n",
      "Variable: 2WkPriorsubstanceUseIndex Importance: 0.02\n",
      "Variable: 3MonPriorBehaviourIndex Importance: 0.02\n",
      "Variable: age_bin_30_under     Importance: 0.01\n",
      "Variable: age_bin_30-49        Importance: 0.01\n",
      "Variable: age_bin_50_over      Importance: 0.01\n",
      "Variable: sex                  Importance: 0.01\n",
      "Variable: working___1          Importance: 0.01\n",
      "Variable: working___5          Importance: 0.01\n",
      "Variable: essentialworkers     Importance: 0.01\n",
      "Variable: householdcomp___1    Importance: 0.01\n",
      "Variable: householdcomp___5    Importance: 0.01\n",
      "Variable: insurance            Importance: 0.01\n",
      "Variable: healthconditions___1 Importance: 0.01\n",
      "Variable: healthconditions___13 Importance: 0.01\n",
      "Variable: measurementheight    Importance: 0.01\n",
      "Variable: measurementweight    Importance: 0.01\n",
      "Variable: symptoms___2         Importance: 0.01\n",
      "Variable: symptoms___5         Importance: 0.01\n",
      "Variable: impact___6           Importance: 0.01\n",
      "Variable: impact___8           Importance: 0.01\n",
      "Variable: work                 Importance: 0.01\n",
      "Variable: timeoutside          Importance: 0.01\n",
      "Variable: foodsecurity         Importance: 0.01\n",
      "Variable: disruptedsupports___11 Importance: 0.01\n",
      "Variable: country              Importance: 0.0\n",
      "Variable: working___2          Importance: 0.0\n",
      "Variable: working___3          Importance: 0.0\n",
      "Variable: working___4          Importance: 0.0\n",
      "Variable: working___6          Importance: 0.0\n",
      "Variable: working___7          Importance: 0.0\n",
      "Variable: working___8          Importance: 0.0\n",
      "Variable: military             Importance: 0.0\n",
      "Variable: householdcomp___2    Importance: 0.0\n",
      "Variable: householdcomp___3    Importance: 0.0\n",
      "Variable: householdcomp___4    Importance: 0.0\n",
      "Variable: householdcomp___6    Importance: 0.0\n",
      "Variable: householdcomp___7    Importance: 0.0\n",
      "Variable: govassist            Importance: 0.0\n",
      "Variable: healthconditions___2 Importance: 0.0\n",
      "Variable: healthconditions___3 Importance: 0.0\n",
      "Variable: healthconditions___4 Importance: 0.0\n",
      "Variable: healthconditions___5 Importance: 0.0\n",
      "Variable: healthconditions___6 Importance: 0.0\n",
      "Variable: healthconditions___7 Importance: 0.0\n",
      "Variable: healthconditions___8 Importance: 0.0\n",
      "Variable: healthconditions___9 Importance: 0.0\n",
      "Variable: healthconditions___10 Importance: 0.0\n",
      "Variable: healthconditions___11 Importance: 0.0\n",
      "Variable: healthconditions___12 Importance: 0.0\n",
      "Variable: healthconditions___14 Importance: 0.0\n",
      "Variable: healthconditions___15 Importance: 0.0\n",
      "Variable: healthconditions___16 Importance: 0.0\n",
      "Variable: healthconditions___17 Importance: 0.0\n",
      "Variable: isparent             Importance: 0.0\n",
      "Variable: exposed___1          Importance: 0.0\n",
      "Variable: exposed___2          Importance: 0.0\n",
      "Variable: exposed___3          Importance: 0.0\n",
      "Variable: exposed___4          Importance: 0.0\n",
      "Variable: infected             Importance: 0.0\n",
      "Variable: symptoms___1         Importance: 0.0\n",
      "Variable: symptoms___3         Importance: 0.0\n",
      "Variable: symptoms___4         Importance: 0.0\n",
      "Variable: symptoms___6         Importance: 0.0\n",
      "Variable: symptoms___7         Importance: 0.0\n",
      "Variable: symptoms___8         Importance: 0.0\n",
      "Variable: impact___1           Importance: 0.0\n",
      "Variable: impact___2           Importance: 0.0\n",
      "Variable: impact___3           Importance: 0.0\n",
      "Variable: impact___4           Importance: 0.0\n",
      "Variable: impact___5           Importance: 0.0\n",
      "Variable: impact___7           Importance: 0.0\n",
      "Variable: diagnosedfamily___1  Importance: 0.0\n",
      "Variable: diagnosedfamily___2  Importance: 0.0\n",
      "Variable: schoolclosed         Importance: 0.0\n",
      "Variable: disruptedsupports___1 Importance: 0.0\n",
      "Variable: disruptedsupports___2 Importance: 0.0\n",
      "Variable: disruptedsupports___3 Importance: 0.0\n",
      "Variable: disruptedsupports___4 Importance: 0.0\n",
      "Variable: disruptedsupports___5 Importance: 0.0\n",
      "Variable: disruptedsupports___6 Importance: 0.0\n",
      "Variable: disruptedsupports___7 Importance: 0.0\n",
      "Variable: disruptedsupports___8 Importance: 0.0\n",
      "Variable: disruptedsupports___9 Importance: 0.0\n",
      "Variable: disruptedsupports___10 Importance: 0.0\n",
      "Variable: disruptedsupports___12 Importance: 0.0\n",
      "Variable: disruptedsupports___13 Importance: 0.0\n"
     ]
    }
   ],
   "source": [
    "# Get numerical feature importances\n",
    "importances = list(rf.feature_importances_)\n",
    "# List of tuples with variable and importance\n",
    "feature_importances = [(feature, round(importance, 2)) for feature, importance in zip(feature_list, importances)]\n",
    "# Sort the feature importances by most important first\n",
    "feature_importances = sorted(feature_importances, key = lambda x: x[1], reverse = True)\n",
    "# Print out the feature and importances \n",
    "[print('Variable: {:20} Importance: {}'.format(*pair)) for pair in feature_importances];"
   ]
  },
  {
   "cell_type": "code",
   "execution_count": 56,
   "metadata": {},
   "outputs": [],
   "source": [
    "##### Perform Grid Search to get best hyperparameters\n",
    "\n",
    "from sklearn.model_selection import RandomizedSearchCV\n",
    "# Number of trees in random forest\n",
    "n_estimators = [int(x) for x in np.linspace(start = 200, stop = 2000, num = 10)]\n",
    "# Number of features to consider at every split\n",
    "max_features = ['auto', 'sqrt']\n",
    "# Maximum number of levels in tree\n",
    "max_depth = [int(x) for x in np.linspace(10, 110, num = 11)]\n",
    "max_depth.append(None)\n",
    "# Minimum number of samples required to split a node\n",
    "min_samples_split = [2, 5, 10]\n",
    "# Minimum number of samples required at each leaf node\n",
    "min_samples_leaf = [1, 2, 4]\n",
    "# Method of selecting samples for training each tree\n",
    "bootstrap = [True, False]\n",
    "# Create the random grid\n",
    "random_grid = {'n_estimators': n_estimators,\n",
    "               'max_features': max_features,\n",
    "               'max_depth': max_depth,\n",
    "               'min_samples_split': min_samples_split,\n",
    "               'min_samples_leaf': min_samples_leaf,\n",
    "               'bootstrap': bootstrap}\n",
    "\n",
    "rf = RandomForestClassifier()\n",
    "rf_random = RandomizedSearchCV(estimator = rf, param_distributions = random_grid, n_iter = 100, cv = 3, verbose=2, random_state=42, n_jobs = -1)\n",
    "#rf_random.fit(train_features, train_labels)\n",
    "#rf_random.best_params_"
   ]
  },
  {
   "cell_type": "markdown",
   "metadata": {},
   "source": [
    "### May 2020- Adult"
   ]
  },
  {
   "cell_type": "code",
   "execution_count": 57,
   "metadata": {},
   "outputs": [
    {
     "data": {
      "text/plain": [
       "186.0    1732\n",
       "187.0    1407\n",
       "Name: country, dtype: int64"
      ]
     },
     "execution_count": 57,
     "metadata": {},
     "output_type": "execute_result"
    }
   ],
   "source": [
    "adult_May_df = pd.read_csv('Data/ProlificAcademic/updated_data/May/CRISIS_Adult_May_2020.csv')\n",
    "adult_May_df.country.value_counts()"
   ]
  },
  {
   "cell_type": "code",
   "execution_count": 58,
   "metadata": {},
   "outputs": [
    {
     "name": "stdout",
     "output_type": "stream",
     "text": [
      "(3148, 109)\n",
      "(3148, 111)\n"
     ]
    }
   ],
   "source": [
    "print(adult_May_df.shape)\n",
    "adult_May_df=pd.merge(adult_May_df,mappind_df[['Adult_ID','Parent_ID']],left_on=['ID'],right_on=['Adult_ID'],how='left')\n",
    "print(adult_May_df.shape)\n",
    "adult_May_df['isparent']=adult_May_df['Parent_ID'].apply(isParent)"
   ]
  },
  {
   "cell_type": "code",
   "execution_count": 59,
   "metadata": {},
   "outputs": [],
   "source": [
    "adult_May_df['YearMonth']=\"2020-05\""
   ]
  },
  {
   "cell_type": "code",
   "execution_count": 60,
   "metadata": {},
   "outputs": [
    {
     "name": "stdout",
     "output_type": "stream",
     "text": [
      "(3148, 113)\n",
      "(3148, 97)\n"
     ]
    }
   ],
   "source": [
    "##Remove Columns with missing values more than threshold\n",
    "print(adult_May_df.shape)\n",
    "missing_val_threshold=0.8\n",
    "adult_adj_May_df=adult_May_df.dropna(thresh=adult_May_df.shape[0]*missing_val_threshold,how='all',axis=1)\n",
    "print(adult_adj_May_df.shape)\n",
    "\n",
    "#Dropped Columns\n",
    "for col in adult_adj_May_df.columns:\n",
    "    if col not in adult_adj_May_df.columns:\n",
    "        print(col)"
   ]
  },
  {
   "cell_type": "code",
   "execution_count": 61,
   "metadata": {},
   "outputs": [
    {
     "data": {
      "text/plain": [
       "exposed___1           exposed___1             1.000000\n",
       "isparent              isparent                1.000000\n",
       "bedtimeweekdays       bedtimeweekends         0.872990\n",
       "bedtimeweekends       bedtimeweekdays         0.872990\n",
       "diagnosedfamily___3   diagnosedfamily___2     0.811339\n",
       "diagnosedfamily___2   diagnosedfamily___3     0.811339\n",
       "hoursofsleepweekends  hoursofsleepweekdays    0.793578\n",
       "hoursofsleepweekdays  hoursofsleepweekends    0.793578\n",
       "worriedothers         worriedyourself         0.738891\n",
       "worriedyourself       worriedothers           0.738891\n",
       "dtype: float64"
      ]
     },
     "execution_count": 61,
     "metadata": {},
     "output_type": "execute_result"
    }
   ],
   "source": [
    "## Correlation Analysis\n",
    "numerics = ['int16', 'int32', 'int64', 'float16', 'float32', 'float64']\n",
    "corr_df = adult_adj_May_df.select_dtypes(include=numerics)\n",
    "corr_df = corr_df.apply(pd.to_numeric)\n",
    "#lifechanges_df.corr().abs()\n",
    "#factor_df.corr(method=\"pearson\")\n",
    "c = corr_df.corr().abs()\n",
    "\n",
    "s = c.unstack()\n",
    "so = s.sort_values(kind=\"quicksort\", ascending=False)\n",
    "so[88:98]"
   ]
  },
  {
   "cell_type": "code",
   "execution_count": 62,
   "metadata": {},
   "outputs": [
    {
     "name": "stdout",
     "output_type": "stream",
     "text": [
      "(3148, 96)\n"
     ]
    },
    {
     "name": "stderr",
     "output_type": "stream",
     "text": [
      "C:\\Users\\Administrator\\anaconda3\\lib\\site-packages\\pandas\\core\\frame.py:4906: SettingWithCopyWarning: \n",
      "A value is trying to be set on a copy of a slice from a DataFrame\n",
      "\n",
      "See the caveats in the documentation: https://pandas.pydata.org/pandas-docs/stable/user_guide/indexing.html#returning-a-view-versus-a-copy\n",
      "  return super().drop(\n"
     ]
    }
   ],
   "source": [
    "#Drop columns with too high correlations\n",
    "# bedtimeweekdays       bedtimeweekends         0.872990\n",
    "\n",
    "#Keeping bedtimeweekdays\n",
    "adult_adj_May_df.drop(['bedtimeweekdays'], axis=1, inplace=True)\n",
    "print(adult_adj_May_df.shape)"
   ]
  },
  {
   "cell_type": "code",
   "execution_count": 63,
   "metadata": {},
   "outputs": [
    {
     "data": {
      "text/html": [
       "<div>\n",
       "<style scoped>\n",
       "    .dataframe tbody tr th:only-of-type {\n",
       "        vertical-align: middle;\n",
       "    }\n",
       "\n",
       "    .dataframe tbody tr th {\n",
       "        vertical-align: top;\n",
       "    }\n",
       "\n",
       "    .dataframe thead th {\n",
       "        text-align: right;\n",
       "    }\n",
       "</style>\n",
       "<table border=\"1\" class=\"dataframe\">\n",
       "  <thead>\n",
       "    <tr style=\"text-align: right;\">\n",
       "      <th></th>\n",
       "      <th>ID</th>\n",
       "      <th>timestamp1</th>\n",
       "      <th>country</th>\n",
       "      <th>age</th>\n",
       "      <th>exposed___1</th>\n",
       "      <th>exposed___2</th>\n",
       "      <th>exposed___3</th>\n",
       "      <th>exposed___4</th>\n",
       "      <th>infected</th>\n",
       "      <th>symptoms___1</th>\n",
       "      <th>...</th>\n",
       "      <th>adult_selfreport_follow_up_form_complete</th>\n",
       "      <th>inpersonconvo_bin</th>\n",
       "      <th>age_bin</th>\n",
       "      <th>Adult_ID</th>\n",
       "      <th>Parent_ID</th>\n",
       "      <th>isparent</th>\n",
       "      <th>YearMonth</th>\n",
       "      <th>age_bin_30-49</th>\n",
       "      <th>age_bin_30_under</th>\n",
       "      <th>age_bin_50_over</th>\n",
       "    </tr>\n",
       "  </thead>\n",
       "  <tbody>\n",
       "    <tr>\n",
       "      <th>0</th>\n",
       "      <td>000f4287</td>\n",
       "      <td>4/30/20 21:29</td>\n",
       "      <td>186.0</td>\n",
       "      <td>37.0</td>\n",
       "      <td>0</td>\n",
       "      <td>0</td>\n",
       "      <td>0</td>\n",
       "      <td>1</td>\n",
       "      <td>4.0</td>\n",
       "      <td>0</td>\n",
       "      <td>...</td>\n",
       "      <td>2</td>\n",
       "      <td>2.0</td>\n",
       "      <td>30-49</td>\n",
       "      <td>000f4287</td>\n",
       "      <td>_NA_</td>\n",
       "      <td>0</td>\n",
       "      <td>2020-05</td>\n",
       "      <td>1</td>\n",
       "      <td>0</td>\n",
       "      <td>0</td>\n",
       "    </tr>\n",
       "    <tr>\n",
       "      <th>1</th>\n",
       "      <td>00136f50</td>\n",
       "      <td>4/30/20 12:26</td>\n",
       "      <td>187.0</td>\n",
       "      <td>18.0</td>\n",
       "      <td>0</td>\n",
       "      <td>0</td>\n",
       "      <td>1</td>\n",
       "      <td>0</td>\n",
       "      <td>3.0</td>\n",
       "      <td>0</td>\n",
       "      <td>...</td>\n",
       "      <td>2</td>\n",
       "      <td>2.0</td>\n",
       "      <td>30_under</td>\n",
       "      <td>00136f50</td>\n",
       "      <td>_NA_</td>\n",
       "      <td>0</td>\n",
       "      <td>2020-05</td>\n",
       "      <td>0</td>\n",
       "      <td>1</td>\n",
       "      <td>0</td>\n",
       "    </tr>\n",
       "    <tr>\n",
       "      <th>2</th>\n",
       "      <td>003db2d0</td>\n",
       "      <td>5/3/20 14:01</td>\n",
       "      <td>187.0</td>\n",
       "      <td>34.0</td>\n",
       "      <td>0</td>\n",
       "      <td>0</td>\n",
       "      <td>0</td>\n",
       "      <td>1</td>\n",
       "      <td>4.0</td>\n",
       "      <td>0</td>\n",
       "      <td>...</td>\n",
       "      <td>2</td>\n",
       "      <td>2.0</td>\n",
       "      <td>30-49</td>\n",
       "      <td>003db2d0</td>\n",
       "      <td>_NA_</td>\n",
       "      <td>0</td>\n",
       "      <td>2020-05</td>\n",
       "      <td>1</td>\n",
       "      <td>0</td>\n",
       "      <td>0</td>\n",
       "    </tr>\n",
       "    <tr>\n",
       "      <th>3</th>\n",
       "      <td>00601150</td>\n",
       "      <td>4/30/20 14:38</td>\n",
       "      <td>187.0</td>\n",
       "      <td>38.0</td>\n",
       "      <td>0</td>\n",
       "      <td>0</td>\n",
       "      <td>0</td>\n",
       "      <td>1</td>\n",
       "      <td>4.0</td>\n",
       "      <td>0</td>\n",
       "      <td>...</td>\n",
       "      <td>2</td>\n",
       "      <td>2.0</td>\n",
       "      <td>30-49</td>\n",
       "      <td>00601150</td>\n",
       "      <td>_NA_</td>\n",
       "      <td>0</td>\n",
       "      <td>2020-05</td>\n",
       "      <td>1</td>\n",
       "      <td>0</td>\n",
       "      <td>0</td>\n",
       "    </tr>\n",
       "    <tr>\n",
       "      <th>4</th>\n",
       "      <td>00769460</td>\n",
       "      <td>4/30/20 12:16</td>\n",
       "      <td>186.0</td>\n",
       "      <td>42.0</td>\n",
       "      <td>0</td>\n",
       "      <td>0</td>\n",
       "      <td>0</td>\n",
       "      <td>1</td>\n",
       "      <td>4.0</td>\n",
       "      <td>0</td>\n",
       "      <td>...</td>\n",
       "      <td>2</td>\n",
       "      <td>1.0</td>\n",
       "      <td>30-49</td>\n",
       "      <td>00769460</td>\n",
       "      <td>f9891e60</td>\n",
       "      <td>1</td>\n",
       "      <td>2020-05</td>\n",
       "      <td>1</td>\n",
       "      <td>0</td>\n",
       "      <td>0</td>\n",
       "    </tr>\n",
       "  </tbody>\n",
       "</table>\n",
       "<p>5 rows × 99 columns</p>\n",
       "</div>"
      ],
      "text/plain": [
       "         ID     timestamp1  country   age  exposed___1  exposed___2  \\\n",
       "0  000f4287  4/30/20 21:29    186.0  37.0            0            0   \n",
       "1  00136f50  4/30/20 12:26    187.0  18.0            0            0   \n",
       "2  003db2d0   5/3/20 14:01    187.0  34.0            0            0   \n",
       "3  00601150  4/30/20 14:38    187.0  38.0            0            0   \n",
       "4  00769460  4/30/20 12:16    186.0  42.0            0            0   \n",
       "\n",
       "   exposed___3  exposed___4  infected  symptoms___1  ...  \\\n",
       "0            0            1       4.0             0  ...   \n",
       "1            1            0       3.0             0  ...   \n",
       "2            0            1       4.0             0  ...   \n",
       "3            0            1       4.0             0  ...   \n",
       "4            0            1       4.0             0  ...   \n",
       "\n",
       "   adult_selfreport_follow_up_form_complete  inpersonconvo_bin   age_bin  \\\n",
       "0                                         2                2.0     30-49   \n",
       "1                                         2                2.0  30_under   \n",
       "2                                         2                2.0     30-49   \n",
       "3                                         2                2.0     30-49   \n",
       "4                                         2                1.0     30-49   \n",
       "\n",
       "   Adult_ID  Parent_ID  isparent  YearMonth  age_bin_30-49  age_bin_30_under  \\\n",
       "0  000f4287       _NA_         0    2020-05              1                 0   \n",
       "1  00136f50       _NA_         0    2020-05              0                 1   \n",
       "2  003db2d0       _NA_         0    2020-05              1                 0   \n",
       "3  00601150       _NA_         0    2020-05              1                 0   \n",
       "4  00769460   f9891e60         1    2020-05              1                 0   \n",
       "\n",
       "   age_bin_50_over  \n",
       "0                0  \n",
       "1                0  \n",
       "2                0  \n",
       "3                0  \n",
       "4                0  \n",
       "\n",
       "[5 rows x 99 columns]"
      ]
     },
     "execution_count": 63,
     "metadata": {},
     "output_type": "execute_result"
    }
   ],
   "source": [
    "##Add one-hot encoding for age_bin\n",
    "age_bin_cols = pd.get_dummies(adult_adj_May_df.age_bin, prefix='age_bin')\n",
    "adult_adj_May_df=pd.concat([adult_adj_May_df,age_bin_cols],axis=1)\n",
    "adult_adj_May_df.head()"
   ]
  },
  {
   "cell_type": "code",
   "execution_count": 64,
   "metadata": {},
   "outputs": [],
   "source": [
    "#Fill Null values with \"_NA_\"\n",
    "adult_adj_May_df.fillna(\"_NA_\",inplace=True)"
   ]
  },
  {
   "cell_type": "code",
   "execution_count": 65,
   "metadata": {},
   "outputs": [],
   "source": [
    "#Replace nulls with Mode\n",
    "for column in adult_adj_May_df.columns:\n",
    "    mode_val=adult_adj_May_df[column].mode()\n",
    "    #print(column,mode_val[0])\n",
    "    adult_adj_May_df.replace({column:{\"_NA_\":mode_val[0]}}, inplace=True)"
   ]
  },
  {
   "cell_type": "code",
   "execution_count": 164,
   "metadata": {},
   "outputs": [],
   "source": [
    "#for col in adult_adj_May_df.columns:\n",
    "#    print(col)"
   ]
  },
  {
   "cell_type": "code",
   "execution_count": 66,
   "metadata": {},
   "outputs": [],
   "source": [
    "demographic_cols=['ID','YearMonth','country','age_bin_30_under','age_bin_30-49','age_bin_50_over','isparent'\n",
    "#'raceethnicity___1','raceethnicity___2','raceethnicity___3','raceethnicity___4',\n",
    "#'raceethnicity___5','raceethnicity___6','raceethnicity___7','raceethnicity___8',\n",
    "#'raceethnicity___9','raceethnicity___10','raceethnicity___11','raceethnicity___12',\n",
    "#'raceethnicity___13','raceethnicity___14','raceethnicity___15','raceethnicity___16',\n",
    "#'raceethnicity___17','raceethnicity___18','raceethnicity___19','raceethnicity___20','hispanic',\n",
    "]\n",
    "#occupation\n",
    "\n",
    "exp_cols=['exposed___1',\n",
    "'exposed___2',\n",
    "'exposed___3',\n",
    "'exposed___4','infected']\n",
    "\n",
    "symp_cols=['symptoms___1',\n",
    "'symptoms___2',\n",
    "'symptoms___3',\n",
    "'symptoms___4',\n",
    "'symptoms___5',\n",
    "'symptoms___6',\n",
    "'symptoms___7',\n",
    "'symptoms___8']\n",
    "\n",
    "Impact_cols=['impact___1',\n",
    "'impact___2',\n",
    "'impact___3',\n",
    "'impact___4',\n",
    "'impact___5',\n",
    "'impact___6',\n",
    "'impact___7',\n",
    "'impact___8']\n",
    "\n",
    "diagnosis_cols=['diagnosedfamily___1',\n",
    "'diagnosedfamily___2']\n"
   ]
  },
  {
   "cell_type": "markdown",
   "metadata": {},
   "source": [
    "- Covid Worry"
   ]
  },
  {
   "cell_type": "code",
   "execution_count": 67,
   "metadata": {},
   "outputs": [
    {
     "name": "stdout",
     "output_type": "stream",
     "text": [
      "(3148, 5)\n"
     ]
    },
    {
     "name": "stderr",
     "output_type": "stream",
     "text": [
      "C:\\Users\\ADMINI~1\\AppData\\Local\\Temp\\2/ipykernel_2640/2071946560.py:2: SettingWithCopyWarning: \n",
      "A value is trying to be set on a copy of a slice from a DataFrame.\n",
      "Try using .loc[row_indexer,col_indexer] = value instead\n",
      "\n",
      "See the caveats in the documentation: https://pandas.pydata.org/pandas-docs/stable/user_guide/indexing.html#returning-a-view-versus-a-copy\n",
      "  covid_worry_df['CovidWorryIndex']=covid_worry_df[covidworry_cols].apply(getCovidWorryIndex, axis=1)\n"
     ]
    }
   ],
   "source": [
    "covid_worry_df=adult_adj_May_df[covidworry_cols]\n",
    "covid_worry_df['CovidWorryIndex']=covid_worry_df[covidworry_cols].apply(getCovidWorryIndex, axis=1)\n",
    "print(covid_worry_df.shape)\n",
    "#adult_df5.head()"
   ]
  },
  {
   "cell_type": "markdown",
   "metadata": {},
   "source": [
    "- Mood States"
   ]
  },
  {
   "cell_type": "code",
   "execution_count": 68,
   "metadata": {},
   "outputs": [
    {
     "name": "stdout",
     "output_type": "stream",
     "text": [
      "(3148, 5) (3148, 2)\n"
     ]
    },
    {
     "name": "stderr",
     "output_type": "stream",
     "text": [
      "C:\\Users\\ADMINI~1\\AppData\\Local\\Temp\\2/ipykernel_2640/4116535879.py:6: SettingWithCopyWarning: \n",
      "A value is trying to be set on a copy of a slice from a DataFrame.\n",
      "Try using .loc[row_indexer,col_indexer] = value instead\n",
      "\n",
      "See the caveats in the documentation: https://pandas.pydata.org/pandas-docs/stable/user_guide/indexing.html#returning-a-view-versus-a-copy\n",
      "  covid_mood_2wk_df['2WkPriorMoodStateIndex']=covid_mood_2wk_df[priorworry2_cols].apply(getMoodStateIndex, axis=1)\n"
     ]
    },
    {
     "data": {
      "text/html": [
       "<div>\n",
       "<style scoped>\n",
       "    .dataframe tbody tr th:only-of-type {\n",
       "        vertical-align: middle;\n",
       "    }\n",
       "\n",
       "    .dataframe tbody tr th {\n",
       "        vertical-align: top;\n",
       "    }\n",
       "\n",
       "    .dataframe thead th {\n",
       "        text-align: right;\n",
       "    }\n",
       "</style>\n",
       "<table border=\"1\" class=\"dataframe\">\n",
       "  <thead>\n",
       "    <tr style=\"text-align: right;\">\n",
       "      <th></th>\n",
       "      <th>CovidWorryIndex</th>\n",
       "      <th>2WkPriorMoodStateIndex</th>\n",
       "    </tr>\n",
       "  </thead>\n",
       "  <tbody>\n",
       "    <tr>\n",
       "      <th>0</th>\n",
       "      <td>85.0</td>\n",
       "      <td>56.0</td>\n",
       "    </tr>\n",
       "    <tr>\n",
       "      <th>1</th>\n",
       "      <td>35.0</td>\n",
       "      <td>48.0</td>\n",
       "    </tr>\n",
       "    <tr>\n",
       "      <th>2</th>\n",
       "      <td>30.0</td>\n",
       "      <td>36.0</td>\n",
       "    </tr>\n",
       "    <tr>\n",
       "      <th>3</th>\n",
       "      <td>75.0</td>\n",
       "      <td>58.0</td>\n",
       "    </tr>\n",
       "    <tr>\n",
       "      <th>4</th>\n",
       "      <td>25.0</td>\n",
       "      <td>34.0</td>\n",
       "    </tr>\n",
       "  </tbody>\n",
       "</table>\n",
       "</div>"
      ],
      "text/plain": [
       "   CovidWorryIndex  2WkPriorMoodStateIndex\n",
       "0             85.0                    56.0\n",
       "1             35.0                    48.0\n",
       "2             30.0                    36.0\n",
       "3             75.0                    58.0\n",
       "4             25.0                    34.0"
      ]
     },
     "execution_count": 68,
     "metadata": {},
     "output_type": "execute_result"
    }
   ],
   "source": [
    "## 2 Weeks Prior\n",
    "priorworry2_cols=['priorworry_2','priorhappyvssad_2','priorenjoyactivities_2','priorrelaxedvsanxious_2',\n",
    "         'priorfidget_2', 'priorfatigue_2', 'priorfocus_2', 'priorirritable_2','priorlonely_2', \n",
    "         'priornegthoughts_2']\n",
    "covid_mood_2wk_df=adult_adj_May_df[priorworry2_cols]\n",
    "covid_mood_2wk_df['2WkPriorMoodStateIndex']=covid_mood_2wk_df[priorworry2_cols].apply(getMoodStateIndex, axis=1)\n",
    "adult_df7=pd.concat([covid_worry_df['CovidWorryIndex'],covid_mood_2wk_df['2WkPriorMoodStateIndex']],axis=1)\n",
    "print(covid_worry_df.shape,adult_df7.shape)\n",
    "adult_df7.head()"
   ]
  },
  {
   "cell_type": "code",
   "execution_count": 69,
   "metadata": {},
   "outputs": [
    {
     "name": "stdout",
     "output_type": "stream",
     "text": [
      "(3148, 3) (3148, 2)\n"
     ]
    },
    {
     "name": "stderr",
     "output_type": "stream",
     "text": [
      "C:\\Users\\ADMINI~1\\AppData\\Local\\Temp\\2/ipykernel_2640/20084002.py:4: SettingWithCopyWarning: \n",
      "A value is trying to be set on a copy of a slice from a DataFrame.\n",
      "Try using .loc[row_indexer,col_indexer] = value instead\n",
      "\n",
      "See the caveats in the documentation: https://pandas.pydata.org/pandas-docs/stable/user_guide/indexing.html#returning-a-view-versus-a-copy\n",
      "  covid_media_2wk_df['2WkPriorMediaUseIndex']=covid_media_2wk_df[priormedia2_cols].apply(getMediaUseIndex, axis=1)\n"
     ]
    }
   ],
   "source": [
    "## 2 weeks Prior Media use\n",
    "priormedia2_cols=['priortvmedia_2','priorsocialmedia_2','priorvideogames_2']\n",
    "covid_media_2wk_df=adult_adj_May_df[priormedia2_cols]\n",
    "covid_media_2wk_df['2WkPriorMediaUseIndex']=covid_media_2wk_df[priormedia2_cols].apply(getMediaUseIndex, axis=1)  \n",
    "adult_df9=pd.concat([adult_df7,covid_media_2wk_df['2WkPriorMediaUseIndex']],axis=1)\n",
    "print(adult_df9.shape,adult_df7.shape)\n",
    "#adult_df7.head()"
   ]
  },
  {
   "cell_type": "code",
   "execution_count": 70,
   "metadata": {},
   "outputs": [
    {
     "name": "stdout",
     "output_type": "stream",
     "text": [
      "(3148, 3) (3148, 4)\n"
     ]
    },
    {
     "name": "stderr",
     "output_type": "stream",
     "text": [
      "C:\\Users\\ADMINI~1\\AppData\\Local\\Temp\\2/ipykernel_2640/3550539123.py:2: SettingWithCopyWarning: \n",
      "A value is trying to be set on a copy of a slice from a DataFrame.\n",
      "Try using .loc[row_indexer,col_indexer] = value instead\n",
      "\n",
      "See the caveats in the documentation: https://pandas.pydata.org/pandas-docs/stable/user_guide/indexing.html#returning-a-view-versus-a-copy\n",
      "  lifechange_stress_df['LifechnageStressIndex']=lifechange_stress_df[lifechanges_stress_cols].apply(getLifechnageStressIndex, axis=1)\n"
     ]
    },
    {
     "data": {
      "text/html": [
       "<div>\n",
       "<style scoped>\n",
       "    .dataframe tbody tr th:only-of-type {\n",
       "        vertical-align: middle;\n",
       "    }\n",
       "\n",
       "    .dataframe tbody tr th {\n",
       "        vertical-align: top;\n",
       "    }\n",
       "\n",
       "    .dataframe thead th {\n",
       "        text-align: right;\n",
       "    }\n",
       "</style>\n",
       "<table border=\"1\" class=\"dataframe\">\n",
       "  <thead>\n",
       "    <tr style=\"text-align: right;\">\n",
       "      <th></th>\n",
       "      <th>CovidWorryIndex</th>\n",
       "      <th>2WkPriorMoodStateIndex</th>\n",
       "      <th>2WkPriorMediaUseIndex</th>\n",
       "      <th>LifechnageStressIndex</th>\n",
       "    </tr>\n",
       "  </thead>\n",
       "  <tbody>\n",
       "    <tr>\n",
       "      <th>0</th>\n",
       "      <td>85.0</td>\n",
       "      <td>56.0</td>\n",
       "      <td>66.67</td>\n",
       "      <td>50.0</td>\n",
       "    </tr>\n",
       "    <tr>\n",
       "      <th>1</th>\n",
       "      <td>35.0</td>\n",
       "      <td>48.0</td>\n",
       "      <td>66.67</td>\n",
       "      <td>48.0</td>\n",
       "    </tr>\n",
       "    <tr>\n",
       "      <th>2</th>\n",
       "      <td>30.0</td>\n",
       "      <td>36.0</td>\n",
       "      <td>80.00</td>\n",
       "      <td>38.0</td>\n",
       "    </tr>\n",
       "    <tr>\n",
       "      <th>3</th>\n",
       "      <td>75.0</td>\n",
       "      <td>58.0</td>\n",
       "      <td>46.67</td>\n",
       "      <td>46.0</td>\n",
       "    </tr>\n",
       "    <tr>\n",
       "      <th>4</th>\n",
       "      <td>25.0</td>\n",
       "      <td>34.0</td>\n",
       "      <td>46.67</td>\n",
       "      <td>48.0</td>\n",
       "    </tr>\n",
       "  </tbody>\n",
       "</table>\n",
       "</div>"
      ],
      "text/plain": [
       "   CovidWorryIndex  2WkPriorMoodStateIndex  2WkPriorMediaUseIndex  \\\n",
       "0             85.0                    56.0                  66.67   \n",
       "1             35.0                    48.0                  66.67   \n",
       "2             30.0                    36.0                  80.00   \n",
       "3             75.0                    58.0                  46.67   \n",
       "4             25.0                    34.0                  46.67   \n",
       "\n",
       "   LifechnageStressIndex  \n",
       "0                   50.0  \n",
       "1                   48.0  \n",
       "2                   38.0  \n",
       "3                   46.0  \n",
       "4                   48.0  "
      ]
     },
     "execution_count": 70,
     "metadata": {},
     "output_type": "execute_result"
    }
   ],
   "source": [
    "lifechange_stress_df=adult_adj_May_df[lifechanges_stress_cols]\n",
    "lifechange_stress_df['LifechnageStressIndex']=lifechange_stress_df[lifechanges_stress_cols].apply(getLifechnageStressIndex, axis=1)\n",
    "adult_df14=pd.concat([adult_df9,lifechange_stress_df['LifechnageStressIndex']],axis=1)\n",
    "print(adult_df9.shape,adult_df14.shape)\n",
    "adult_df14.head()"
   ]
  },
  {
   "cell_type": "code",
   "execution_count": 71,
   "metadata": {},
   "outputs": [],
   "source": [
    "lifechanges_addtional_cols=['positivechange','inpersonconvo','timeoutside','foodsecurity']\n",
    "usecols=demographic_cols+exp_cols+symp_cols+Impact_cols+diagnosis_cols+lifechanges_addtional_cols"
   ]
  },
  {
   "cell_type": "code",
   "execution_count": 72,
   "metadata": {},
   "outputs": [
    {
     "name": "stdout",
     "output_type": "stream",
     "text": [
      "(3148, 38) (3148, 4) (3148, 99)\n"
     ]
    }
   ],
   "source": [
    "adult_adj_May_final_df=pd.concat([adult_adj_May_df[usecols],adult_df14],axis=1)\n",
    "print(adult_adj_May_final_df.shape,adult_df14.shape,adult_adj_May_df.shape)"
   ]
  },
  {
   "cell_type": "code",
   "execution_count": 73,
   "metadata": {},
   "outputs": [
    {
     "data": {
      "text/plain": [
       "Moderately Stressed    0.455210\n",
       "Normal                 0.355146\n",
       "Extremely Stressed     0.189644\n",
       "Name: 2WkPriorMoodStateClass, dtype: float64"
      ]
     },
     "execution_count": 73,
     "metadata": {},
     "output_type": "execute_result"
    }
   ],
   "source": [
    "##Convert into classes\n",
    "adult_adj_May_final_df['2WkPriorMoodStateClass']=adult_adj_May_final_df['2WkPriorMoodStateIndex'].apply(get2WkPriorMoodStateClass)\n",
    "adult_adj_May_final_df['2WkPriorMoodStateClass'].value_counts(normalize=True)"
   ]
  },
  {
   "cell_type": "code",
   "execution_count": 74,
   "metadata": {},
   "outputs": [
    {
     "name": "stdout",
     "output_type": "stream",
     "text": [
      "0.6023\n",
      "                 precision    recall  f1-score   support\n",
      "\n",
      " Extreme Stress       0.52      0.34      0.41       132\n",
      "Moderate Stress       0.59      0.69      0.63       383\n",
      "         Normal       0.66      0.61      0.63       272\n",
      "\n",
      "       accuracy                           0.60       787\n",
      "      macro avg       0.59      0.55      0.56       787\n",
      "   weighted avg       0.60      0.60      0.60       787\n",
      "\n",
      "Variable: LifechnageStressIndex Importance: 0.22\n",
      "Variable: CovidWorryIndex      Importance: 0.19\n",
      "Variable: inpersonconvo        Importance: 0.08\n",
      "Variable: 2WkPriorMediaUseIndex Importance: 0.08\n",
      "Variable: positivechange       Importance: 0.05\n",
      "Variable: timeoutside          Importance: 0.05\n",
      "Variable: country              Importance: 0.03\n",
      "Variable: age_bin_30_under     Importance: 0.03\n",
      "Variable: foodsecurity         Importance: 0.03\n",
      "Variable: age_bin_50_over      Importance: 0.02\n",
      "Variable: symptoms___2         Importance: 0.02\n",
      "Variable: symptoms___5         Importance: 0.02\n",
      "Variable: impact___6           Importance: 0.02\n",
      "Variable: impact___8           Importance: 0.02\n",
      "Variable: age_bin_30-49        Importance: 0.01\n",
      "Variable: isparent             Importance: 0.01\n",
      "Variable: exposed___3          Importance: 0.01\n",
      "Variable: exposed___4          Importance: 0.01\n",
      "Variable: infected             Importance: 0.01\n",
      "Variable: symptoms___3         Importance: 0.01\n",
      "Variable: symptoms___4         Importance: 0.01\n",
      "Variable: symptoms___8         Importance: 0.01\n",
      "Variable: impact___3           Importance: 0.01\n",
      "Variable: impact___4           Importance: 0.01\n",
      "Variable: impact___5           Importance: 0.01\n",
      "Variable: diagnosedfamily___2  Importance: 0.01\n",
      "Variable: exposed___1          Importance: 0.0\n",
      "Variable: exposed___2          Importance: 0.0\n",
      "Variable: symptoms___1         Importance: 0.0\n",
      "Variable: symptoms___6         Importance: 0.0\n",
      "Variable: symptoms___7         Importance: 0.0\n",
      "Variable: impact___1           Importance: 0.0\n",
      "Variable: impact___2           Importance: 0.0\n",
      "Variable: impact___7           Importance: 0.0\n",
      "Variable: diagnosedfamily___1  Importance: 0.0\n"
     ]
    }
   ],
   "source": [
    "# Use numpy to convert to arrays\n",
    "import numpy as np\n",
    "labels = np.array(adult_adj_May_final_df['2WkPriorMoodStateClass'])\n",
    "features= adult_adj_May_final_df.drop(['2WkPriorMoodStateClass','2WkPriorMoodStateIndex','ID','YearMonth'], axis = 1)\n",
    "feature_list = list(features.columns)\n",
    "features = np.array(features)\n",
    "\n",
    "# Using Skicit-learn to split data into training and testing sets\n",
    "from sklearn.model_selection import train_test_split\n",
    "train_features, test_features, train_labels, test_labels = train_test_split(features, labels, test_size = 0.25, random_state = 42)\n",
    "\n",
    "# Import the model we are using\n",
    "from sklearn.ensemble import RandomForestClassifier\n",
    "# Instantiate model with 1000 decision trees\n",
    "rf = RandomForestClassifier(n_estimators= 800,\n",
    " min_samples_split= 2,\n",
    " min_samples_leaf= 2,\n",
    " max_features='sqrt',\n",
    " max_depth= 50,\n",
    " bootstrap=False)\n",
    "# Train the model on training data\n",
    "rf.fit(train_features, train_labels);\n",
    "\n",
    "from sklearn.metrics import classification_report\n",
    "# Use the forest's predict method on the test data\n",
    "predictions = rf.predict(test_features)\n",
    "\n",
    "print(round(rf.score(test_features,test_labels), 4))\n",
    "\n",
    "from sklearn.metrics import classification_report\n",
    "target_names = ['Extreme Stress', 'Moderate Stress', 'Normal']\n",
    "print(classification_report(test_labels, predictions, target_names=target_names))\n",
    "\n",
    "# Get numerical feature importances\n",
    "importances = list(rf.feature_importances_)\n",
    "# List of tuples with variable and importance\n",
    "feature_importances = [(feature, round(importance, 2)) for feature, importance in zip(feature_list, importances)]\n",
    "# Sort the feature importances by most important first\n",
    "feature_importances = sorted(feature_importances, key = lambda x: x[1], reverse = True)\n",
    "# Print out the feature and importances \n",
    "[print('Variable: {:20} Importance: {}'.format(*pair)) for pair in feature_importances];"
   ]
  },
  {
   "cell_type": "markdown",
   "metadata": {},
   "source": [
    "### November 2020 - Adult"
   ]
  },
  {
   "cell_type": "code",
   "execution_count": 75,
   "metadata": {},
   "outputs": [
    {
     "name": "stderr",
     "output_type": "stream",
     "text": [
      "C:\\Users\\Administrator\\anaconda3\\lib\\site-packages\\IPython\\core\\interactiveshell.py:3457: DtypeWarning: Columns (93) have mixed types.Specify dtype option on import or set low_memory=False.\n",
      "  exec(code_obj, self.user_global_ns, self.user_ns)\n"
     ]
    },
    {
     "data": {
      "text/plain": [
       "186.0    1322\n",
       "187.0     899\n",
       "Name: country, dtype: int64"
      ]
     },
     "execution_count": 75,
     "metadata": {},
     "output_type": "execute_result"
    }
   ],
   "source": [
    "adult_nov_df = pd.read_csv('Data/ProlificAcademic/updated_data/November/CRISIS_Adult_November_2020.csv')\n",
    "adult_nov_df.country.value_counts()"
   ]
  },
  {
   "cell_type": "code",
   "execution_count": 76,
   "metadata": {},
   "outputs": [
    {
     "name": "stdout",
     "output_type": "stream",
     "text": [
      "(2223, 290)\n",
      "(2223, 292)\n"
     ]
    }
   ],
   "source": [
    "print(adult_nov_df.shape)\n",
    "adult_nov_df=pd.merge(adult_nov_df,mappind_df[['Adult_ID','Parent_ID']],left_on=['ID'],right_on=['Adult_ID'],how='left')\n",
    "print(adult_nov_df.shape)\n",
    "adult_nov_df['isparent']=adult_nov_df['Parent_ID'].apply(isParent)"
   ]
  },
  {
   "cell_type": "code",
   "execution_count": 77,
   "metadata": {},
   "outputs": [],
   "source": [
    "adult_nov_df.rename(columns={'gender': 'sex','suspectedinfected':'infected','essentialworker':'essentialworkers'}, inplace=True)"
   ]
  },
  {
   "cell_type": "code",
   "execution_count": 78,
   "metadata": {},
   "outputs": [],
   "source": [
    "adult_nov_df['YearMonth']=\"2020-11\""
   ]
  },
  {
   "cell_type": "code",
   "execution_count": 79,
   "metadata": {},
   "outputs": [
    {
     "name": "stdout",
     "output_type": "stream",
     "text": [
      "(2223, 294)\n",
      "(2223, 258)\n"
     ]
    }
   ],
   "source": [
    "##Remove Columns with missing values more than threshold\n",
    "print(adult_nov_df.shape)\n",
    "missing_val_threshold=0.8\n",
    "adult_adj_nov_df=adult_nov_df.dropna(thresh=adult_nov_df.shape[0]*missing_val_threshold,how='all',axis=1)\n",
    "print(adult_adj_nov_df.shape)\n",
    "\n",
    "#Dropped Columns\n",
    "for col in adult_adj_nov_df.columns:\n",
    "    if col not in adult_adj_nov_df.columns:\n",
    "        print(col)"
   ]
  },
  {
   "cell_type": "code",
   "execution_count": 80,
   "metadata": {},
   "outputs": [
    {
     "data": {
      "text/plain": [
       "psychiatry___4           psychiatry___4             1.0\n",
       "psychiatry___3           psychiatry___3             1.0\n",
       "psychiatry___2           psychiatry___2             1.0\n",
       "psychiatry___1           psychiatry___1             1.0\n",
       "primarycare___4          primarycare___4            1.0\n",
       "primarycare___3          primarycare___3            1.0\n",
       "primarycare___2          primarycare___2            1.0\n",
       "primarycare___1          primarycare___1            1.0\n",
       "hopefullyend             hopefullyend               1.0\n",
       "foodsecurity             foodsecurity               1.0\n",
       "livingdifficulty         livingdifficulty           1.0\n",
       "financedifficulty        financedifficulty          1.0\n",
       "difficultycancellations  difficultycancellations    1.0\n",
       "friendchangestress       friendchangestress         1.0\n",
       "friendschange            friendschange              1.0\n",
       "familychangestress       familychangestress         1.0\n",
       "familychange             familychange               1.0\n",
       "difficultydistancing     difficultydistancing       1.0\n",
       "contactschanged          contactschanged            1.0\n",
       "restrictionsstress       restrictionsstress         1.0\n",
       "dtype: float64"
      ]
     },
     "execution_count": 80,
     "metadata": {},
     "output_type": "execute_result"
    }
   ],
   "source": [
    "## Correlation Analysis\n",
    "numerics = ['int16', 'int32', 'int64', 'float16', 'float32', 'float64']\n",
    "corr_df = adult_adj_nov_df.select_dtypes(include=numerics)\n",
    "corr_df = corr_df.apply(pd.to_numeric)\n",
    "#lifechanges_df.corr().abs()\n",
    "#factor_df.corr(method=\"pearson\")\n",
    "c = corr_df.corr().abs()\n",
    "\n",
    "s = c.unstack()\n",
    "so = s.sort_values(kind=\"quicksort\", ascending=False)\n",
    "so[220:240]"
   ]
  },
  {
   "cell_type": "code",
   "execution_count": 81,
   "metadata": {},
   "outputs": [],
   "source": [
    "#Drop columns with too high correlations\n",
    "# bedtimeweekdays       bedtimeweekends         0.872990\n",
    "\n",
    "#Keeping bedtimeweekdays\n",
    "#adult_adj_nov_df.drop(['bedtimeweekdays'], axis=1, inplace=True)\n",
    "#print(adult_adj_nov_df.shape)"
   ]
  },
  {
   "cell_type": "code",
   "execution_count": 82,
   "metadata": {},
   "outputs": [
    {
     "data": {
      "text/html": [
       "<div>\n",
       "<style scoped>\n",
       "    .dataframe tbody tr th:only-of-type {\n",
       "        vertical-align: middle;\n",
       "    }\n",
       "\n",
       "    .dataframe tbody tr th {\n",
       "        vertical-align: top;\n",
       "    }\n",
       "\n",
       "    .dataframe thead th {\n",
       "        text-align: right;\n",
       "    }\n",
       "</style>\n",
       "<table border=\"1\" class=\"dataframe\">\n",
       "  <thead>\n",
       "    <tr style=\"text-align: right;\">\n",
       "      <th></th>\n",
       "      <th>ID</th>\n",
       "      <th>adult_selfreport_baseline_form_timestamp</th>\n",
       "      <th>timestamp1</th>\n",
       "      <th>country</th>\n",
       "      <th>age</th>\n",
       "      <th>sex</th>\n",
       "      <th>raceethnicity___1</th>\n",
       "      <th>raceethnicity___2</th>\n",
       "      <th>raceethnicity___3</th>\n",
       "      <th>raceethnicity___4</th>\n",
       "      <th>...</th>\n",
       "      <th>adult_selfreport_baseline_form_complete</th>\n",
       "      <th>inpersonconvo_bin</th>\n",
       "      <th>age_bin</th>\n",
       "      <th>Adult_ID</th>\n",
       "      <th>Parent_ID</th>\n",
       "      <th>isparent</th>\n",
       "      <th>YearMonth</th>\n",
       "      <th>age_bin_30-49</th>\n",
       "      <th>age_bin_30_under</th>\n",
       "      <th>age_bin_50_over</th>\n",
       "    </tr>\n",
       "  </thead>\n",
       "  <tbody>\n",
       "    <tr>\n",
       "      <th>0</th>\n",
       "      <td>005a1e3e</td>\n",
       "      <td>2020-11-04 17:10:32</td>\n",
       "      <td>2020-11-04 11:52:31</td>\n",
       "      <td>187.0</td>\n",
       "      <td>25.0</td>\n",
       "      <td>2.0</td>\n",
       "      <td>1</td>\n",
       "      <td>0</td>\n",
       "      <td>0</td>\n",
       "      <td>0</td>\n",
       "      <td>...</td>\n",
       "      <td>2</td>\n",
       "      <td>2.0</td>\n",
       "      <td>30_under</td>\n",
       "      <td>005a1e3e</td>\n",
       "      <td>_NA_</td>\n",
       "      <td>0</td>\n",
       "      <td>2020-11</td>\n",
       "      <td>0</td>\n",
       "      <td>1</td>\n",
       "      <td>0</td>\n",
       "    </tr>\n",
       "    <tr>\n",
       "      <th>1</th>\n",
       "      <td>005ef0c4</td>\n",
       "      <td>2020-11-05 03:01:03</td>\n",
       "      <td>2020-11-04 21:35:50</td>\n",
       "      <td>187.0</td>\n",
       "      <td>52.0</td>\n",
       "      <td>1.0</td>\n",
       "      <td>1</td>\n",
       "      <td>0</td>\n",
       "      <td>0</td>\n",
       "      <td>0</td>\n",
       "      <td>...</td>\n",
       "      <td>2</td>\n",
       "      <td>2.0</td>\n",
       "      <td>50_over</td>\n",
       "      <td>005ef0c4</td>\n",
       "      <td>_NA_</td>\n",
       "      <td>0</td>\n",
       "      <td>2020-11</td>\n",
       "      <td>0</td>\n",
       "      <td>0</td>\n",
       "      <td>1</td>\n",
       "    </tr>\n",
       "    <tr>\n",
       "      <th>2</th>\n",
       "      <td>00769460</td>\n",
       "      <td>2020-10-31 15:01:47</td>\n",
       "      <td>2020-10-31 14:34:57</td>\n",
       "      <td>186.0</td>\n",
       "      <td>43.0</td>\n",
       "      <td>1.0</td>\n",
       "      <td>1</td>\n",
       "      <td>0</td>\n",
       "      <td>0</td>\n",
       "      <td>0</td>\n",
       "      <td>...</td>\n",
       "      <td>2</td>\n",
       "      <td>3.0</td>\n",
       "      <td>30-49</td>\n",
       "      <td>00769460</td>\n",
       "      <td>f9891e60</td>\n",
       "      <td>1</td>\n",
       "      <td>2020-11</td>\n",
       "      <td>1</td>\n",
       "      <td>0</td>\n",
       "      <td>0</td>\n",
       "    </tr>\n",
       "    <tr>\n",
       "      <th>3</th>\n",
       "      <td>0082e6f9</td>\n",
       "      <td>2020-11-02 20:12:48</td>\n",
       "      <td>2020-11-02 19:47:42</td>\n",
       "      <td>186.0</td>\n",
       "      <td>56.0</td>\n",
       "      <td>2.0</td>\n",
       "      <td>1</td>\n",
       "      <td>0</td>\n",
       "      <td>0</td>\n",
       "      <td>0</td>\n",
       "      <td>...</td>\n",
       "      <td>2</td>\n",
       "      <td>3.0</td>\n",
       "      <td>50_over</td>\n",
       "      <td>0082e6f9</td>\n",
       "      <td>_NA_</td>\n",
       "      <td>0</td>\n",
       "      <td>2020-11</td>\n",
       "      <td>0</td>\n",
       "      <td>0</td>\n",
       "      <td>1</td>\n",
       "    </tr>\n",
       "    <tr>\n",
       "      <th>4</th>\n",
       "      <td>00babb90</td>\n",
       "      <td>2020-10-31 15:39:24</td>\n",
       "      <td>2020-10-31 15:19:38</td>\n",
       "      <td>186.0</td>\n",
       "      <td>30.0</td>\n",
       "      <td>2.0</td>\n",
       "      <td>1</td>\n",
       "      <td>0</td>\n",
       "      <td>0</td>\n",
       "      <td>0</td>\n",
       "      <td>...</td>\n",
       "      <td>2</td>\n",
       "      <td>2.0</td>\n",
       "      <td>30-49</td>\n",
       "      <td>00babb90</td>\n",
       "      <td>_NA_</td>\n",
       "      <td>0</td>\n",
       "      <td>2020-11</td>\n",
       "      <td>1</td>\n",
       "      <td>0</td>\n",
       "      <td>0</td>\n",
       "    </tr>\n",
       "  </tbody>\n",
       "</table>\n",
       "<p>5 rows × 261 columns</p>\n",
       "</div>"
      ],
      "text/plain": [
       "         ID adult_selfreport_baseline_form_timestamp           timestamp1  \\\n",
       "0  005a1e3e                      2020-11-04 17:10:32  2020-11-04 11:52:31   \n",
       "1  005ef0c4                      2020-11-05 03:01:03  2020-11-04 21:35:50   \n",
       "2  00769460                      2020-10-31 15:01:47  2020-10-31 14:34:57   \n",
       "3  0082e6f9                      2020-11-02 20:12:48  2020-11-02 19:47:42   \n",
       "4  00babb90                      2020-10-31 15:39:24  2020-10-31 15:19:38   \n",
       "\n",
       "   country   age  sex  raceethnicity___1  raceethnicity___2  \\\n",
       "0    187.0  25.0  2.0                  1                  0   \n",
       "1    187.0  52.0  1.0                  1                  0   \n",
       "2    186.0  43.0  1.0                  1                  0   \n",
       "3    186.0  56.0  2.0                  1                  0   \n",
       "4    186.0  30.0  2.0                  1                  0   \n",
       "\n",
       "   raceethnicity___3  raceethnicity___4  ...  \\\n",
       "0                  0                  0  ...   \n",
       "1                  0                  0  ...   \n",
       "2                  0                  0  ...   \n",
       "3                  0                  0  ...   \n",
       "4                  0                  0  ...   \n",
       "\n",
       "   adult_selfreport_baseline_form_complete  inpersonconvo_bin   age_bin  \\\n",
       "0                                        2                2.0  30_under   \n",
       "1                                        2                2.0   50_over   \n",
       "2                                        2                3.0     30-49   \n",
       "3                                        2                3.0   50_over   \n",
       "4                                        2                2.0     30-49   \n",
       "\n",
       "   Adult_ID  Parent_ID  isparent  YearMonth  age_bin_30-49  age_bin_30_under  \\\n",
       "0  005a1e3e       _NA_         0    2020-11              0                 1   \n",
       "1  005ef0c4       _NA_         0    2020-11              0                 0   \n",
       "2  00769460   f9891e60         1    2020-11              1                 0   \n",
       "3  0082e6f9       _NA_         0    2020-11              0                 0   \n",
       "4  00babb90       _NA_         0    2020-11              1                 0   \n",
       "\n",
       "   age_bin_50_over  \n",
       "0                0  \n",
       "1                1  \n",
       "2                0  \n",
       "3                1  \n",
       "4                0  \n",
       "\n",
       "[5 rows x 261 columns]"
      ]
     },
     "execution_count": 82,
     "metadata": {},
     "output_type": "execute_result"
    }
   ],
   "source": [
    "##Add one-hot encoding for age_bin\n",
    "age_bin_cols = pd.get_dummies(adult_adj_nov_df.age_bin, prefix='age_bin')\n",
    "adult_adj_nov_df=pd.concat([adult_adj_nov_df,age_bin_cols],axis=1)\n",
    "adult_adj_nov_df.head()"
   ]
  },
  {
   "cell_type": "code",
   "execution_count": 83,
   "metadata": {},
   "outputs": [],
   "source": [
    "#Fill Null values with \"_NA_\"\n",
    "adult_adj_nov_df.fillna(\"_NA_\",inplace=True)"
   ]
  },
  {
   "cell_type": "code",
   "execution_count": 84,
   "metadata": {},
   "outputs": [],
   "source": [
    "#Replace nulls with Mode\n",
    "for column in adult_adj_nov_df.columns:\n",
    "    mode_val=adult_adj_nov_df[column].mode()\n",
    "    #print(column,mode_val[0])\n",
    "    adult_adj_nov_df.replace({column:{\"_NA_\":mode_val[0]}}, inplace=True)"
   ]
  },
  {
   "cell_type": "code",
   "execution_count": 85,
   "metadata": {},
   "outputs": [],
   "source": [
    "demographic_cols=['ID','YearMonth','country','age_bin_30_under','age_bin_30-49','age_bin_50_over','isparent'\n",
    "#'raceethnicity___1','raceethnicity___2','raceethnicity___3','raceethnicity___4',\n",
    "#'raceethnicity___5','raceethnicity___6','raceethnicity___7','raceethnicity___8',\n",
    "#'raceethnicity___9','raceethnicity___10','raceethnicity___11','raceethnicity___12',\n",
    "#'raceethnicity___13','raceethnicity___14','raceethnicity___15','raceethnicity___16',\n",
    "#'raceethnicity___17','raceethnicity___18','raceethnicity___19','raceethnicity___20','hispanic',\n",
    "]\n",
    "#occupation\n",
    "\n",
    "exp_cols=['exposed___1',\n",
    "'exposed___2',\n",
    "'exposed___3',\n",
    "'exposed___4','infected']\n",
    "\n",
    "symp_cols=['symptoms___1',\n",
    "'symptoms___2',\n",
    "'symptoms___3',\n",
    "'symptoms___4',\n",
    "'symptoms___5',\n",
    "'symptoms___6',\n",
    "'symptoms___7',\n",
    "'symptoms___8']\n",
    "\n",
    "Impact_cols=['impact___1',\n",
    "'impact___2',\n",
    "'impact___3',\n",
    "'impact___4',\n",
    "'impact___5',\n",
    "'impact___6',\n",
    "'impact___7',\n",
    "'impact___8']\n",
    "\n",
    "diagnosis_cols=['diagnosedfamily___1',\n",
    "'diagnosedfamily___2']\n"
   ]
  },
  {
   "cell_type": "code",
   "execution_count": 86,
   "metadata": {},
   "outputs": [
    {
     "data": {
      "text/plain": [
       "186.0    1324\n",
       "187.0     899\n",
       "Name: country, dtype: int64"
      ]
     },
     "execution_count": 86,
     "metadata": {},
     "output_type": "execute_result"
    }
   ],
   "source": [
    "adult_adj_nov_df.country.value_counts(dropna=False)"
   ]
  },
  {
   "cell_type": "markdown",
   "metadata": {},
   "source": [
    "- Covid Worry"
   ]
  },
  {
   "cell_type": "code",
   "execution_count": 87,
   "metadata": {},
   "outputs": [
    {
     "name": "stdout",
     "output_type": "stream",
     "text": [
      "(2223, 5)\n"
     ]
    },
    {
     "name": "stderr",
     "output_type": "stream",
     "text": [
      "C:\\Users\\ADMINI~1\\AppData\\Local\\Temp\\2/ipykernel_2640/2627235086.py:2: SettingWithCopyWarning: \n",
      "A value is trying to be set on a copy of a slice from a DataFrame.\n",
      "Try using .loc[row_indexer,col_indexer] = value instead\n",
      "\n",
      "See the caveats in the documentation: https://pandas.pydata.org/pandas-docs/stable/user_guide/indexing.html#returning-a-view-versus-a-copy\n",
      "  covid_worry_df['CovidWorryIndex']=covid_worry_df[covidworry_cols].apply(getCovidWorryIndex, axis=1)\n"
     ]
    }
   ],
   "source": [
    "covid_worry_df=adult_adj_nov_df[covidworry_cols]\n",
    "covid_worry_df['CovidWorryIndex']=covid_worry_df[covidworry_cols].apply(getCovidWorryIndex, axis=1)\n",
    "print(covid_worry_df.shape)\n",
    "#adult_df5.head()"
   ]
  },
  {
   "cell_type": "markdown",
   "metadata": {},
   "source": [
    "- Mood States"
   ]
  },
  {
   "cell_type": "code",
   "execution_count": 88,
   "metadata": {},
   "outputs": [
    {
     "name": "stdout",
     "output_type": "stream",
     "text": [
      "(2223, 5) (2223, 2)\n"
     ]
    },
    {
     "name": "stderr",
     "output_type": "stream",
     "text": [
      "C:\\Users\\ADMINI~1\\AppData\\Local\\Temp\\2/ipykernel_2640/939753871.py:6: SettingWithCopyWarning: \n",
      "A value is trying to be set on a copy of a slice from a DataFrame.\n",
      "Try using .loc[row_indexer,col_indexer] = value instead\n",
      "\n",
      "See the caveats in the documentation: https://pandas.pydata.org/pandas-docs/stable/user_guide/indexing.html#returning-a-view-versus-a-copy\n",
      "  covid_mood_2wk_df['2WkPriorMoodStateIndex']=covid_mood_2wk_df[priorworry2_cols].apply(getMoodStateIndex, axis=1)\n"
     ]
    },
    {
     "data": {
      "text/html": [
       "<div>\n",
       "<style scoped>\n",
       "    .dataframe tbody tr th:only-of-type {\n",
       "        vertical-align: middle;\n",
       "    }\n",
       "\n",
       "    .dataframe tbody tr th {\n",
       "        vertical-align: top;\n",
       "    }\n",
       "\n",
       "    .dataframe thead th {\n",
       "        text-align: right;\n",
       "    }\n",
       "</style>\n",
       "<table border=\"1\" class=\"dataframe\">\n",
       "  <thead>\n",
       "    <tr style=\"text-align: right;\">\n",
       "      <th></th>\n",
       "      <th>CovidWorryIndex</th>\n",
       "      <th>2WkPriorMoodStateIndex</th>\n",
       "    </tr>\n",
       "  </thead>\n",
       "  <tbody>\n",
       "    <tr>\n",
       "      <th>0</th>\n",
       "      <td>60.0</td>\n",
       "      <td>54.0</td>\n",
       "    </tr>\n",
       "    <tr>\n",
       "      <th>1</th>\n",
       "      <td>45.0</td>\n",
       "      <td>40.0</td>\n",
       "    </tr>\n",
       "    <tr>\n",
       "      <th>2</th>\n",
       "      <td>35.0</td>\n",
       "      <td>40.0</td>\n",
       "    </tr>\n",
       "    <tr>\n",
       "      <th>3</th>\n",
       "      <td>35.0</td>\n",
       "      <td>40.0</td>\n",
       "    </tr>\n",
       "    <tr>\n",
       "      <th>4</th>\n",
       "      <td>65.0</td>\n",
       "      <td>70.0</td>\n",
       "    </tr>\n",
       "  </tbody>\n",
       "</table>\n",
       "</div>"
      ],
      "text/plain": [
       "   CovidWorryIndex  2WkPriorMoodStateIndex\n",
       "0             60.0                    54.0\n",
       "1             45.0                    40.0\n",
       "2             35.0                    40.0\n",
       "3             35.0                    40.0\n",
       "4             65.0                    70.0"
      ]
     },
     "execution_count": 88,
     "metadata": {},
     "output_type": "execute_result"
    }
   ],
   "source": [
    "## 2 Weeks Prior\n",
    "priorworry2_cols=['priorworry_2','priorhappyvssad_2','priorenjoyactivities_2','priorrelaxedvsanxious_2',\n",
    "         'priorfidget_2', 'priorfatigue_2', 'priorfocus_2', 'priorirritable_2','priorlonely_2', \n",
    "         'priornegthoughts_2']\n",
    "covid_mood_2wk_df=adult_adj_nov_df[priorworry2_cols]\n",
    "covid_mood_2wk_df['2WkPriorMoodStateIndex']=covid_mood_2wk_df[priorworry2_cols].apply(getMoodStateIndex, axis=1)\n",
    "adult_df7=pd.concat([covid_worry_df['CovidWorryIndex'],covid_mood_2wk_df['2WkPriorMoodStateIndex']],axis=1)\n",
    "print(covid_worry_df.shape,adult_df7.shape)\n",
    "adult_df7.head()"
   ]
  },
  {
   "cell_type": "code",
   "execution_count": 89,
   "metadata": {},
   "outputs": [
    {
     "name": "stdout",
     "output_type": "stream",
     "text": [
      "(2223, 3) (2223, 2)\n"
     ]
    },
    {
     "name": "stderr",
     "output_type": "stream",
     "text": [
      "C:\\Users\\ADMINI~1\\AppData\\Local\\Temp\\2/ipykernel_2640/884015766.py:4: SettingWithCopyWarning: \n",
      "A value is trying to be set on a copy of a slice from a DataFrame.\n",
      "Try using .loc[row_indexer,col_indexer] = value instead\n",
      "\n",
      "See the caveats in the documentation: https://pandas.pydata.org/pandas-docs/stable/user_guide/indexing.html#returning-a-view-versus-a-copy\n",
      "  covid_media_2wk_df['2WkPriorMediaUseIndex']=covid_media_2wk_df[priormedia2_cols].apply(getMediaUseIndex, axis=1)\n"
     ]
    }
   ],
   "source": [
    "## 2 weeks Prior Media use\n",
    "priormedia2_cols=['priortvmedia_2','priorsocialmedia_2','priorvideogames_2']\n",
    "covid_media_2wk_df=adult_adj_nov_df[priormedia2_cols]\n",
    "covid_media_2wk_df['2WkPriorMediaUseIndex']=covid_media_2wk_df[priormedia2_cols].apply(getMediaUseIndex, axis=1)  \n",
    "adult_df9=pd.concat([adult_df7,covid_media_2wk_df['2WkPriorMediaUseIndex']],axis=1)\n",
    "print(adult_df9.shape,adult_df7.shape)\n",
    "#adult_df7.head()"
   ]
  },
  {
   "cell_type": "code",
   "execution_count": 90,
   "metadata": {},
   "outputs": [
    {
     "name": "stdout",
     "output_type": "stream",
     "text": [
      "(2223, 3) (2223, 4)\n"
     ]
    },
    {
     "name": "stderr",
     "output_type": "stream",
     "text": [
      "C:\\Users\\ADMINI~1\\AppData\\Local\\Temp\\2/ipykernel_2640/3662614311.py:2: SettingWithCopyWarning: \n",
      "A value is trying to be set on a copy of a slice from a DataFrame.\n",
      "Try using .loc[row_indexer,col_indexer] = value instead\n",
      "\n",
      "See the caveats in the documentation: https://pandas.pydata.org/pandas-docs/stable/user_guide/indexing.html#returning-a-view-versus-a-copy\n",
      "  lifechange_stress_df['LifechnageStressIndex']=lifechange_stress_df[lifechanges_stress_cols].apply(getLifechnageStressIndex, axis=1)\n"
     ]
    },
    {
     "data": {
      "text/html": [
       "<div>\n",
       "<style scoped>\n",
       "    .dataframe tbody tr th:only-of-type {\n",
       "        vertical-align: middle;\n",
       "    }\n",
       "\n",
       "    .dataframe tbody tr th {\n",
       "        vertical-align: top;\n",
       "    }\n",
       "\n",
       "    .dataframe thead th {\n",
       "        text-align: right;\n",
       "    }\n",
       "</style>\n",
       "<table border=\"1\" class=\"dataframe\">\n",
       "  <thead>\n",
       "    <tr style=\"text-align: right;\">\n",
       "      <th></th>\n",
       "      <th>CovidWorryIndex</th>\n",
       "      <th>2WkPriorMoodStateIndex</th>\n",
       "      <th>2WkPriorMediaUseIndex</th>\n",
       "      <th>LifechnageStressIndex</th>\n",
       "    </tr>\n",
       "  </thead>\n",
       "  <tbody>\n",
       "    <tr>\n",
       "      <th>0</th>\n",
       "      <td>60.0</td>\n",
       "      <td>54.0</td>\n",
       "      <td>80.00</td>\n",
       "      <td>34.0</td>\n",
       "    </tr>\n",
       "    <tr>\n",
       "      <th>1</th>\n",
       "      <td>45.0</td>\n",
       "      <td>40.0</td>\n",
       "      <td>46.67</td>\n",
       "      <td>44.0</td>\n",
       "    </tr>\n",
       "    <tr>\n",
       "      <th>2</th>\n",
       "      <td>35.0</td>\n",
       "      <td>40.0</td>\n",
       "      <td>33.33</td>\n",
       "      <td>38.0</td>\n",
       "    </tr>\n",
       "    <tr>\n",
       "      <th>3</th>\n",
       "      <td>35.0</td>\n",
       "      <td>40.0</td>\n",
       "      <td>46.67</td>\n",
       "      <td>46.0</td>\n",
       "    </tr>\n",
       "    <tr>\n",
       "      <th>4</th>\n",
       "      <td>65.0</td>\n",
       "      <td>70.0</td>\n",
       "      <td>40.00</td>\n",
       "      <td>70.0</td>\n",
       "    </tr>\n",
       "  </tbody>\n",
       "</table>\n",
       "</div>"
      ],
      "text/plain": [
       "   CovidWorryIndex  2WkPriorMoodStateIndex  2WkPriorMediaUseIndex  \\\n",
       "0             60.0                    54.0                  80.00   \n",
       "1             45.0                    40.0                  46.67   \n",
       "2             35.0                    40.0                  33.33   \n",
       "3             35.0                    40.0                  46.67   \n",
       "4             65.0                    70.0                  40.00   \n",
       "\n",
       "   LifechnageStressIndex  \n",
       "0                   34.0  \n",
       "1                   44.0  \n",
       "2                   38.0  \n",
       "3                   46.0  \n",
       "4                   70.0  "
      ]
     },
     "execution_count": 90,
     "metadata": {},
     "output_type": "execute_result"
    }
   ],
   "source": [
    "lifechange_stress_df=adult_adj_nov_df[lifechanges_stress_cols]\n",
    "lifechange_stress_df['LifechnageStressIndex']=lifechange_stress_df[lifechanges_stress_cols].apply(getLifechnageStressIndex, axis=1)\n",
    "adult_df14=pd.concat([adult_df9,lifechange_stress_df['LifechnageStressIndex']],axis=1)\n",
    "print(adult_df9.shape,adult_df14.shape)\n",
    "adult_df14.head()"
   ]
  },
  {
   "cell_type": "code",
   "execution_count": 91,
   "metadata": {},
   "outputs": [],
   "source": [
    "lifechanges_addtional_cols=['positivechange','inpersonconvo','timeoutside','foodsecurity']\n",
    "usecols=demographic_cols+exp_cols+symp_cols+Impact_cols+diagnosis_cols+lifechanges_addtional_cols"
   ]
  },
  {
   "cell_type": "code",
   "execution_count": 92,
   "metadata": {},
   "outputs": [
    {
     "name": "stdout",
     "output_type": "stream",
     "text": [
      "(2223, 38) (2223, 4) (2223, 261)\n"
     ]
    }
   ],
   "source": [
    "adult_nov_final_df=pd.concat([adult_adj_nov_df[usecols],adult_df14],axis=1)\n",
    "print(adult_nov_final_df.shape,adult_df14.shape,adult_adj_nov_df.shape)"
   ]
  },
  {
   "cell_type": "code",
   "execution_count": 93,
   "metadata": {},
   "outputs": [
    {
     "data": {
      "text/html": [
       "<div>\n",
       "<style scoped>\n",
       "    .dataframe tbody tr th:only-of-type {\n",
       "        vertical-align: middle;\n",
       "    }\n",
       "\n",
       "    .dataframe tbody tr th {\n",
       "        vertical-align: top;\n",
       "    }\n",
       "\n",
       "    .dataframe thead th {\n",
       "        text-align: right;\n",
       "    }\n",
       "</style>\n",
       "<table border=\"1\" class=\"dataframe\">\n",
       "  <thead>\n",
       "    <tr style=\"text-align: right;\">\n",
       "      <th></th>\n",
       "      <th>ID</th>\n",
       "      <th>YearMonth</th>\n",
       "      <th>country</th>\n",
       "      <th>age_bin_30_under</th>\n",
       "      <th>age_bin_30-49</th>\n",
       "      <th>age_bin_50_over</th>\n",
       "      <th>isparent</th>\n",
       "      <th>exposed___1</th>\n",
       "      <th>exposed___2</th>\n",
       "      <th>exposed___3</th>\n",
       "      <th>...</th>\n",
       "      <th>diagnosedfamily___1</th>\n",
       "      <th>diagnosedfamily___2</th>\n",
       "      <th>positivechange</th>\n",
       "      <th>inpersonconvo</th>\n",
       "      <th>timeoutside</th>\n",
       "      <th>foodsecurity</th>\n",
       "      <th>CovidWorryIndex</th>\n",
       "      <th>2WkPriorMoodStateIndex</th>\n",
       "      <th>2WkPriorMediaUseIndex</th>\n",
       "      <th>LifechnageStressIndex</th>\n",
       "    </tr>\n",
       "  </thead>\n",
       "  <tbody>\n",
       "    <tr>\n",
       "      <th>0</th>\n",
       "      <td>005a1e3e</td>\n",
       "      <td>2020-11</td>\n",
       "      <td>187.0</td>\n",
       "      <td>1</td>\n",
       "      <td>0</td>\n",
       "      <td>0</td>\n",
       "      <td>0</td>\n",
       "      <td>0</td>\n",
       "      <td>0</td>\n",
       "      <td>0</td>\n",
       "      <td>...</td>\n",
       "      <td>0</td>\n",
       "      <td>0</td>\n",
       "      <td>2.0</td>\n",
       "      <td>2.0</td>\n",
       "      <td>2.0</td>\n",
       "      <td>0.0</td>\n",
       "      <td>60.0</td>\n",
       "      <td>54.0</td>\n",
       "      <td>80.00</td>\n",
       "      <td>34.0</td>\n",
       "    </tr>\n",
       "    <tr>\n",
       "      <th>1</th>\n",
       "      <td>005ef0c4</td>\n",
       "      <td>2020-11</td>\n",
       "      <td>187.0</td>\n",
       "      <td>0</td>\n",
       "      <td>0</td>\n",
       "      <td>1</td>\n",
       "      <td>0</td>\n",
       "      <td>0</td>\n",
       "      <td>0</td>\n",
       "      <td>0</td>\n",
       "      <td>...</td>\n",
       "      <td>0</td>\n",
       "      <td>0</td>\n",
       "      <td>3.0</td>\n",
       "      <td>2.0</td>\n",
       "      <td>2.0</td>\n",
       "      <td>0.0</td>\n",
       "      <td>45.0</td>\n",
       "      <td>40.0</td>\n",
       "      <td>46.67</td>\n",
       "      <td>44.0</td>\n",
       "    </tr>\n",
       "    <tr>\n",
       "      <th>2</th>\n",
       "      <td>00769460</td>\n",
       "      <td>2020-11</td>\n",
       "      <td>186.0</td>\n",
       "      <td>0</td>\n",
       "      <td>1</td>\n",
       "      <td>0</td>\n",
       "      <td>1</td>\n",
       "      <td>0</td>\n",
       "      <td>0</td>\n",
       "      <td>0</td>\n",
       "      <td>...</td>\n",
       "      <td>0</td>\n",
       "      <td>0</td>\n",
       "      <td>1.0</td>\n",
       "      <td>4.0</td>\n",
       "      <td>2.0</td>\n",
       "      <td>0.0</td>\n",
       "      <td>35.0</td>\n",
       "      <td>40.0</td>\n",
       "      <td>33.33</td>\n",
       "      <td>38.0</td>\n",
       "    </tr>\n",
       "    <tr>\n",
       "      <th>3</th>\n",
       "      <td>0082e6f9</td>\n",
       "      <td>2020-11</td>\n",
       "      <td>186.0</td>\n",
       "      <td>0</td>\n",
       "      <td>0</td>\n",
       "      <td>1</td>\n",
       "      <td>0</td>\n",
       "      <td>0</td>\n",
       "      <td>0</td>\n",
       "      <td>0</td>\n",
       "      <td>...</td>\n",
       "      <td>0</td>\n",
       "      <td>0</td>\n",
       "      <td>2.0</td>\n",
       "      <td>4.0</td>\n",
       "      <td>5.0</td>\n",
       "      <td>0.0</td>\n",
       "      <td>35.0</td>\n",
       "      <td>40.0</td>\n",
       "      <td>46.67</td>\n",
       "      <td>46.0</td>\n",
       "    </tr>\n",
       "    <tr>\n",
       "      <th>4</th>\n",
       "      <td>00babb90</td>\n",
       "      <td>2020-11</td>\n",
       "      <td>186.0</td>\n",
       "      <td>0</td>\n",
       "      <td>1</td>\n",
       "      <td>0</td>\n",
       "      <td>0</td>\n",
       "      <td>0</td>\n",
       "      <td>0</td>\n",
       "      <td>1</td>\n",
       "      <td>...</td>\n",
       "      <td>0</td>\n",
       "      <td>0</td>\n",
       "      <td>1.0</td>\n",
       "      <td>1.0</td>\n",
       "      <td>1.0</td>\n",
       "      <td>0.0</td>\n",
       "      <td>65.0</td>\n",
       "      <td>70.0</td>\n",
       "      <td>40.00</td>\n",
       "      <td>70.0</td>\n",
       "    </tr>\n",
       "  </tbody>\n",
       "</table>\n",
       "<p>5 rows × 38 columns</p>\n",
       "</div>"
      ],
      "text/plain": [
       "         ID YearMonth  country  age_bin_30_under  age_bin_30-49  \\\n",
       "0  005a1e3e   2020-11    187.0                 1              0   \n",
       "1  005ef0c4   2020-11    187.0                 0              0   \n",
       "2  00769460   2020-11    186.0                 0              1   \n",
       "3  0082e6f9   2020-11    186.0                 0              0   \n",
       "4  00babb90   2020-11    186.0                 0              1   \n",
       "\n",
       "   age_bin_50_over  isparent  exposed___1  exposed___2  exposed___3  ...  \\\n",
       "0                0         0            0            0            0  ...   \n",
       "1                1         0            0            0            0  ...   \n",
       "2                0         1            0            0            0  ...   \n",
       "3                1         0            0            0            0  ...   \n",
       "4                0         0            0            0            1  ...   \n",
       "\n",
       "   diagnosedfamily___1  diagnosedfamily___2  positivechange  inpersonconvo  \\\n",
       "0                    0                    0             2.0            2.0   \n",
       "1                    0                    0             3.0            2.0   \n",
       "2                    0                    0             1.0            4.0   \n",
       "3                    0                    0             2.0            4.0   \n",
       "4                    0                    0             1.0            1.0   \n",
       "\n",
       "   timeoutside  foodsecurity  CovidWorryIndex  2WkPriorMoodStateIndex  \\\n",
       "0          2.0           0.0             60.0                    54.0   \n",
       "1          2.0           0.0             45.0                    40.0   \n",
       "2          2.0           0.0             35.0                    40.0   \n",
       "3          5.0           0.0             35.0                    40.0   \n",
       "4          1.0           0.0             65.0                    70.0   \n",
       "\n",
       "   2WkPriorMediaUseIndex  LifechnageStressIndex  \n",
       "0                  80.00                   34.0  \n",
       "1                  46.67                   44.0  \n",
       "2                  33.33                   38.0  \n",
       "3                  46.67                   46.0  \n",
       "4                  40.00                   70.0  \n",
       "\n",
       "[5 rows x 38 columns]"
      ]
     },
     "execution_count": 93,
     "metadata": {},
     "output_type": "execute_result"
    }
   ],
   "source": [
    "adult_nov_final_df.head()"
   ]
  },
  {
   "cell_type": "code",
   "execution_count": 94,
   "metadata": {},
   "outputs": [
    {
     "data": {
      "text/plain": [
       "186.0    1324\n",
       "187.0     899\n",
       "Name: country, dtype: int64"
      ]
     },
     "execution_count": 94,
     "metadata": {},
     "output_type": "execute_result"
    }
   ],
   "source": [
    "adult_nov_final_df.country.value_counts(dropna=False)"
   ]
  },
  {
   "cell_type": "code",
   "execution_count": 95,
   "metadata": {},
   "outputs": [
    {
     "data": {
      "text/plain": [
       "Moderately Stressed    0.563203\n",
       "Normal                 0.352227\n",
       "Extremely Stressed     0.084570\n",
       "Name: 2WkPriorMoodStateClass, dtype: float64"
      ]
     },
     "execution_count": 95,
     "metadata": {},
     "output_type": "execute_result"
    }
   ],
   "source": [
    "##Convert into classes\n",
    "adult_nov_final_df['2WkPriorMoodStateClass']=adult_nov_final_df['2WkPriorMoodStateIndex'].apply(get2WkPriorMoodStateClass)\n",
    "adult_nov_final_df['2WkPriorMoodStateClass'].value_counts(normalize=True)"
   ]
  },
  {
   "cell_type": "code",
   "execution_count": 96,
   "metadata": {},
   "outputs": [
    {
     "name": "stdout",
     "output_type": "stream",
     "text": [
      "0.6637\n",
      "                 precision    recall  f1-score   support\n",
      "\n",
      " Extreme Stress       0.00      0.00      0.00        47\n",
      "Moderate Stress       0.66      0.85      0.74       315\n",
      "         Normal       0.68      0.52      0.59       194\n",
      "\n",
      "       accuracy                           0.66       556\n",
      "      macro avg       0.45      0.46      0.44       556\n",
      "   weighted avg       0.61      0.66      0.63       556\n",
      "\n",
      "Variable: LifechnageStressIndex Importance: 0.23\n",
      "Variable: CovidWorryIndex      Importance: 0.2\n",
      "Variable: 2WkPriorMediaUseIndex Importance: 0.08\n",
      "Variable: inpersonconvo        Importance: 0.05\n",
      "Variable: timeoutside          Importance: 0.05\n",
      "Variable: positivechange       Importance: 0.03\n",
      "Variable: country              Importance: 0.02\n",
      "Variable: age_bin_30_under     Importance: 0.02\n",
      "Variable: age_bin_30-49        Importance: 0.02\n",
      "Variable: age_bin_50_over      Importance: 0.02\n",
      "Variable: symptoms___2         Importance: 0.02\n",
      "Variable: symptoms___4         Importance: 0.02\n",
      "Variable: symptoms___6         Importance: 0.02\n",
      "Variable: symptoms___8         Importance: 0.02\n",
      "Variable: impact___8           Importance: 0.02\n",
      "Variable: foodsecurity         Importance: 0.02\n",
      "Variable: isparent             Importance: 0.01\n",
      "Variable: exposed___1          Importance: 0.01\n",
      "Variable: exposed___3          Importance: 0.01\n",
      "Variable: exposed___4          Importance: 0.01\n",
      "Variable: infected             Importance: 0.01\n",
      "Variable: symptoms___1         Importance: 0.01\n",
      "Variable: symptoms___3         Importance: 0.01\n",
      "Variable: symptoms___5         Importance: 0.01\n",
      "Variable: symptoms___7         Importance: 0.01\n",
      "Variable: impact___1           Importance: 0.01\n",
      "Variable: impact___3           Importance: 0.01\n",
      "Variable: impact___4           Importance: 0.01\n",
      "Variable: impact___5           Importance: 0.01\n",
      "Variable: impact___6           Importance: 0.01\n",
      "Variable: diagnosedfamily___2  Importance: 0.01\n",
      "Variable: exposed___2          Importance: 0.0\n",
      "Variable: impact___2           Importance: 0.0\n",
      "Variable: impact___7           Importance: 0.0\n",
      "Variable: diagnosedfamily___1  Importance: 0.0\n"
     ]
    },
    {
     "name": "stderr",
     "output_type": "stream",
     "text": [
      "C:\\Users\\Administrator\\anaconda3\\lib\\site-packages\\sklearn\\metrics\\_classification.py:1221: UndefinedMetricWarning: Precision and F-score are ill-defined and being set to 0.0 in labels with no predicted samples. Use `zero_division` parameter to control this behavior.\n",
      "  _warn_prf(average, modifier, msg_start, len(result))\n"
     ]
    }
   ],
   "source": [
    "# Use numpy to convert to arrays\n",
    "import numpy as np\n",
    "labels = np.array(adult_nov_final_df['2WkPriorMoodStateClass'])\n",
    "features= adult_nov_final_df.drop(['2WkPriorMoodStateClass','2WkPriorMoodStateIndex','ID','YearMonth'], axis = 1)\n",
    "feature_list = list(features.columns)\n",
    "features = np.array(features)\n",
    "\n",
    "# Using Skicit-learn to split data into training and testing sets\n",
    "from sklearn.model_selection import train_test_split\n",
    "train_features, test_features, train_labels, test_labels = train_test_split(features, labels, test_size = 0.25, random_state = 42)\n",
    "\n",
    "# Import the model we are using\n",
    "from sklearn.ensemble import RandomForestClassifier\n",
    "# Instantiate model with 1000 decision trees\n",
    "rf = RandomForestClassifier(n_estimators= 800,\n",
    " min_samples_split= 2,\n",
    " min_samples_leaf= 2,\n",
    " max_features='sqrt',\n",
    " max_depth= 50,\n",
    " bootstrap=False)\n",
    "# Train the model on training data\n",
    "rf.fit(train_features, train_labels);\n",
    "\n",
    "from sklearn.metrics import classification_report\n",
    "# Use the forest's predict method on the test data\n",
    "predictions = rf.predict(test_features)\n",
    "\n",
    "print(round(rf.score(test_features,test_labels), 4))\n",
    "\n",
    "from sklearn.metrics import classification_report\n",
    "target_names = ['Extreme Stress', 'Moderate Stress', 'Normal']\n",
    "print(classification_report(test_labels, predictions, target_names=target_names))\n",
    "\n",
    "# Get numerical feature importances\n",
    "importances = list(rf.feature_importances_)\n",
    "# List of tuples with variable and importance\n",
    "feature_importances = [(feature, round(importance, 2)) for feature, importance in zip(feature_list, importances)]\n",
    "# Sort the feature importances by most important first\n",
    "feature_importances = sorted(feature_importances, key = lambda x: x[1], reverse = True)\n",
    "# Print out the feature and importances \n",
    "[print('Variable: {:20} Importance: {}'.format(*pair)) for pair in feature_importances];"
   ]
  },
  {
   "cell_type": "code",
   "execution_count": null,
   "metadata": {},
   "outputs": [],
   "source": []
  },
  {
   "cell_type": "markdown",
   "metadata": {},
   "source": [
    "### April 2021 - Adult"
   ]
  },
  {
   "cell_type": "code",
   "execution_count": 112,
   "metadata": {},
   "outputs": [
    {
     "name": "stderr",
     "output_type": "stream",
     "text": [
      "C:\\Users\\Administrator\\anaconda3\\lib\\site-packages\\IPython\\core\\interactiveshell.py:3457: DtypeWarning: Columns (5,77,78) have mixed types.Specify dtype option on import or set low_memory=False.\n",
      "  exec(code_obj, self.user_global_ns, self.user_ns)\n"
     ]
    }
   ],
   "source": [
    "adult_2021_df = pd.read_csv('Data/ProlificAcademic/updated_data/April_21/CRISIS_Adult_April_2021.csv')"
   ]
  },
  {
   "cell_type": "code",
   "execution_count": 113,
   "metadata": {},
   "outputs": [
    {
     "name": "stdout",
     "output_type": "stream",
     "text": [
      "(2125, 286)\n",
      "(2125, 288)\n"
     ]
    }
   ],
   "source": [
    "print(adult_2021_df.shape)\n",
    "adult_2021_df=pd.merge(adult_2021_df,mappind_df[['Adult_ID','Parent_ID']],left_on=['ID'],right_on=['Adult_ID'],how='left')\n",
    "print(adult_2021_df.shape)\n",
    "adult_2021_df['isparent']=adult_2021_df['Parent_ID'].apply(isParent)"
   ]
  },
  {
   "cell_type": "code",
   "execution_count": 114,
   "metadata": {},
   "outputs": [],
   "source": [
    "adult_2021_df.rename(columns={'gender': 'sex','suspectedinfected':'infected','essentialworker':'essentialworkers'}, inplace=True)"
   ]
  },
  {
   "cell_type": "code",
   "execution_count": 115,
   "metadata": {},
   "outputs": [],
   "source": [
    "adult_2021_df[\"YearMonth\"]=\"2021-04\""
   ]
  },
  {
   "cell_type": "code",
   "execution_count": 116,
   "metadata": {},
   "outputs": [
    {
     "data": {
      "text/html": [
       "<div>\n",
       "<style scoped>\n",
       "    .dataframe tbody tr th:only-of-type {\n",
       "        vertical-align: middle;\n",
       "    }\n",
       "\n",
       "    .dataframe tbody tr th {\n",
       "        vertical-align: top;\n",
       "    }\n",
       "\n",
       "    .dataframe thead th {\n",
       "        text-align: right;\n",
       "    }\n",
       "</style>\n",
       "<table border=\"1\" class=\"dataframe\">\n",
       "  <thead>\n",
       "    <tr style=\"text-align: right;\">\n",
       "      <th></th>\n",
       "      <th>ID</th>\n",
       "      <th>timestamp1</th>\n",
       "      <th>country</th>\n",
       "      <th>age</th>\n",
       "      <th>sex</th>\n",
       "      <th>gender_other</th>\n",
       "      <th>tall</th>\n",
       "      <th>measurementheight</th>\n",
       "      <th>weight</th>\n",
       "      <th>measurementweight</th>\n",
       "      <th>...</th>\n",
       "      <th>iat_20</th>\n",
       "      <th>internet_addiction_test_iat_complete</th>\n",
       "      <th>inpersonconvo_bin</th>\n",
       "      <th>age_bin</th>\n",
       "      <th>Apr_cw_ave</th>\n",
       "      <th>Apr_cms_ave</th>\n",
       "      <th>Adult_ID</th>\n",
       "      <th>Parent_ID</th>\n",
       "      <th>isparent</th>\n",
       "      <th>YearMonth</th>\n",
       "    </tr>\n",
       "  </thead>\n",
       "  <tbody>\n",
       "    <tr>\n",
       "      <th>0</th>\n",
       "      <td>9d02e964</td>\n",
       "      <td>2021-04-17 14:17:47</td>\n",
       "      <td>186</td>\n",
       "      <td>64</td>\n",
       "      <td>1.0</td>\n",
       "      <td>NaN</td>\n",
       "      <td>69.0</td>\n",
       "      <td>1.0</td>\n",
       "      <td>172.0</td>\n",
       "      <td>1.0</td>\n",
       "      <td>...</td>\n",
       "      <td>0.0</td>\n",
       "      <td>2</td>\n",
       "      <td>3.0</td>\n",
       "      <td>50_over</td>\n",
       "      <td>2.166667</td>\n",
       "      <td>1.6</td>\n",
       "      <td>9d02e964</td>\n",
       "      <td>_NA_</td>\n",
       "      <td>0</td>\n",
       "      <td>2021-04</td>\n",
       "    </tr>\n",
       "    <tr>\n",
       "      <th>1</th>\n",
       "      <td>ca35346c</td>\n",
       "      <td>2021-04-16 15:22:29</td>\n",
       "      <td>186</td>\n",
       "      <td>43</td>\n",
       "      <td>2.0</td>\n",
       "      <td>NaN</td>\n",
       "      <td>186.0</td>\n",
       "      <td>2.0</td>\n",
       "      <td>168.0</td>\n",
       "      <td>1.0</td>\n",
       "      <td>...</td>\n",
       "      <td>2.0</td>\n",
       "      <td>2</td>\n",
       "      <td>2.0</td>\n",
       "      <td>30-49</td>\n",
       "      <td>2.166667</td>\n",
       "      <td>3.6</td>\n",
       "      <td>ca35346c</td>\n",
       "      <td>_NA_</td>\n",
       "      <td>0</td>\n",
       "      <td>2021-04</td>\n",
       "    </tr>\n",
       "    <tr>\n",
       "      <th>2</th>\n",
       "      <td>78d8a910</td>\n",
       "      <td>2021-04-16 17:30:13</td>\n",
       "      <td>186</td>\n",
       "      <td>42</td>\n",
       "      <td>NaN</td>\n",
       "      <td>NaN</td>\n",
       "      <td>NaN</td>\n",
       "      <td>NaN</td>\n",
       "      <td>NaN</td>\n",
       "      <td>NaN</td>\n",
       "      <td>...</td>\n",
       "      <td>NaN</td>\n",
       "      <td>0</td>\n",
       "      <td>NaN</td>\n",
       "      <td>30-49</td>\n",
       "      <td>NaN</td>\n",
       "      <td>NaN</td>\n",
       "      <td>78d8a910</td>\n",
       "      <td>_NA_</td>\n",
       "      <td>0</td>\n",
       "      <td>2021-04</td>\n",
       "    </tr>\n",
       "    <tr>\n",
       "      <th>3</th>\n",
       "      <td>28e70f01</td>\n",
       "      <td>2021-04-24 10:01:35</td>\n",
       "      <td>187</td>\n",
       "      <td>57</td>\n",
       "      <td>2.0</td>\n",
       "      <td>NaN</td>\n",
       "      <td>65.0</td>\n",
       "      <td>1.0</td>\n",
       "      <td>220.0</td>\n",
       "      <td>1.0</td>\n",
       "      <td>...</td>\n",
       "      <td>0.0</td>\n",
       "      <td>2</td>\n",
       "      <td>2.0</td>\n",
       "      <td>50_over</td>\n",
       "      <td>4.000000</td>\n",
       "      <td>3.0</td>\n",
       "      <td>28e70f01</td>\n",
       "      <td>_NA_</td>\n",
       "      <td>0</td>\n",
       "      <td>2021-04</td>\n",
       "    </tr>\n",
       "    <tr>\n",
       "      <th>4</th>\n",
       "      <td>0cd23e27</td>\n",
       "      <td>2021-04-16 15:08:34</td>\n",
       "      <td>186</td>\n",
       "      <td>46</td>\n",
       "      <td>2.0</td>\n",
       "      <td>NaN</td>\n",
       "      <td>164.0</td>\n",
       "      <td>2.0</td>\n",
       "      <td>63.0</td>\n",
       "      <td>2.0</td>\n",
       "      <td>...</td>\n",
       "      <td>1.0</td>\n",
       "      <td>2</td>\n",
       "      <td>2.0</td>\n",
       "      <td>30-49</td>\n",
       "      <td>1.833333</td>\n",
       "      <td>2.3</td>\n",
       "      <td>0cd23e27</td>\n",
       "      <td>_NA_</td>\n",
       "      <td>0</td>\n",
       "      <td>2021-04</td>\n",
       "    </tr>\n",
       "  </tbody>\n",
       "</table>\n",
       "<p>5 rows × 290 columns</p>\n",
       "</div>"
      ],
      "text/plain": [
       "         ID           timestamp1  country  age  sex gender_other   tall  \\\n",
       "0  9d02e964  2021-04-17 14:17:47      186   64  1.0          NaN   69.0   \n",
       "1  ca35346c  2021-04-16 15:22:29      186   43  2.0          NaN  186.0   \n",
       "2  78d8a910  2021-04-16 17:30:13      186   42  NaN          NaN    NaN   \n",
       "3  28e70f01  2021-04-24 10:01:35      187   57  2.0          NaN   65.0   \n",
       "4  0cd23e27  2021-04-16 15:08:34      186   46  2.0          NaN  164.0   \n",
       "\n",
       "   measurementheight  weight  measurementweight  ...  iat_20  \\\n",
       "0                1.0   172.0                1.0  ...     0.0   \n",
       "1                2.0   168.0                1.0  ...     2.0   \n",
       "2                NaN     NaN                NaN  ...     NaN   \n",
       "3                1.0   220.0                1.0  ...     0.0   \n",
       "4                2.0    63.0                2.0  ...     1.0   \n",
       "\n",
       "   internet_addiction_test_iat_complete  inpersonconvo_bin  age_bin  \\\n",
       "0                                     2                3.0  50_over   \n",
       "1                                     2                2.0    30-49   \n",
       "2                                     0                NaN    30-49   \n",
       "3                                     2                2.0  50_over   \n",
       "4                                     2                2.0    30-49   \n",
       "\n",
       "   Apr_cw_ave  Apr_cms_ave  Adult_ID  Parent_ID  isparent  YearMonth  \n",
       "0    2.166667          1.6  9d02e964       _NA_         0    2021-04  \n",
       "1    2.166667          3.6  ca35346c       _NA_         0    2021-04  \n",
       "2         NaN          NaN  78d8a910       _NA_         0    2021-04  \n",
       "3    4.000000          3.0  28e70f01       _NA_         0    2021-04  \n",
       "4    1.833333          2.3  0cd23e27       _NA_         0    2021-04  \n",
       "\n",
       "[5 rows x 290 columns]"
      ]
     },
     "execution_count": 116,
     "metadata": {},
     "output_type": "execute_result"
    }
   ],
   "source": [
    "adult_2021_df.head()"
   ]
  },
  {
   "cell_type": "code",
   "execution_count": 117,
   "metadata": {},
   "outputs": [
    {
     "data": {
      "text/plain": [
       "186    1363\n",
       "187     750\n",
       "140       2\n",
       "183       2\n",
       "84        1\n",
       "67        1\n",
       "17        1\n",
       "24        1\n",
       "56        1\n",
       "169       1\n",
       "124       1\n",
       "101       1\n",
       "Name: country, dtype: int64"
      ]
     },
     "execution_count": 117,
     "metadata": {},
     "output_type": "execute_result"
    }
   ],
   "source": [
    "adult_2021_df.country.value_counts()"
   ]
  },
  {
   "cell_type": "code",
   "execution_count": 118,
   "metadata": {},
   "outputs": [],
   "source": [
    "#Considering same countries\n",
    "adult_2021_df=adult_2021_df.query(\"country==186 or country==187\")"
   ]
  },
  {
   "cell_type": "markdown",
   "metadata": {},
   "source": [
    "- Basic Checks"
   ]
  },
  {
   "cell_type": "code",
   "execution_count": 119,
   "metadata": {},
   "outputs": [
    {
     "name": "stdout",
     "output_type": "stream",
     "text": [
      "(2113, 290)\n",
      "(2113, 259)\n",
      "gender_other\n",
      "otherhealth\n",
      "schoolbegin\n",
      "schoolcurrent\n",
      "schooldevice_other\n",
      "schooldeviceaccess\n",
      "schoolinternet\n",
      "schoolinternetreliable\n",
      "schoolsatisfied\n",
      "schoolpreference\n",
      "grandparents\n",
      "siblings\n",
      "otherchildren\n",
      "otherrelatives\n",
      "unrelatedpeople\n",
      "othersymptoms\n",
      "vaccinewhynot\n",
      "vaccinationdate\n",
      "vaccinetype\n",
      "vaccinetype_other\n",
      "disruptedsupportsother\n",
      "specifypositive\n",
      "massshootings\n",
      "brexit\n",
      "capitolattack\n",
      "othereventdescribe\n",
      "videogametype\n",
      "videogameother\n",
      "substanceproblems\n",
      "substancecomplaint\n",
      "anything_else\n"
     ]
    }
   ],
   "source": [
    "##Remove Columns with missing values more than threshold\n",
    "print(adult_2021_df.shape)\n",
    "missing_val_threshold=0.8\n",
    "adult_adj_2021_df=adult_2021_df.dropna(thresh=adult_2021_df.shape[0]*missing_val_threshold,how='all',axis=1)\n",
    "print(adult_adj_2021_df.shape)\n",
    "\n",
    "#Dropped Columns\n",
    "for col in adult_2021_df.columns:\n",
    "    if col not in adult_adj_2021_df.columns:\n",
    "        print(col)"
   ]
  },
  {
   "cell_type": "code",
   "execution_count": 121,
   "metadata": {},
   "outputs": [
    {
     "data": {
      "text/plain": [
       "substance___1                                   substance___1                                     1.000000\n",
       "neurology___4                                   neurology___4                                     1.000000\n",
       "neurology___3                                   neurology___3                                     1.000000\n",
       "neurology___2                                   neurology___2                                     1.000000\n",
       "neurology___1                                   neurology___1                                     1.000000\n",
       "psychiatry___4                                  psychiatry___4                                    1.000000\n",
       "psychiatry___3                                  psychiatry___3                                    1.000000\n",
       "psychiatry___2                                  psychiatry___2                                    1.000000\n",
       "psychiatry___1                                  psychiatry___1                                    1.000000\n",
       "primarycare___4                                 primarycare___4                                   1.000000\n",
       "primarycare___3                                 primarycare___3                                   1.000000\n",
       "primarycare___2                                 primarycare___2                                   1.000000\n",
       "primarycare___1                                 primarycare___1                                   1.000000\n",
       "negthoughts                                     negthoughts                                       1.000000\n",
       "lonely                                          lonely                                            1.000000\n",
       "irritable                                       irritable                                         1.000000\n",
       "sex                                             sex                                               1.000000\n",
       "isparent                                        isparent                                          1.000000\n",
       "crisis_adult_selfreport_baseline_form_complete  internet_addiction_test_iat_complete              0.967057\n",
       "internet_addiction_test_iat_complete            crisis_adult_selfreport_baseline_form_complete    0.967057\n",
       "inpersonconvo                                   inpersonconvo_bin                                 0.862784\n",
       "inpersonconvo_bin                               inpersonconvo                                     0.862784\n",
       "peopletoturnto                                  peopletotalkto                                    0.852280\n",
       "peopletotalkto                                  peopletoturnto                                    0.852280\n",
       "weekendbedtime                                  weekdaybedtime                                    0.837123\n",
       "weekdaybedtime                                  weekendbedtime                                    0.837123\n",
       "working___11                                    schooldevice___1                                  0.832511\n",
       "schooldevice___1                                working___11                                      0.832511\n",
       "exposed___4                                     exposed___1                                       0.824211\n",
       "exposed___1                                     exposed___4                                       0.824211\n",
       "worriedphysical                                 Apr_cw_ave                                        0.797764\n",
       "Apr_cw_ave                                      worriedphysical                                   0.797764\n",
       "relaxedvsanxious                                Apr_cms_ave                                       0.796878\n",
       "Apr_cms_ave                                     relaxedvsanxious                                  0.796878\n",
       "schooldevice___1                                school___1                                        0.791783\n",
       "school___1                                      schooldevice___1                                  0.791783\n",
       "Apr_cw_ave                                      worriedyourself                                   0.787842\n",
       "worriedyourself                                 Apr_cw_ave                                        0.787842\n",
       "worriedothers                                   Apr_cw_ave                                        0.781057\n",
       "Apr_cw_ave                                      worriedothers                                     0.781057\n",
       "dtype: float64"
      ]
     },
     "execution_count": 121,
     "metadata": {},
     "output_type": "execute_result"
    }
   ],
   "source": [
    "## Correlation Analysis\n",
    "numerics = ['int16', 'int32', 'int64', 'float16', 'float32', 'float64']\n",
    "corr_df = adult_adj_2021_df.select_dtypes(include=numerics)\n",
    "corr_df = corr_df.apply(pd.to_numeric)\n",
    "#lifechanges_df.corr().abs()\n",
    "#factor_df.corr(method=\"pearson\")\n",
    "c = corr_df.corr().abs()\n",
    "s = c.unstack()\n",
    "so = s.sort_values(kind=\"quicksort\", ascending=False)\n",
    "so[230:270]"
   ]
  },
  {
   "cell_type": "code",
   "execution_count": 122,
   "metadata": {},
   "outputs": [
    {
     "name": "stdout",
     "output_type": "stream",
     "text": [
      "(2113, 256)\n"
     ]
    },
    {
     "name": "stderr",
     "output_type": "stream",
     "text": [
      "C:\\Users\\Administrator\\anaconda3\\lib\\site-packages\\pandas\\core\\frame.py:4906: SettingWithCopyWarning: \n",
      "A value is trying to be set on a copy of a slice from a DataFrame\n",
      "\n",
      "See the caveats in the documentation: https://pandas.pydata.org/pandas-docs/stable/user_guide/indexing.html#returning-a-view-versus-a-copy\n",
      "  return super().drop(\n"
     ]
    }
   ],
   "source": [
    "#Drop columns with too high correlations\n",
    "# crisis_adult_selfreport_baseline_form_complete  internet_addiction_test_iat_complete              0.967057\n",
    "#internet_addiction_test_iat_complete            crisis_adult_selfreport_baseline_form_complete    0.967057\n",
    "#inpersonconvo                                   inpersonconvo_bin                                 0.862784\n",
    "#inpersonconvo_bin                               inpersonconvo                                     0.862784\n",
    "#peopletoturnto                                  peopletotalkto                                    0.852280\n",
    "#peopletotalkto                                  peopletoturnto                                    0.852280\n",
    "\n",
    "#Keeping crisis_adult_selfreport_baseline_form_complete\n",
    "adult_adj_2021_df.drop(['internet_addiction_test_iat_complete'], axis=1, inplace=True)\n",
    "adult_adj_2021_df.drop(['inpersonconvo_bin'], axis=1, inplace=True)\n",
    "adult_adj_2021_df.drop(['peopletotalkto'], axis=1, inplace=True)\n",
    "print(adult_adj_2021_df.shape)"
   ]
  },
  {
   "cell_type": "code",
   "execution_count": 123,
   "metadata": {},
   "outputs": [
    {
     "data": {
      "text/html": [
       "<div>\n",
       "<style scoped>\n",
       "    .dataframe tbody tr th:only-of-type {\n",
       "        vertical-align: middle;\n",
       "    }\n",
       "\n",
       "    .dataframe tbody tr th {\n",
       "        vertical-align: top;\n",
       "    }\n",
       "\n",
       "    .dataframe thead th {\n",
       "        text-align: right;\n",
       "    }\n",
       "</style>\n",
       "<table border=\"1\" class=\"dataframe\">\n",
       "  <thead>\n",
       "    <tr style=\"text-align: right;\">\n",
       "      <th></th>\n",
       "      <th>ID</th>\n",
       "      <th>timestamp1</th>\n",
       "      <th>country</th>\n",
       "      <th>age</th>\n",
       "      <th>sex</th>\n",
       "      <th>tall</th>\n",
       "      <th>measurementheight</th>\n",
       "      <th>weight</th>\n",
       "      <th>measurementweight</th>\n",
       "      <th>healthconditions___1</th>\n",
       "      <th>...</th>\n",
       "      <th>age_bin</th>\n",
       "      <th>Apr_cw_ave</th>\n",
       "      <th>Apr_cms_ave</th>\n",
       "      <th>Adult_ID</th>\n",
       "      <th>Parent_ID</th>\n",
       "      <th>isparent</th>\n",
       "      <th>YearMonth</th>\n",
       "      <th>age_bin_30-49</th>\n",
       "      <th>age_bin_30_under</th>\n",
       "      <th>age_bin_50_over</th>\n",
       "    </tr>\n",
       "  </thead>\n",
       "  <tbody>\n",
       "    <tr>\n",
       "      <th>0</th>\n",
       "      <td>9d02e964</td>\n",
       "      <td>2021-04-17 14:17:47</td>\n",
       "      <td>186</td>\n",
       "      <td>64</td>\n",
       "      <td>1.0</td>\n",
       "      <td>69.0</td>\n",
       "      <td>1.0</td>\n",
       "      <td>172.0</td>\n",
       "      <td>1.0</td>\n",
       "      <td>0</td>\n",
       "      <td>...</td>\n",
       "      <td>50_over</td>\n",
       "      <td>2.166667</td>\n",
       "      <td>1.6</td>\n",
       "      <td>9d02e964</td>\n",
       "      <td>_NA_</td>\n",
       "      <td>0</td>\n",
       "      <td>2021-04</td>\n",
       "      <td>0</td>\n",
       "      <td>0</td>\n",
       "      <td>1</td>\n",
       "    </tr>\n",
       "    <tr>\n",
       "      <th>1</th>\n",
       "      <td>ca35346c</td>\n",
       "      <td>2021-04-16 15:22:29</td>\n",
       "      <td>186</td>\n",
       "      <td>43</td>\n",
       "      <td>2.0</td>\n",
       "      <td>186.0</td>\n",
       "      <td>2.0</td>\n",
       "      <td>168.0</td>\n",
       "      <td>1.0</td>\n",
       "      <td>1</td>\n",
       "      <td>...</td>\n",
       "      <td>30-49</td>\n",
       "      <td>2.166667</td>\n",
       "      <td>3.6</td>\n",
       "      <td>ca35346c</td>\n",
       "      <td>_NA_</td>\n",
       "      <td>0</td>\n",
       "      <td>2021-04</td>\n",
       "      <td>1</td>\n",
       "      <td>0</td>\n",
       "      <td>0</td>\n",
       "    </tr>\n",
       "    <tr>\n",
       "      <th>2</th>\n",
       "      <td>78d8a910</td>\n",
       "      <td>2021-04-16 17:30:13</td>\n",
       "      <td>186</td>\n",
       "      <td>42</td>\n",
       "      <td>NaN</td>\n",
       "      <td>NaN</td>\n",
       "      <td>NaN</td>\n",
       "      <td>NaN</td>\n",
       "      <td>NaN</td>\n",
       "      <td>0</td>\n",
       "      <td>...</td>\n",
       "      <td>30-49</td>\n",
       "      <td>NaN</td>\n",
       "      <td>NaN</td>\n",
       "      <td>78d8a910</td>\n",
       "      <td>_NA_</td>\n",
       "      <td>0</td>\n",
       "      <td>2021-04</td>\n",
       "      <td>1</td>\n",
       "      <td>0</td>\n",
       "      <td>0</td>\n",
       "    </tr>\n",
       "    <tr>\n",
       "      <th>3</th>\n",
       "      <td>28e70f01</td>\n",
       "      <td>2021-04-24 10:01:35</td>\n",
       "      <td>187</td>\n",
       "      <td>57</td>\n",
       "      <td>2.0</td>\n",
       "      <td>65.0</td>\n",
       "      <td>1.0</td>\n",
       "      <td>220.0</td>\n",
       "      <td>1.0</td>\n",
       "      <td>0</td>\n",
       "      <td>...</td>\n",
       "      <td>50_over</td>\n",
       "      <td>4.000000</td>\n",
       "      <td>3.0</td>\n",
       "      <td>28e70f01</td>\n",
       "      <td>_NA_</td>\n",
       "      <td>0</td>\n",
       "      <td>2021-04</td>\n",
       "      <td>0</td>\n",
       "      <td>0</td>\n",
       "      <td>1</td>\n",
       "    </tr>\n",
       "    <tr>\n",
       "      <th>4</th>\n",
       "      <td>0cd23e27</td>\n",
       "      <td>2021-04-16 15:08:34</td>\n",
       "      <td>186</td>\n",
       "      <td>46</td>\n",
       "      <td>2.0</td>\n",
       "      <td>164.0</td>\n",
       "      <td>2.0</td>\n",
       "      <td>63.0</td>\n",
       "      <td>2.0</td>\n",
       "      <td>0</td>\n",
       "      <td>...</td>\n",
       "      <td>30-49</td>\n",
       "      <td>1.833333</td>\n",
       "      <td>2.3</td>\n",
       "      <td>0cd23e27</td>\n",
       "      <td>_NA_</td>\n",
       "      <td>0</td>\n",
       "      <td>2021-04</td>\n",
       "      <td>1</td>\n",
       "      <td>0</td>\n",
       "      <td>0</td>\n",
       "    </tr>\n",
       "  </tbody>\n",
       "</table>\n",
       "<p>5 rows × 259 columns</p>\n",
       "</div>"
      ],
      "text/plain": [
       "         ID           timestamp1  country  age  sex   tall  measurementheight  \\\n",
       "0  9d02e964  2021-04-17 14:17:47      186   64  1.0   69.0                1.0   \n",
       "1  ca35346c  2021-04-16 15:22:29      186   43  2.0  186.0                2.0   \n",
       "2  78d8a910  2021-04-16 17:30:13      186   42  NaN    NaN                NaN   \n",
       "3  28e70f01  2021-04-24 10:01:35      187   57  2.0   65.0                1.0   \n",
       "4  0cd23e27  2021-04-16 15:08:34      186   46  2.0  164.0                2.0   \n",
       "\n",
       "   weight  measurementweight  healthconditions___1  ...  age_bin  Apr_cw_ave  \\\n",
       "0   172.0                1.0                     0  ...  50_over    2.166667   \n",
       "1   168.0                1.0                     1  ...    30-49    2.166667   \n",
       "2     NaN                NaN                     0  ...    30-49         NaN   \n",
       "3   220.0                1.0                     0  ...  50_over    4.000000   \n",
       "4    63.0                2.0                     0  ...    30-49    1.833333   \n",
       "\n",
       "   Apr_cms_ave  Adult_ID  Parent_ID  isparent  YearMonth  age_bin_30-49  \\\n",
       "0          1.6  9d02e964       _NA_         0    2021-04              0   \n",
       "1          3.6  ca35346c       _NA_         0    2021-04              1   \n",
       "2          NaN  78d8a910       _NA_         0    2021-04              1   \n",
       "3          3.0  28e70f01       _NA_         0    2021-04              0   \n",
       "4          2.3  0cd23e27       _NA_         0    2021-04              1   \n",
       "\n",
       "   age_bin_30_under  age_bin_50_over  \n",
       "0                 0                1  \n",
       "1                 0                0  \n",
       "2                 0                0  \n",
       "3                 0                1  \n",
       "4                 0                0  \n",
       "\n",
       "[5 rows x 259 columns]"
      ]
     },
     "execution_count": 123,
     "metadata": {},
     "output_type": "execute_result"
    }
   ],
   "source": [
    "##Add one-hot encoding for age_bin\n",
    "age_bin_cols = pd.get_dummies(adult_adj_2021_df.age_bin, prefix='age_bin')\n",
    "adult_adj_2021_df=pd.concat([adult_adj_2021_df,age_bin_cols],axis=1)\n",
    "adult_adj_2021_df.head()"
   ]
  },
  {
   "cell_type": "code",
   "execution_count": 124,
   "metadata": {},
   "outputs": [],
   "source": [
    "#Fill Null values with \"_NA_\"\n",
    "adult_adj_2021_df.fillna(\"_NA_\",inplace=True)"
   ]
  },
  {
   "cell_type": "code",
   "execution_count": 125,
   "metadata": {},
   "outputs": [],
   "source": [
    "#Replace nulls with Mode\n",
    "for column in adult_adj_2021_df.columns:\n",
    "    mode_val=adult_adj_2021_df[column].mode()\n",
    "    #print(column,mode_val[0])\n",
    "    adult_adj_2021_df.replace({column:{\"_NA_\":mode_val[0]}}, inplace=True)"
   ]
  },
  {
   "cell_type": "code",
   "execution_count": 126,
   "metadata": {},
   "outputs": [],
   "source": [
    "demographic_cols=['ID','YearMonth','country','age_bin_30_under','age_bin_30-49','age_bin_50_over','sex',\n",
    "#'raceethnicity___1','raceethnicity___2','raceethnicity___3','raceethnicity___4',\n",
    "#'raceethnicity___5','raceethnicity___6','raceethnicity___7','raceethnicity___8',\n",
    "#'raceethnicity___9','raceethnicity___10','raceethnicity___11','raceethnicity___12',\n",
    "#'raceethnicity___13','raceethnicity___14','raceethnicity___15','raceethnicity___16',\n",
    "#'raceethnicity___17','raceethnicity___18','raceethnicity___19','raceethnicity___20','hispanic',\n",
    "'working___1',\n",
    "'working___2','working___3','working___4','working___5',\n",
    "'working___6','working___7','working___8','location',\n",
    "#'military','education','educationmother','educationfather','govassist','physicalhealth','mentalhealth',\n",
    "'householdnumber','essentialworkers','householdcomp___1','householdcomp___2','householdcomp___3',\n",
    "'householdcomp___4','householdcomp___5',\n",
    "'householdcomp___6','householdcomp___7','roomsinhouse',\n",
    "'insurance',\n",
    "'healthconditions___1','healthconditions___2',\n",
    "'healthconditions___3','healthconditions___4',\n",
    "'healthconditions___5','healthconditions___6',\n",
    "'healthconditions___7','healthconditions___8',\n",
    "'healthconditions___9','healthconditions___10',\n",
    "'healthconditions___11','healthconditions___12',\n",
    "'healthconditions___13','healthconditions___14',\n",
    "'healthconditions___15','healthconditions___16',\n",
    "'healthconditions___17','tall',\n",
    "'measurementheight',\n",
    "'measurementweight','isparent']#occupation\n",
    "\n",
    "exp_cols=['exposed___1',\n",
    "'exposed___2',\n",
    "'exposed___3',\n",
    "'exposed___4','infected']\n",
    "\n",
    "symp_cols=['symptoms___1',\n",
    "'symptoms___2',\n",
    "'symptoms___3',\n",
    "'symptoms___4',\n",
    "'symptoms___5',\n",
    "'symptoms___6',\n",
    "'symptoms___7',\n",
    "'symptoms___8']\n",
    "\n",
    "Impact_cols=['impact___1',\n",
    "'impact___2',\n",
    "'impact___3',\n",
    "'impact___4',\n",
    "'impact___5',\n",
    "'impact___6',\n",
    "'impact___7',\n",
    "'impact___8']\n",
    "\n",
    "diagnosis_cols=['diagnosedfamily___1',\n",
    "'diagnosedfamily___2']\n"
   ]
  },
  {
   "cell_type": "markdown",
   "metadata": {},
   "source": [
    "- Covid Worry"
   ]
  },
  {
   "cell_type": "code",
   "execution_count": 127,
   "metadata": {},
   "outputs": [
    {
     "name": "stdout",
     "output_type": "stream",
     "text": [
      "(2113, 5)\n"
     ]
    },
    {
     "name": "stderr",
     "output_type": "stream",
     "text": [
      "C:\\Users\\ADMINI~1\\AppData\\Local\\Temp\\2/ipykernel_2640/2148140074.py:2: SettingWithCopyWarning: \n",
      "A value is trying to be set on a copy of a slice from a DataFrame.\n",
      "Try using .loc[row_indexer,col_indexer] = value instead\n",
      "\n",
      "See the caveats in the documentation: https://pandas.pydata.org/pandas-docs/stable/user_guide/indexing.html#returning-a-view-versus-a-copy\n",
      "  covid_worry_df['CovidWorryIndex']=covid_worry_df[covidworry_cols].apply(getCovidWorryIndex, axis=1)\n"
     ]
    }
   ],
   "source": [
    "covid_worry_df=adult_adj_2021_df[covidworry_cols]\n",
    "covid_worry_df['CovidWorryIndex']=covid_worry_df[covidworry_cols].apply(getCovidWorryIndex, axis=1)\n",
    "print(covid_worry_df.shape)\n",
    "#adult_df5.head()"
   ]
  },
  {
   "cell_type": "markdown",
   "metadata": {},
   "source": [
    "- Mood States"
   ]
  },
  {
   "cell_type": "code",
   "execution_count": 128,
   "metadata": {},
   "outputs": [
    {
     "name": "stdout",
     "output_type": "stream",
     "text": [
      "(2113, 5) (2113, 2)\n"
     ]
    },
    {
     "name": "stderr",
     "output_type": "stream",
     "text": [
      "C:\\Users\\ADMINI~1\\AppData\\Local\\Temp\\2/ipykernel_2640/1436340622.py:6: SettingWithCopyWarning: \n",
      "A value is trying to be set on a copy of a slice from a DataFrame.\n",
      "Try using .loc[row_indexer,col_indexer] = value instead\n",
      "\n",
      "See the caveats in the documentation: https://pandas.pydata.org/pandas-docs/stable/user_guide/indexing.html#returning-a-view-versus-a-copy\n",
      "  covid_mood_2wk_df['2WkPriorMoodStateIndex']=covid_mood_2wk_df[priorworry2_cols].apply(getMoodStateIndex, axis=1)\n"
     ]
    },
    {
     "data": {
      "text/html": [
       "<div>\n",
       "<style scoped>\n",
       "    .dataframe tbody tr th:only-of-type {\n",
       "        vertical-align: middle;\n",
       "    }\n",
       "\n",
       "    .dataframe tbody tr th {\n",
       "        vertical-align: top;\n",
       "    }\n",
       "\n",
       "    .dataframe thead th {\n",
       "        text-align: right;\n",
       "    }\n",
       "</style>\n",
       "<table border=\"1\" class=\"dataframe\">\n",
       "  <thead>\n",
       "    <tr style=\"text-align: right;\">\n",
       "      <th></th>\n",
       "      <th>CovidWorryIndex</th>\n",
       "      <th>2WkPriorMoodStateIndex</th>\n",
       "    </tr>\n",
       "  </thead>\n",
       "  <tbody>\n",
       "    <tr>\n",
       "      <th>0</th>\n",
       "      <td>35.0</td>\n",
       "      <td>40.0</td>\n",
       "    </tr>\n",
       "    <tr>\n",
       "      <th>1</th>\n",
       "      <td>50.0</td>\n",
       "      <td>64.0</td>\n",
       "    </tr>\n",
       "    <tr>\n",
       "      <th>2</th>\n",
       "      <td>25.0</td>\n",
       "      <td>44.0</td>\n",
       "    </tr>\n",
       "    <tr>\n",
       "      <th>3</th>\n",
       "      <td>75.0</td>\n",
       "      <td>52.0</td>\n",
       "    </tr>\n",
       "    <tr>\n",
       "      <th>4</th>\n",
       "      <td>20.0</td>\n",
       "      <td>50.0</td>\n",
       "    </tr>\n",
       "  </tbody>\n",
       "</table>\n",
       "</div>"
      ],
      "text/plain": [
       "   CovidWorryIndex  2WkPriorMoodStateIndex\n",
       "0             35.0                    40.0\n",
       "1             50.0                    64.0\n",
       "2             25.0                    44.0\n",
       "3             75.0                    52.0\n",
       "4             20.0                    50.0"
      ]
     },
     "execution_count": 128,
     "metadata": {},
     "output_type": "execute_result"
    }
   ],
   "source": [
    "## 2 Weeks Prior\n",
    "priorworry2_cols=['worry','happyvssad','enjoyactivities','relaxedvsanxious',\n",
    "         'fidget', 'fatigue', 'concentratefocus', 'irritable','lonely', \n",
    "         'negthoughts']\n",
    "covid_mood_2wk_df=adult_adj_2021_df[priorworry2_cols]\n",
    "covid_mood_2wk_df['2WkPriorMoodStateIndex']=covid_mood_2wk_df[priorworry2_cols].apply(getMoodStateIndex, axis=1)\n",
    "adult_df7=pd.concat([covid_worry_df['CovidWorryIndex'],covid_mood_2wk_df['2WkPriorMoodStateIndex']],axis=1)\n",
    "print(covid_worry_df.shape,adult_df7.shape)\n",
    "adult_df7.head()"
   ]
  },
  {
   "cell_type": "code",
   "execution_count": 153,
   "metadata": {},
   "outputs": [],
   "source": [
    "#for col in adult_adj_2021_df.columns:\n",
    "#    print(col)"
   ]
  },
  {
   "cell_type": "code",
   "execution_count": 131,
   "metadata": {},
   "outputs": [
    {
     "name": "stdout",
     "output_type": "stream",
     "text": [
      "(2113, 3) (2113, 2)\n"
     ]
    },
    {
     "name": "stderr",
     "output_type": "stream",
     "text": [
      "C:\\Users\\ADMINI~1\\AppData\\Local\\Temp\\2/ipykernel_2640/95051310.py:4: SettingWithCopyWarning: \n",
      "A value is trying to be set on a copy of a slice from a DataFrame.\n",
      "Try using .loc[row_indexer,col_indexer] = value instead\n",
      "\n",
      "See the caveats in the documentation: https://pandas.pydata.org/pandas-docs/stable/user_guide/indexing.html#returning-a-view-versus-a-copy\n",
      "  covid_media_2wk_df['2WkPriorMediaUseIndex']=covid_media_2wk_df[priormedia2_cols].apply(getMediaUseIndex, axis=1)\n"
     ]
    }
   ],
   "source": [
    "## 2 weeks Prior Media use\n",
    "priormedia2_cols=['tvmedia','socialmedia','videogames']\n",
    "covid_media_2wk_df=adult_adj_2021_df[priormedia2_cols]\n",
    "covid_media_2wk_df['2WkPriorMediaUseIndex']=covid_media_2wk_df[priormedia2_cols].apply(getMediaUseIndex, axis=1)  \n",
    "adult_df9=pd.concat([adult_df7,covid_media_2wk_df['2WkPriorMediaUseIndex']],axis=1)\n",
    "print(adult_df9.shape,adult_df7.shape)\n",
    "#adult_df7.head()"
   ]
  },
  {
   "cell_type": "code",
   "execution_count": 132,
   "metadata": {},
   "outputs": [
    {
     "name": "stdout",
     "output_type": "stream",
     "text": [
      "(2113, 3) (2113, 4)\n"
     ]
    },
    {
     "name": "stderr",
     "output_type": "stream",
     "text": [
      "C:\\Users\\ADMINI~1\\AppData\\Local\\Temp\\2/ipykernel_2640/2198058217.py:2: SettingWithCopyWarning: \n",
      "A value is trying to be set on a copy of a slice from a DataFrame.\n",
      "Try using .loc[row_indexer,col_indexer] = value instead\n",
      "\n",
      "See the caveats in the documentation: https://pandas.pydata.org/pandas-docs/stable/user_guide/indexing.html#returning-a-view-versus-a-copy\n",
      "  lifechange_stress_df['LifechnageStressIndex']=lifechange_stress_df[lifechanges_stress_cols].apply(getLifechnageStressIndex, axis=1)\n"
     ]
    },
    {
     "data": {
      "text/html": [
       "<div>\n",
       "<style scoped>\n",
       "    .dataframe tbody tr th:only-of-type {\n",
       "        vertical-align: middle;\n",
       "    }\n",
       "\n",
       "    .dataframe tbody tr th {\n",
       "        vertical-align: top;\n",
       "    }\n",
       "\n",
       "    .dataframe thead th {\n",
       "        text-align: right;\n",
       "    }\n",
       "</style>\n",
       "<table border=\"1\" class=\"dataframe\">\n",
       "  <thead>\n",
       "    <tr style=\"text-align: right;\">\n",
       "      <th></th>\n",
       "      <th>CovidWorryIndex</th>\n",
       "      <th>2WkPriorMoodStateIndex</th>\n",
       "      <th>2WkPriorMediaUseIndex</th>\n",
       "      <th>LifechnageStressIndex</th>\n",
       "    </tr>\n",
       "  </thead>\n",
       "  <tbody>\n",
       "    <tr>\n",
       "      <th>0</th>\n",
       "      <td>35.0</td>\n",
       "      <td>40.0</td>\n",
       "      <td>60.00</td>\n",
       "      <td>46.0</td>\n",
       "    </tr>\n",
       "    <tr>\n",
       "      <th>1</th>\n",
       "      <td>50.0</td>\n",
       "      <td>64.0</td>\n",
       "      <td>73.33</td>\n",
       "      <td>38.0</td>\n",
       "    </tr>\n",
       "    <tr>\n",
       "      <th>2</th>\n",
       "      <td>25.0</td>\n",
       "      <td>44.0</td>\n",
       "      <td>46.67</td>\n",
       "      <td>32.0</td>\n",
       "    </tr>\n",
       "    <tr>\n",
       "      <th>3</th>\n",
       "      <td>75.0</td>\n",
       "      <td>52.0</td>\n",
       "      <td>60.00</td>\n",
       "      <td>58.0</td>\n",
       "    </tr>\n",
       "    <tr>\n",
       "      <th>4</th>\n",
       "      <td>20.0</td>\n",
       "      <td>50.0</td>\n",
       "      <td>40.00</td>\n",
       "      <td>32.0</td>\n",
       "    </tr>\n",
       "  </tbody>\n",
       "</table>\n",
       "</div>"
      ],
      "text/plain": [
       "   CovidWorryIndex  2WkPriorMoodStateIndex  2WkPriorMediaUseIndex  \\\n",
       "0             35.0                    40.0                  60.00   \n",
       "1             50.0                    64.0                  73.33   \n",
       "2             25.0                    44.0                  46.67   \n",
       "3             75.0                    52.0                  60.00   \n",
       "4             20.0                    50.0                  40.00   \n",
       "\n",
       "   LifechnageStressIndex  \n",
       "0                   46.0  \n",
       "1                   38.0  \n",
       "2                   32.0  \n",
       "3                   58.0  \n",
       "4                   32.0  "
      ]
     },
     "execution_count": 132,
     "metadata": {},
     "output_type": "execute_result"
    }
   ],
   "source": [
    "lifechange_stress_df=adult_adj_2021_df[lifechanges_stress_cols]\n",
    "lifechange_stress_df['LifechnageStressIndex']=lifechange_stress_df[lifechanges_stress_cols].apply(getLifechnageStressIndex, axis=1)\n",
    "adult_df14=pd.concat([adult_df9,lifechange_stress_df['LifechnageStressIndex']],axis=1)\n",
    "print(adult_df9.shape,adult_df14.shape)\n",
    "adult_df14.head()"
   ]
  },
  {
   "cell_type": "code",
   "execution_count": 133,
   "metadata": {},
   "outputs": [],
   "source": [
    "lifechanges_addtional_cols=['positivechange','inpersonconvo','timeoutside','foodsecurity']\n",
    "additional_cols=['vaccinelikely','vaccination','familyvaccination']\n",
    "iat_cols=['iat_01','iat_02','iat_03','iat_04','iat_05','iat_06','iat_07','iat_08','iat_09','iat_10','iat_11','iat_12','iat_13','iat_14','iat_15','iat_16','iat_17','iat_18','iat_19','iat_20']\n",
    "usecols=demographic_cols+exp_cols+symp_cols+Impact_cols+diagnosis_cols+lifechanges_addtional_cols+additional_cols+iat_cols"
   ]
  },
  {
   "cell_type": "code",
   "execution_count": 134,
   "metadata": {},
   "outputs": [
    {
     "name": "stdout",
     "output_type": "stream",
     "text": [
      "(2113, 102) (2113, 4) (2113, 259)\n"
     ]
    }
   ],
   "source": [
    "adult_2021_final_df=pd.concat([adult_adj_2021_df[usecols],adult_df14],axis=1)\n",
    "print(adult_2021_final_df.shape,adult_df14.shape,adult_adj_2021_df.shape)"
   ]
  },
  {
   "cell_type": "code",
   "execution_count": 135,
   "metadata": {},
   "outputs": [
    {
     "data": {
      "text/html": [
       "<div>\n",
       "<style scoped>\n",
       "    .dataframe tbody tr th:only-of-type {\n",
       "        vertical-align: middle;\n",
       "    }\n",
       "\n",
       "    .dataframe tbody tr th {\n",
       "        vertical-align: top;\n",
       "    }\n",
       "\n",
       "    .dataframe thead th {\n",
       "        text-align: right;\n",
       "    }\n",
       "</style>\n",
       "<table border=\"1\" class=\"dataframe\">\n",
       "  <thead>\n",
       "    <tr style=\"text-align: right;\">\n",
       "      <th></th>\n",
       "      <th>ID</th>\n",
       "      <th>YearMonth</th>\n",
       "      <th>country</th>\n",
       "      <th>age_bin_30_under</th>\n",
       "      <th>age_bin_30-49</th>\n",
       "      <th>age_bin_50_over</th>\n",
       "      <th>sex</th>\n",
       "      <th>working___1</th>\n",
       "      <th>working___2</th>\n",
       "      <th>working___3</th>\n",
       "      <th>...</th>\n",
       "      <th>iat_15</th>\n",
       "      <th>iat_16</th>\n",
       "      <th>iat_17</th>\n",
       "      <th>iat_18</th>\n",
       "      <th>iat_19</th>\n",
       "      <th>iat_20</th>\n",
       "      <th>CovidWorryIndex</th>\n",
       "      <th>2WkPriorMoodStateIndex</th>\n",
       "      <th>2WkPriorMediaUseIndex</th>\n",
       "      <th>LifechnageStressIndex</th>\n",
       "    </tr>\n",
       "  </thead>\n",
       "  <tbody>\n",
       "    <tr>\n",
       "      <th>0</th>\n",
       "      <td>9d02e964</td>\n",
       "      <td>2021-04</td>\n",
       "      <td>186</td>\n",
       "      <td>0</td>\n",
       "      <td>0</td>\n",
       "      <td>1</td>\n",
       "      <td>1.0</td>\n",
       "      <td>0</td>\n",
       "      <td>0</td>\n",
       "      <td>0</td>\n",
       "      <td>...</td>\n",
       "      <td>0.0</td>\n",
       "      <td>1.0</td>\n",
       "      <td>0.0</td>\n",
       "      <td>0.0</td>\n",
       "      <td>0.0</td>\n",
       "      <td>0.0</td>\n",
       "      <td>35.0</td>\n",
       "      <td>40.0</td>\n",
       "      <td>60.00</td>\n",
       "      <td>46.0</td>\n",
       "    </tr>\n",
       "    <tr>\n",
       "      <th>1</th>\n",
       "      <td>ca35346c</td>\n",
       "      <td>2021-04</td>\n",
       "      <td>186</td>\n",
       "      <td>0</td>\n",
       "      <td>1</td>\n",
       "      <td>0</td>\n",
       "      <td>2.0</td>\n",
       "      <td>1</td>\n",
       "      <td>0</td>\n",
       "      <td>0</td>\n",
       "      <td>...</td>\n",
       "      <td>0.0</td>\n",
       "      <td>0.0</td>\n",
       "      <td>0.0</td>\n",
       "      <td>0.0</td>\n",
       "      <td>0.0</td>\n",
       "      <td>2.0</td>\n",
       "      <td>50.0</td>\n",
       "      <td>64.0</td>\n",
       "      <td>73.33</td>\n",
       "      <td>38.0</td>\n",
       "    </tr>\n",
       "    <tr>\n",
       "      <th>2</th>\n",
       "      <td>78d8a910</td>\n",
       "      <td>2021-04</td>\n",
       "      <td>186</td>\n",
       "      <td>0</td>\n",
       "      <td>1</td>\n",
       "      <td>0</td>\n",
       "      <td>2.0</td>\n",
       "      <td>0</td>\n",
       "      <td>0</td>\n",
       "      <td>0</td>\n",
       "      <td>...</td>\n",
       "      <td>0.0</td>\n",
       "      <td>1.0</td>\n",
       "      <td>1.0</td>\n",
       "      <td>0.0</td>\n",
       "      <td>0.0</td>\n",
       "      <td>0.0</td>\n",
       "      <td>25.0</td>\n",
       "      <td>44.0</td>\n",
       "      <td>46.67</td>\n",
       "      <td>32.0</td>\n",
       "    </tr>\n",
       "    <tr>\n",
       "      <th>3</th>\n",
       "      <td>28e70f01</td>\n",
       "      <td>2021-04</td>\n",
       "      <td>187</td>\n",
       "      <td>0</td>\n",
       "      <td>0</td>\n",
       "      <td>1</td>\n",
       "      <td>2.0</td>\n",
       "      <td>0</td>\n",
       "      <td>0</td>\n",
       "      <td>0</td>\n",
       "      <td>...</td>\n",
       "      <td>0.0</td>\n",
       "      <td>0.0</td>\n",
       "      <td>0.0</td>\n",
       "      <td>0.0</td>\n",
       "      <td>0.0</td>\n",
       "      <td>0.0</td>\n",
       "      <td>75.0</td>\n",
       "      <td>52.0</td>\n",
       "      <td>60.00</td>\n",
       "      <td>58.0</td>\n",
       "    </tr>\n",
       "    <tr>\n",
       "      <th>4</th>\n",
       "      <td>0cd23e27</td>\n",
       "      <td>2021-04</td>\n",
       "      <td>186</td>\n",
       "      <td>0</td>\n",
       "      <td>1</td>\n",
       "      <td>0</td>\n",
       "      <td>2.0</td>\n",
       "      <td>0</td>\n",
       "      <td>0</td>\n",
       "      <td>0</td>\n",
       "      <td>...</td>\n",
       "      <td>0.0</td>\n",
       "      <td>1.0</td>\n",
       "      <td>2.0</td>\n",
       "      <td>0.0</td>\n",
       "      <td>1.0</td>\n",
       "      <td>1.0</td>\n",
       "      <td>20.0</td>\n",
       "      <td>50.0</td>\n",
       "      <td>40.00</td>\n",
       "      <td>32.0</td>\n",
       "    </tr>\n",
       "  </tbody>\n",
       "</table>\n",
       "<p>5 rows × 102 columns</p>\n",
       "</div>"
      ],
      "text/plain": [
       "         ID YearMonth  country  age_bin_30_under  age_bin_30-49  \\\n",
       "0  9d02e964   2021-04      186                 0              0   \n",
       "1  ca35346c   2021-04      186                 0              1   \n",
       "2  78d8a910   2021-04      186                 0              1   \n",
       "3  28e70f01   2021-04      187                 0              0   \n",
       "4  0cd23e27   2021-04      186                 0              1   \n",
       "\n",
       "   age_bin_50_over  sex  working___1  working___2  working___3  ...  iat_15  \\\n",
       "0                1  1.0            0            0            0  ...     0.0   \n",
       "1                0  2.0            1            0            0  ...     0.0   \n",
       "2                0  2.0            0            0            0  ...     0.0   \n",
       "3                1  2.0            0            0            0  ...     0.0   \n",
       "4                0  2.0            0            0            0  ...     0.0   \n",
       "\n",
       "   iat_16  iat_17  iat_18  iat_19  iat_20  CovidWorryIndex  \\\n",
       "0     1.0     0.0     0.0     0.0     0.0             35.0   \n",
       "1     0.0     0.0     0.0     0.0     2.0             50.0   \n",
       "2     1.0     1.0     0.0     0.0     0.0             25.0   \n",
       "3     0.0     0.0     0.0     0.0     0.0             75.0   \n",
       "4     1.0     2.0     0.0     1.0     1.0             20.0   \n",
       "\n",
       "   2WkPriorMoodStateIndex  2WkPriorMediaUseIndex  LifechnageStressIndex  \n",
       "0                    40.0                  60.00                   46.0  \n",
       "1                    64.0                  73.33                   38.0  \n",
       "2                    44.0                  46.67                   32.0  \n",
       "3                    52.0                  60.00                   58.0  \n",
       "4                    50.0                  40.00                   32.0  \n",
       "\n",
       "[5 rows x 102 columns]"
      ]
     },
     "execution_count": 135,
     "metadata": {},
     "output_type": "execute_result"
    }
   ],
   "source": [
    "adult_2021_final_df.head()"
   ]
  },
  {
   "cell_type": "code",
   "execution_count": 136,
   "metadata": {},
   "outputs": [
    {
     "data": {
      "text/plain": [
       "Moderately Stressed    0.500710\n",
       "Normal                 0.451018\n",
       "Extremely Stressed     0.048273\n",
       "Name: 2WkPriorMoodStateClass, dtype: float64"
      ]
     },
     "execution_count": 136,
     "metadata": {},
     "output_type": "execute_result"
    }
   ],
   "source": [
    "##Convert into classes\n",
    "adult_2021_final_df['2WkPriorMoodStateClass']=adult_2021_final_df['2WkPriorMoodStateIndex'].apply(get2WkPriorMoodStateClass)\n",
    "adult_2021_final_df['2WkPriorMoodStateClass'].value_counts(normalize=True,dropna=False)"
   ]
  },
  {
   "cell_type": "markdown",
   "metadata": {},
   "source": [
    "- Mood States Predictors"
   ]
  },
  {
   "cell_type": "code",
   "execution_count": 137,
   "metadata": {},
   "outputs": [
    {
     "name": "stdout",
     "output_type": "stream",
     "text": [
      "0.7051\n",
      "                 precision    recall  f1-score   support\n",
      "\n",
      " Extreme Stress       0.00      0.00      0.00        15\n",
      "Moderate Stress       0.68      0.79      0.73       263\n",
      "         Normal       0.75      0.66      0.70       251\n",
      "\n",
      "       accuracy                           0.71       529\n",
      "      macro avg       0.47      0.48      0.48       529\n",
      "   weighted avg       0.69      0.71      0.69       529\n",
      "\n",
      "Variable: LifechnageStressIndex Importance: 0.12\n",
      "Variable: CovidWorryIndex      Importance: 0.07\n",
      "Variable: tall                 Importance: 0.04\n",
      "Variable: roomsinhouse         Importance: 0.03\n",
      "Variable: iat_01               Importance: 0.03\n",
      "Variable: 2WkPriorMediaUseIndex Importance: 0.03\n",
      "Variable: location             Importance: 0.02\n",
      "Variable: householdnumber      Importance: 0.02\n",
      "Variable: healthconditions___13 Importance: 0.02\n",
      "Variable: positivechange       Importance: 0.02\n",
      "Variable: inpersonconvo        Importance: 0.02\n",
      "Variable: timeoutside          Importance: 0.02\n",
      "Variable: iat_02               Importance: 0.02\n",
      "Variable: iat_03               Importance: 0.02\n",
      "Variable: iat_07               Importance: 0.02\n",
      "Variable: iat_10               Importance: 0.02\n",
      "Variable: iat_12               Importance: 0.02\n",
      "Variable: iat_14               Importance: 0.02\n",
      "Variable: iat_16               Importance: 0.02\n",
      "Variable: iat_20               Importance: 0.02\n",
      "Variable: country              Importance: 0.01\n",
      "Variable: age_bin_30_under     Importance: 0.01\n",
      "Variable: age_bin_30-49        Importance: 0.01\n",
      "Variable: age_bin_50_over      Importance: 0.01\n",
      "Variable: sex                  Importance: 0.01\n",
      "Variable: working___1          Importance: 0.01\n",
      "Variable: working___2          Importance: 0.01\n",
      "Variable: essentialworkers     Importance: 0.01\n",
      "Variable: householdcomp___1    Importance: 0.01\n",
      "Variable: householdcomp___5    Importance: 0.01\n",
      "Variable: insurance            Importance: 0.01\n",
      "Variable: healthconditions___1 Importance: 0.01\n",
      "Variable: measurementheight    Importance: 0.01\n",
      "Variable: measurementweight    Importance: 0.01\n",
      "Variable: isparent             Importance: 0.01\n",
      "Variable: exposed___4          Importance: 0.01\n",
      "Variable: infected             Importance: 0.01\n",
      "Variable: symptoms___2         Importance: 0.01\n",
      "Variable: symptoms___4         Importance: 0.01\n",
      "Variable: symptoms___6         Importance: 0.01\n",
      "Variable: symptoms___7         Importance: 0.01\n",
      "Variable: symptoms___8         Importance: 0.01\n",
      "Variable: impact___6           Importance: 0.01\n",
      "Variable: impact___8           Importance: 0.01\n",
      "Variable: foodsecurity         Importance: 0.01\n",
      "Variable: vaccinelikely        Importance: 0.01\n",
      "Variable: vaccination          Importance: 0.01\n",
      "Variable: familyvaccination    Importance: 0.01\n",
      "Variable: iat_04               Importance: 0.01\n",
      "Variable: iat_05               Importance: 0.01\n",
      "Variable: iat_06               Importance: 0.01\n",
      "Variable: iat_08               Importance: 0.01\n",
      "Variable: iat_09               Importance: 0.01\n",
      "Variable: iat_11               Importance: 0.01\n",
      "Variable: iat_13               Importance: 0.01\n",
      "Variable: iat_15               Importance: 0.01\n",
      "Variable: iat_17               Importance: 0.01\n",
      "Variable: iat_18               Importance: 0.01\n",
      "Variable: iat_19               Importance: 0.01\n",
      "Variable: working___3          Importance: 0.0\n",
      "Variable: working___4          Importance: 0.0\n",
      "Variable: working___5          Importance: 0.0\n",
      "Variable: working___6          Importance: 0.0\n",
      "Variable: working___7          Importance: 0.0\n",
      "Variable: working___8          Importance: 0.0\n",
      "Variable: householdcomp___2    Importance: 0.0\n",
      "Variable: householdcomp___3    Importance: 0.0\n",
      "Variable: householdcomp___4    Importance: 0.0\n",
      "Variable: householdcomp___6    Importance: 0.0\n",
      "Variable: householdcomp___7    Importance: 0.0\n",
      "Variable: healthconditions___2 Importance: 0.0\n",
      "Variable: healthconditions___3 Importance: 0.0\n",
      "Variable: healthconditions___4 Importance: 0.0\n",
      "Variable: healthconditions___5 Importance: 0.0\n",
      "Variable: healthconditions___6 Importance: 0.0\n",
      "Variable: healthconditions___7 Importance: 0.0\n",
      "Variable: healthconditions___8 Importance: 0.0\n",
      "Variable: healthconditions___9 Importance: 0.0\n",
      "Variable: healthconditions___10 Importance: 0.0\n",
      "Variable: healthconditions___11 Importance: 0.0\n",
      "Variable: healthconditions___12 Importance: 0.0\n",
      "Variable: healthconditions___14 Importance: 0.0\n",
      "Variable: healthconditions___15 Importance: 0.0\n",
      "Variable: healthconditions___16 Importance: 0.0\n",
      "Variable: healthconditions___17 Importance: 0.0\n",
      "Variable: exposed___1          Importance: 0.0\n",
      "Variable: exposed___2          Importance: 0.0\n",
      "Variable: exposed___3          Importance: 0.0\n",
      "Variable: symptoms___1         Importance: 0.0\n",
      "Variable: symptoms___3         Importance: 0.0\n",
      "Variable: symptoms___5         Importance: 0.0\n",
      "Variable: impact___1           Importance: 0.0\n",
      "Variable: impact___2           Importance: 0.0\n",
      "Variable: impact___3           Importance: 0.0\n",
      "Variable: impact___4           Importance: 0.0\n",
      "Variable: impact___5           Importance: 0.0\n",
      "Variable: impact___7           Importance: 0.0\n",
      "Variable: diagnosedfamily___1  Importance: 0.0\n",
      "Variable: diagnosedfamily___2  Importance: 0.0\n"
     ]
    },
    {
     "name": "stderr",
     "output_type": "stream",
     "text": [
      "C:\\Users\\Administrator\\anaconda3\\lib\\site-packages\\sklearn\\metrics\\_classification.py:1221: UndefinedMetricWarning: Precision and F-score are ill-defined and being set to 0.0 in labels with no predicted samples. Use `zero_division` parameter to control this behavior.\n",
      "  _warn_prf(average, modifier, msg_start, len(result))\n"
     ]
    }
   ],
   "source": [
    "# Use numpy to convert to arrays\n",
    "import numpy as np\n",
    "labels = np.array(adult_2021_final_df['2WkPriorMoodStateClass'])\n",
    "features= adult_2021_final_df.drop(['2WkPriorMoodStateClass','2WkPriorMoodStateIndex','ID','YearMonth'], axis = 1)\n",
    "feature_list = list(features.columns)\n",
    "features = np.array(features)\n",
    "\n",
    "# Using Skicit-learn to split data into training and testing sets\n",
    "from sklearn.model_selection import train_test_split\n",
    "train_features, test_features, train_labels, test_labels = train_test_split(features, labels, test_size = 0.25, random_state = 42)\n",
    "\n",
    "# Import the model we are using\n",
    "from sklearn.ensemble import RandomForestClassifier\n",
    "# Instantiate model with 1000 decision trees\n",
    "rf = RandomForestClassifier(n_estimators= 800,\n",
    " min_samples_split= 2,\n",
    " min_samples_leaf= 2,\n",
    " max_features='sqrt',\n",
    " max_depth= 50,\n",
    " bootstrap=False)\n",
    "# Train the model on training data\n",
    "rf.fit(train_features, train_labels);\n",
    "\n",
    "from sklearn.metrics import classification_report\n",
    "# Use the forest's predict method on the test data\n",
    "predictions = rf.predict(test_features)\n",
    "\n",
    "print(round(rf.score(test_features,test_labels), 4))\n",
    "\n",
    "from sklearn.metrics import classification_report\n",
    "target_names = ['Extreme Stress', 'Moderate Stress', 'Normal']\n",
    "print(classification_report(test_labels, predictions, target_names=target_names))\n",
    "\n",
    "# Get numerical feature importances\n",
    "importances = list(rf.feature_importances_)\n",
    "# List of tuples with variable and importance\n",
    "feature_importances = [(feature, round(importance, 2)) for feature, importance in zip(feature_list, importances)]\n",
    "# Sort the feature importances by most important first\n",
    "feature_importances = sorted(feature_importances, key = lambda x: x[1], reverse = True)\n",
    "# Print out the feature and importances \n",
    "[print('Variable: {:20} Importance: {}'.format(*pair)) for pair in feature_importances];"
   ]
  },
  {
   "cell_type": "code",
   "execution_count": 138,
   "metadata": {},
   "outputs": [
    {
     "data": {
      "text/plain": [
       "0.04322465720732373"
      ]
     },
     "execution_count": 138,
     "metadata": {},
     "output_type": "execute_result"
    }
   ],
   "source": [
    "adult_2021_final_df['2WkPriorMoodStateIndex'].corr(adult_2021_final_df['vaccination'])"
   ]
  },
  {
   "cell_type": "code",
   "execution_count": 139,
   "metadata": {},
   "outputs": [
    {
     "data": {
      "text/plain": [
       "0.01745725056098649"
      ]
     },
     "execution_count": 139,
     "metadata": {},
     "output_type": "execute_result"
    }
   ],
   "source": [
    "adult_2021_final_df['CovidWorryIndex'].corr(adult_2021_final_df['vaccination'])"
   ]
  },
  {
   "cell_type": "markdown",
   "metadata": {},
   "source": [
    "### Trends"
   ]
  },
  {
   "cell_type": "code",
   "execution_count": 140,
   "metadata": {},
   "outputs": [],
   "source": [
    "#id1=adult_final_2020_df.query(\"ID=='78d8a910' or ID=='28e70f01'\")[['ID','YearMonth','country','sex','age_bin_30-49','2WkPriorMoodStateIndex']]\n",
    "#id1"
   ]
  },
  {
   "cell_type": "code",
   "execution_count": 141,
   "metadata": {},
   "outputs": [],
   "source": [
    "#id2=adult_2021_final_df.query(\"ID=='78d8a910' or ID=='28e70f01'\")[['ID','YearMonth','country','sex','age_bin_30-49','2WkPriorMoodStateIndex']]\n",
    "#id2"
   ]
  },
  {
   "cell_type": "code",
   "execution_count": 167,
   "metadata": {},
   "outputs": [],
   "source": [
    "combined_df = pd.concat([adult_final_2020_df[['ID','YearMonth','country','CovidWorryIndex','2WkPriorMoodStateIndex','2WkPriorMoodStateClass','isparent']],adult_adj_May_final_df[['ID','YearMonth','country','CovidWorryIndex','2WkPriorMoodStateIndex','2WkPriorMoodStateClass','isparent']], adult_nov_final_df[['ID','YearMonth','country','CovidWorryIndex','2WkPriorMoodStateIndex','2WkPriorMoodStateClass','isparent']],adult_2021_final_df[['ID','YearMonth','country','CovidWorryIndex','2WkPriorMoodStateIndex','2WkPriorMoodStateClass','isparent']]],axis=0)"
   ]
  },
  {
   "cell_type": "code",
   "execution_count": 168,
   "metadata": {},
   "outputs": [
    {
     "data": {
      "text/html": [
       "<div>\n",
       "<style scoped>\n",
       "    .dataframe tbody tr th:only-of-type {\n",
       "        vertical-align: middle;\n",
       "    }\n",
       "\n",
       "    .dataframe tbody tr th {\n",
       "        vertical-align: top;\n",
       "    }\n",
       "\n",
       "    .dataframe thead th {\n",
       "        text-align: right;\n",
       "    }\n",
       "</style>\n",
       "<table border=\"1\" class=\"dataframe\">\n",
       "  <thead>\n",
       "    <tr style=\"text-align: right;\">\n",
       "      <th></th>\n",
       "      <th>ID</th>\n",
       "      <th>YearMonth</th>\n",
       "      <th>country</th>\n",
       "      <th>CovidWorryIndex</th>\n",
       "      <th>2WkPriorMoodStateIndex</th>\n",
       "      <th>2WkPriorMoodStateClass</th>\n",
       "      <th>isparent</th>\n",
       "    </tr>\n",
       "  </thead>\n",
       "  <tbody>\n",
       "    <tr>\n",
       "      <th>0</th>\n",
       "      <td>00136f50</td>\n",
       "      <td>2020-04</td>\n",
       "      <td>187.0</td>\n",
       "      <td>40.0</td>\n",
       "      <td>44.0</td>\n",
       "      <td>Normal</td>\n",
       "      <td>0</td>\n",
       "    </tr>\n",
       "    <tr>\n",
       "      <th>1</th>\n",
       "      <td>003db2d0</td>\n",
       "      <td>2020-04</td>\n",
       "      <td>187.0</td>\n",
       "      <td>30.0</td>\n",
       "      <td>46.0</td>\n",
       "      <td>Normal</td>\n",
       "      <td>0</td>\n",
       "    </tr>\n",
       "    <tr>\n",
       "      <th>2</th>\n",
       "      <td>005a1e3e</td>\n",
       "      <td>2020-04</td>\n",
       "      <td>187.0</td>\n",
       "      <td>60.0</td>\n",
       "      <td>54.0</td>\n",
       "      <td>Moderately Stressed</td>\n",
       "      <td>0</td>\n",
       "    </tr>\n",
       "    <tr>\n",
       "      <th>3</th>\n",
       "      <td>005ef0c4</td>\n",
       "      <td>2020-04</td>\n",
       "      <td>187.0</td>\n",
       "      <td>65.0</td>\n",
       "      <td>30.0</td>\n",
       "      <td>Normal</td>\n",
       "      <td>0</td>\n",
       "    </tr>\n",
       "    <tr>\n",
       "      <th>4</th>\n",
       "      <td>00601150</td>\n",
       "      <td>2020-04</td>\n",
       "      <td>187.0</td>\n",
       "      <td>95.0</td>\n",
       "      <td>74.0</td>\n",
       "      <td>Extremely Stressed</td>\n",
       "      <td>0</td>\n",
       "    </tr>\n",
       "  </tbody>\n",
       "</table>\n",
       "</div>"
      ],
      "text/plain": [
       "         ID YearMonth  country  CovidWorryIndex  2WkPriorMoodStateIndex  \\\n",
       "0  00136f50   2020-04    187.0             40.0                    44.0   \n",
       "1  003db2d0   2020-04    187.0             30.0                    46.0   \n",
       "2  005a1e3e   2020-04    187.0             60.0                    54.0   \n",
       "3  005ef0c4   2020-04    187.0             65.0                    30.0   \n",
       "4  00601150   2020-04    187.0             95.0                    74.0   \n",
       "\n",
       "  2WkPriorMoodStateClass  isparent  \n",
       "0                 Normal         0  \n",
       "1                 Normal         0  \n",
       "2    Moderately Stressed         0  \n",
       "3                 Normal         0  \n",
       "4     Extremely Stressed         0  "
      ]
     },
     "execution_count": 168,
     "metadata": {},
     "output_type": "execute_result"
    }
   ],
   "source": [
    "combined_df.head()"
   ]
  },
  {
   "cell_type": "markdown",
   "metadata": {},
   "source": [
    "- Mood States"
   ]
  },
  {
   "cell_type": "code",
   "execution_count": 144,
   "metadata": {},
   "outputs": [
    {
     "data": {
      "text/plain": [
       "186.0    5866\n",
       "187.0    4486\n",
       "Name: country, dtype: int64"
      ]
     },
     "execution_count": 144,
     "metadata": {},
     "output_type": "execute_result"
    }
   ],
   "source": [
    "combined_df.country.value_counts(dropna=False)"
   ]
  },
  {
   "cell_type": "code",
   "execution_count": 145,
   "metadata": {},
   "outputs": [
    {
     "data": {
      "text/plain": [
       "2020-05    3148\n",
       "2020-04    2868\n",
       "2020-11    2223\n",
       "2021-04    2113\n",
       "Name: YearMonth, dtype: int64"
      ]
     },
     "execution_count": 145,
     "metadata": {},
     "output_type": "execute_result"
    }
   ],
   "source": [
    "combined_df.YearMonth.value_counts(dropna=False)"
   ]
  },
  {
   "cell_type": "code",
   "execution_count": 146,
   "metadata": {},
   "outputs": [
    {
     "data": {
      "image/png": "[encoded data removed]",
      "text/plain": [
       "<Figure size 504x360 with 2 Axes>"
      ]
     },
     "metadata": {
      "needs_background": "light"
     },
     "output_type": "display_data"
    }
   ],
   "source": [
    "fig, ax1 = plt.subplots(figsize=(7,5))\n",
    "ax2=ax1.twinx()\n",
    "#sns.barplot(x='YearMonth', y='Value1', data=dataset, hue='Group',ax=ax1)\n",
    "sns.lineplot(x='YearMonth',y='2WkPriorMoodStateIndex', data=combined_df, hue='country' )#marker='d',ax=ax2\n",
    "plt.show()"
   ]
  },
  {
   "cell_type": "code",
   "execution_count": 147,
   "metadata": {},
   "outputs": [
    {
     "data": {
      "text/html": [
       "<div>\n",
       "<style scoped>\n",
       "    .dataframe tbody tr th:only-of-type {\n",
       "        vertical-align: middle;\n",
       "    }\n",
       "\n",
       "    .dataframe tbody tr th {\n",
       "        vertical-align: top;\n",
       "    }\n",
       "\n",
       "    .dataframe thead th {\n",
       "        text-align: right;\n",
       "    }\n",
       "</style>\n",
       "<table border=\"1\" class=\"dataframe\">\n",
       "  <thead>\n",
       "    <tr style=\"text-align: right;\">\n",
       "      <th></th>\n",
       "      <th>YearMonth</th>\n",
       "      <th>country</th>\n",
       "      <th>2WkPriorMoodStateClass</th>\n",
       "      <th>ID</th>\n",
       "    </tr>\n",
       "  </thead>\n",
       "  <tbody>\n",
       "    <tr>\n",
       "      <th>0</th>\n",
       "      <td>2020-04</td>\n",
       "      <td>186.0</td>\n",
       "      <td>Extremely Stressed</td>\n",
       "      <td>272</td>\n",
       "    </tr>\n",
       "    <tr>\n",
       "      <th>1</th>\n",
       "      <td>2020-04</td>\n",
       "      <td>186.0</td>\n",
       "      <td>Moderately Stressed</td>\n",
       "      <td>689</td>\n",
       "    </tr>\n",
       "    <tr>\n",
       "      <th>2</th>\n",
       "      <td>2020-04</td>\n",
       "      <td>186.0</td>\n",
       "      <td>Normal</td>\n",
       "      <td>477</td>\n",
       "    </tr>\n",
       "    <tr>\n",
       "      <th>3</th>\n",
       "      <td>2020-04</td>\n",
       "      <td>187.0</td>\n",
       "      <td>Extremely Stressed</td>\n",
       "      <td>320</td>\n",
       "    </tr>\n",
       "    <tr>\n",
       "      <th>4</th>\n",
       "      <td>2020-04</td>\n",
       "      <td>187.0</td>\n",
       "      <td>Moderately Stressed</td>\n",
       "      <td>687</td>\n",
       "    </tr>\n",
       "  </tbody>\n",
       "</table>\n",
       "</div>"
      ],
      "text/plain": [
       "  YearMonth  country 2WkPriorMoodStateClass   ID\n",
       "0   2020-04    186.0     Extremely Stressed  272\n",
       "1   2020-04    186.0    Moderately Stressed  689\n",
       "2   2020-04    186.0                 Normal  477\n",
       "3   2020-04    187.0     Extremely Stressed  320\n",
       "4   2020-04    187.0    Moderately Stressed  687"
      ]
     },
     "execution_count": 147,
     "metadata": {},
     "output_type": "execute_result"
    }
   ],
   "source": [
    "df = combined_df[['2WkPriorMoodStateClass','YearMonth']]\n",
    "# use groupby on df\n",
    "dfg = combined_df.groupby(['YearMonth', 'country','2WkPriorMoodStateClass'])['ID'].count().reset_index()\n",
    "dfg.head()"
   ]
  },
  {
   "cell_type": "code",
   "execution_count": 148,
   "metadata": {},
   "outputs": [
    {
     "data": {
      "text/plain": [
       "<AxesSubplot:xlabel='YearMonth', ylabel='ID'>"
      ]
     },
     "execution_count": 148,
     "metadata": {},
     "output_type": "execute_result"
    },
    {
     "data": {
      "image/png": "[encoded data removed]",
      "text/plain": [
       "<Figure size 432x288 with 1 Axes>"
      ]
     },
     "metadata": {
      "needs_background": "light"
     },
     "output_type": "display_data"
    }
   ],
   "source": [
    "sns.boxplot(x=\"YearMonth\", y=\"ID\", hue=\"2WkPriorMoodStateClass\", data=dfg, palette=\"husl\")"
   ]
  },
  {
   "cell_type": "markdown",
   "metadata": {},
   "source": [
    "- Covid Worry"
   ]
  },
  {
   "cell_type": "code",
   "execution_count": 149,
   "metadata": {},
   "outputs": [
    {
     "data": {
      "image/png": "[encoded data removed]",
      "text/plain": [
       "<Figure size 504x360 with 2 Axes>"
      ]
     },
     "metadata": {
      "needs_background": "light"
     },
     "output_type": "display_data"
    }
   ],
   "source": [
    "fig, ax1 = plt.subplots(figsize=(7,5))\n",
    "ax2=ax1.twinx()\n",
    "#sns.barplot(x='YearMonth', y='Value1', data=dataset, hue='Group',ax=ax1)\n",
    "sns.lineplot(x='YearMonth',y='CovidWorryIndex', data=combined_df, hue='country' )#marker='d',ax=ax2\n",
    "plt.show()"
   ]
  },
  {
   "cell_type": "code",
   "execution_count": 150,
   "metadata": {},
   "outputs": [
    {
     "data": {
      "text/plain": [
       "0.5094262474757559"
      ]
     },
     "execution_count": 150,
     "metadata": {},
     "output_type": "execute_result"
    }
   ],
   "source": [
    "combined_df['CovidWorryIndex'].corr(combined_df['2WkPriorMoodStateIndex'])"
   ]
  },
  {
   "cell_type": "code",
   "execution_count": null,
   "metadata": {},
   "outputs": [],
   "source": [
    "df.groupby('Person').apply(\n",
    "    lambda x: show_wordcloud(x.Response.tolist(), title=f\"Person {x.name}\")\n",
    ")"
   ]
  },
  {
   "cell_type": "code",
   "execution_count": 172,
   "metadata": {},
   "outputs": [],
   "source": [
    "### Is there any Significant difference between Adult parents and Adults (who are not parents)?"
   ]
  },
  {
   "cell_type": "code",
   "execution_count": 171,
   "metadata": {},
   "outputs": [
    {
     "name": "stdout",
     "output_type": "stream",
     "text": [
      "KruskalResult(statistic=0.07564072164784873, pvalue=0.7832942784556752)\n",
      "KruskalResult(statistic=0.7514062011970943, pvalue=0.38603138404618)\n",
      "KruskalResult(statistic=2.538433070539107, pvalue=0.11110499762934671)\n",
      "KruskalResult(statistic=15.383058820874671, pvalue=8.777169855107179e-05)\n"
     ]
    }
   ],
   "source": [
    "import scipy\n",
    "import scipy.stats\n",
    "from scipy.stats import kruskal\n",
    "\n",
    "group1=combined_df.query('YearMonth==\"2020-04\" and isparent==1')['2WkPriorMoodStateIndex']\n",
    "group2=combined_df.query('YearMonth==\"2020-04\" and isparent==0')['2WkPriorMoodStateIndex']\n",
    "print(kruskal(group1, group2))\n",
    "\n",
    "group3=combined_df.query('YearMonth==\"2020-05\" and isparent==0')['2WkPriorMoodStateIndex']\n",
    "group4=combined_df.query('YearMonth==\"2020-05\" and isparent==1')['2WkPriorMoodStateIndex']\n",
    "print(kruskal(group3, group4))\n",
    "\n",
    "group5=combined_df.query('YearMonth==\"2020-11\" and isparent==0')['2WkPriorMoodStateIndex']\n",
    "group6=combined_df.query('YearMonth==\"2020-11\" and isparent==1')['2WkPriorMoodStateIndex']\n",
    "print(kruskal(group5, group6))\n",
    "\n",
    "group7=combined_df.query('YearMonth==\"2021-04\" and isparent==0')['2WkPriorMoodStateIndex']\n",
    "group8=combined_df.query('YearMonth==\"2021-04\" and isparent==1')['2WkPriorMoodStateIndex']\n",
    "print(kruskal(group7, group8))\n",
    "#It is significant only in April 2021"
   ]
  },
  {
   "cell_type": "code",
   "execution_count": 173,
   "metadata": {},
   "outputs": [
    {
     "data": {
      "text/plain": [
       "<AxesSubplot:xlabel='isparent', ylabel='2WkPriorMoodStateIndex'>"
      ]
     },
     "execution_count": 173,
     "metadata": {},
     "output_type": "execute_result"
    },
    {
     "data": {
      "image/png": "[encoded data removed]",
      "text/plain": [
       "<Figure size 432x288 with 1 Axes>"
      ]
     },
     "metadata": {
      "needs_background": "light"
     },
     "output_type": "display_data"
    }
   ],
   "source": [
    "df=combined_df.query('YearMonth==\"2021-04\" and (isparent==0 or isparent==1)')\n",
    "sns.boxplot(x=\"isparent\", y=\"2WkPriorMoodStateIndex\", data=df)"
   ]
  },
  {
   "cell_type": "markdown",
   "metadata": {},
   "source": [
    "### Key Observations"
   ]
  },
  {
   "cell_type": "code",
   "execution_count": null,
   "metadata": {},
   "outputs": [],
   "source": [
    "#1.Downward trend in Covid worry and emotions/mental stress from April 2020 to April 2021\n",
    "\n",
    "#2.Covid worry and emotions/mental stress are positively correlated\n",
    "\n",
    "#3.For Country=186, emotions/mental stress was overall less than Country=187\n",
    "\n",
    "#4.For Country=186, covid worries was overall more than Country=187\n",
    "\n",
    "#5.Top 5 factors that affected emotions and mental states:\n",
    "#-In April 2020: Covid worries, 3 months prior emotion state, Life Changes, Mental Health and current Media use\n",
    "#-In May 2020: Life Changes, Covid worries, in person conversation impact, current Media use and positive Changes\n",
    "#-In November 2020: Life Changes, Covid worries, current Media use,in person conversation impact use and time spent outside\n",
    "#-In April 2021, Life Changes, Covid worries, rooms in house and internet addiction\n",
    "#As the covid worries are reducing, it's not the most important factor that affactes mental state\n",
    "\n",
    "#7.Adults who are not parent seem to be more stressed in April 2021"
   ]
  },
  {
   "cell_type": "code",
   "execution_count": null,
   "metadata": {},
   "outputs": [],
   "source": []
  },
  {
   "cell_type": "code",
   "execution_count": null,
   "metadata": {},
   "outputs": [],
   "source": []
  }
 ],
 "metadata": {
  "kernelspec": {
   "display_name": "Python 3 (ipykernel)",
   "language": "python",
   "name": "python3"
  },
  "language_info": {
   "codemirror_mode": {
    "name": "ipython",
    "version": 3
   },
   "file_extension": ".py",
   "mimetype": "text/x-python",
   "name": "python",
   "nbconvert_exporter": "python",
   "pygments_lexer": "ipython3",
   "version": "3.8.5"
  }
 },
 "nbformat": 4,
 "nbformat_minor": 2
}
